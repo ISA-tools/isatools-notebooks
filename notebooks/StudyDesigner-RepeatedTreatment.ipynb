{
 "cells": [
  {
   "cell_type": "markdown",
   "metadata": {},
   "source": [
    "Nine healthy male subjects provided plasma samples. They underwent 4\n",
    "regimens:\n",
    "\n",
    "1. Regimen A: food+, exercise-\n",
    "2. Regimen B: food-, exercise+\n",
    "3. Regimen C: food+, exercise+\n",
    "4. Regimen D: food-, exercise-\n"
   ]
  },
  {
   "cell_type": "code",
   "execution_count": 12,
   "metadata": {
    "collapsed": true
   },
   "outputs": [],
   "source": [
    "from isatools.create.models import *\n",
    "from isatools.create.models import MSAssayTopologyModifiers"
   ]
  },
  {
   "cell_type": "code",
   "execution_count": 13,
   "metadata": {
    "collapsed": true
   },
   "outputs": [],
   "source": [
    "food = StudyFactor(name='food')\n",
    "exercise = StudyFactor(name='exercise')"
   ]
  },
  {
   "cell_type": "code",
   "execution_count": 14,
   "metadata": {
    "collapsed": true
   },
   "outputs": [],
   "source": [
    "treatmentA = Treatment(treatment_type=INTERVENTIONS['CHEMICAL'],\n",
    "    factor_values=(\n",
    "        FactorValue(factor_name=food, value='food+'),\n",
    "        FactorValue(factor_name=exercise, value='exercise-'),\n",
    "    ))\n",
    "\n",
    "treatmentB = Treatment(treatment_type=INTERVENTIONS['CHEMICAL'],\n",
    "    factor_values=(\n",
    "        FactorValue(factor_name=food, value='food-'),\n",
    "        FactorValue(factor_name=exercise, value='exercise+'),\n",
    "    ))\n",
    "\n",
    "treatmentC = Treatment(treatment_type=INTERVENTIONS['CHEMICAL'],\n",
    "    factor_values=(\n",
    "        FactorValue(factor_name=food, value='food+'),\n",
    "        FactorValue(factor_name=exercise, value='exercise+'),\n",
    "    ))\n",
    "\n",
    "\n",
    "treatmentD = Treatment(treatment_type=INTERVENTIONS['CHEMICAL'],\n",
    "    factor_values=(\n",
    "        FactorValue(factor_name=food, value='food-'),\n",
    "        FactorValue(factor_name=exercise, value='exercise-'),\n",
    "    ))\n",
    "\n",
    "\n",
    "treatment_sequence_AB = TreatmentSequence(ranked_treatments= [(treatmentA, 1), (treatmentB, 2)])\n",
    "treatment_sequence_CD = TreatmentSequence(ranked_treatments= [(treatmentC, 1), (treatmentD, 2)])"
   ]
  },
  {
   "cell_type": "code",
   "execution_count": 15,
   "metadata": {
    "collapsed": false
   },
   "outputs": [
    {
     "name": "stdout",
     "output_type": "stream",
     "text": [
      "A protocol with name \"metabolite extraction\" has already been declared in the study\n",
      "A protocol with name \"metabolite extraction\" has already been declared in the study\n",
      "A protocol with name \"metabolite extraction\" has already been declared in the study\n",
      "A protocol with name \"metabolite extraction\" has already been declared in the study\n",
      "A protocol with name \"metabolite extraction\" has already been declared in the study\n",
      "A protocol with name \"metabolite extraction\" has already been declared in the study\n"
     ]
    }
   ],
   "source": [
    "## SampleAssayPlan\n",
    "sample_assay_plan = SampleAssayPlan()\n",
    "sample_assay_plan.group_size = 9\n",
    "\n",
    "sample_assay_plan.add_sample_type('plasma')\n",
    "sample_assay_plan.add_sample_plan_record('plasma', 1)\n",
    "\n",
    "isa_factory_1 = IsaModelObjectFactory(\n",
    "            sample_assay_plan=sample_assay_plan,\n",
    "            treatment_sequence=treatment_sequence_AB)\n",
    "\n",
    "isa_factory_2 = IsaModelObjectFactory(\n",
    "            sample_assay_plan=sample_assay_plan,\n",
    "            treatment_sequence=treatment_sequence_CD)\n",
    "\n",
    "\n",
    "\n",
    "ms_assay_type = AssayType(measurement_type='metabolite profiling',\n",
    "                                  technology_type='mass spectrometry')\n",
    "ms_assay_type.topology_modifiers = MSAssayTopologyModifiers(\n",
    "            injection_modes={'FIA', 'LC'},\n",
    "            acquisition_modes={'positive', 'negative'},\n",
    "            technical_replicates=2\n",
    "        )\n",
    "\n",
    "ngs_assay_type = AssayType(\n",
    "            measurement_type='nucleotide sequencing', technology_type='NGS')\n",
    "ngs_assay_type.topology_modifiers = DNASeqAssayTopologyModifiers(\n",
    "            technical_replicates=1, distinct_libraries=1\n",
    "        )\n",
    "sample_assay_plan.add_assay_type(ms_assay_type)\n",
    "sample_assay_plan.add_assay_type(ngs_assay_type)\n",
    "sample_assay_plan.add_assay_plan_record('plasma', ms_assay_type)\n",
    "sample_assay_plan.add_assay_plan_record('plasma', ngs_assay_type)\n",
    "\n",
    "ms_assay_type1 = AssayType(measurement_type='metabolite profiling',\n",
    "                                   technology_type='mass spectrometry')\n",
    "ms_assay_type1.topology_modifiers = MSAssayTopologyModifiers(\n",
    "            injection_modes={'LC'},\n",
    "            acquisition_modes={'negative'},\n",
    "            technical_replicates=1\n",
    "        )\n",
    "sample_assay_plan.add_assay_type(ms_assay_type1)\n",
    "ms_assay_type2 = AssayType(measurement_type='metabolite profiling',\n",
    "                                   technology_type='mass spectrometry')\n",
    "ms_assay_type2.topology_modifiers = MSAssayTopologyModifiers(\n",
    "            injection_modes={'FIA'},\n",
    "            acquisition_modes={'positive', 'negative'},\n",
    "            technical_replicates=2\n",
    "        )\n",
    "sample_assay_plan.add_assay_type(ms_assay_type2)\n",
    "\n",
    "sample_assay_plan.add_assay_type(ngs_assay_type)\n",
    "study_1 = isa_factory_1.create_assays_from_plan()\n",
    "study_2 = isa_factory_2.create_assays_from_plan()"
   ]
  },
  {
   "cell_type": "code",
   "execution_count": null,
   "metadata": {},
   "outputs": [],
   "source": [
    "# support for multiple treatment sequences\n",
    "study = InterventionStudyDesign()\n",
    "study.add_single_sequence_plan(treatment_sequence=treatment_sequence_AB, study_plan=sample_assay_plan)\n",
    "study.add_single_sequence_plan(treatment_sequence=treatment_sequence_CD, study_plan=sample_assay_plan)\n",
    "print(study.sequences_plan)"
   ]
  },
  {
   "cell_type": "markdown",
   "metadata": {
    "collapsed": true
   },
   "source": [
    "from isatools.isatab import dump_tables_to_dataframes as dumpdf\n",
    "from qgrid import show_grid"
   ]
  },
  {
   "cell_type": "code",
   "execution_count": 17,
   "metadata": {},
   "outputs": [
    {
     "data": {},
     "metadata": {},
     "output_type": "display_data"
    }
   ],
   "source": [
    "isa_investigation = Investigation(identifier='inv_dtp101')\n",
    "isa_study_1 = study_1\n",
    "isa_study_1.filename = 's_study_AB.txt'\n",
    "\n",
    "isa_study_2 = study_2\n",
    "isa_study_2.filename = 's_study_CD.txt'\n",
    "\n",
    "\n",
    "isa_investigation.studies = [isa_study_1, isa_study_2]\n",
    "dataframes = dumpdf(isa_investigation)\n",
    "sample_table = next(iter(dataframes.values()))\n",
    "show_grid(sample_table)"
   ]
  },
  {
   "cell_type": "code",
   "execution_count": 18,
   "metadata": {},
   "outputs": [
    {
     "data": {},
     "metadata": {},
     "output_type": "display_data"
    }
   ],
   "source": [
    "show_grid(dataframes['s_study_AB.txt'])"
   ]
  },
  {
   "cell_type": "code",
   "execution_count": 19,
   "metadata": {},
   "outputs": [
    {
     "data": {},
     "metadata": {},
     "output_type": "display_data"
    }
   ],
   "source": [
    "show_grid(dataframes['s_study_CD.txt'])"
   ]
  },
  {
   "cell_type": "code",
   "execution_count": 20,
   "metadata": {},
   "outputs": [
    {
     "ename": "NameError",
     "evalue": "name 'isa_factory' is not defined",
     "traceback": [
      "\u001b[0;31m---------------------------------------------------------------------------\u001b[0m",
      "\u001b[0;31mNameError\u001b[0m                                 Traceback (most recent call last)",
      "\u001b[0;32m<ipython-input-20-743ffdc79c35>\u001b[0m in \u001b[0;36m<module>\u001b[0;34m()\u001b[0m\n\u001b[0;32m----> 1\u001b[0;31m \u001b[0misa_investigation\u001b[0m\u001b[0;34m.\u001b[0m\u001b[0mstudies\u001b[0m \u001b[0;34m=\u001b[0m \u001b[0;34m[\u001b[0m\u001b[0misa_factory\u001b[0m\u001b[0;34m.\u001b[0m\u001b[0mcreate_assays_from_plan\u001b[0m\u001b[0;34m(\u001b[0m\u001b[0;34m)\u001b[0m\u001b[0;34m]\u001b[0m\u001b[0;34m\u001b[0m\u001b[0m\n\u001b[0m\u001b[1;32m      2\u001b[0m \u001b[0;32mfor\u001b[0m \u001b[0massay\u001b[0m \u001b[0;32min\u001b[0m \u001b[0misa_investigation\u001b[0m\u001b[0;34m.\u001b[0m\u001b[0mstudies\u001b[0m\u001b[0;34m[\u001b[0m\u001b[0;34m-\u001b[0m\u001b[0;36m1\u001b[0m\u001b[0;34m]\u001b[0m\u001b[0;34m.\u001b[0m\u001b[0massays\u001b[0m\u001b[0;34m:\u001b[0m\u001b[0;34m\u001b[0m\u001b[0m\n\u001b[1;32m      3\u001b[0m     print('Assay generated: {0}, {1} samples, {2} processes, {3} data files'\n\u001b[1;32m      4\u001b[0m           .format(assay.filename, len(assay.samples), len(assay.process_sequence), len(assay.data_files)))\n\u001b[1;32m      5\u001b[0m \u001b[0mdataframes\u001b[0m \u001b[0;34m=\u001b[0m \u001b[0mdumpdf\u001b[0m\u001b[0;34m(\u001b[0m\u001b[0misa_investigation\u001b[0m\u001b[0;34m)\u001b[0m\u001b[0;34m\u001b[0m\u001b[0m\n",
      "\u001b[0;31mNameError\u001b[0m: name 'isa_factory' is not defined"
     ],
     "output_type": "error"
    }
   ],
   "source": [
    "isa_investigation.studies = [isa_factory_1.create_assays_from_plan()]\n",
    "for assay in isa_investigation.studies[-1].assays:\n",
    "    print('Assay generated: {0}, {1} samples, {2} processes, {3} data files'\n",
    "          .format(assay.filename, len(assay.samples), len(assay.process_sequence), len(assay.data_files)))\n",
    "dataframes = dumpdf(isa_investigation)"
   ]
  },
  {
   "cell_type": "code",
   "execution_count": null,
   "metadata": {
    "collapsed": true
   },
   "outputs": [],
   "source": [
    ""
   ]
  }
 ],
 "metadata": {
  "kernelspec": {
   "display_name": "Python 3",
   "language": "python",
   "name": "python3"
  },
  "language_info": {
   "codemirror_mode": {
    "name": "ipython",
    "version": 3.0
   },
   "file_extension": ".py",
   "mimetype": "text/x-python",
   "name": "python",
   "nbconvert_exporter": "python",
   "pygments_lexer": "ipython3",
   "version": "3.4.3"
  }
 },
 "nbformat": 4,
 "nbformat_minor": 0
}