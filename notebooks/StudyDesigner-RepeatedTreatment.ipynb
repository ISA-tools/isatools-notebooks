{
 "cells": [
  {
   "cell_type": "markdown",
   "metadata": {},
   "source": [
    "Nine healthy male subjects provided plasma samples. They underwent 4\n",
    "regimens:\n",
    "\n",
    "1. Regimen A: food+, exercise-\n",
    "2. Regimen B: food-, exercise+\n",
    "3. Regimen C: food+, exercise+\n",
    "4. Regimen D: food-, exercise-\n"
   ]
  },
  {
   "cell_type": "code",
   "execution_count": 76,
   "metadata": {
    "collapsed": true
   },
   "outputs": [],
   "source": [
    "from isatools.create.models import *\n",
    "from isatools.create.models import MSAssayTopologyModifiers"
   ]
  },
  {
   "cell_type": "code",
   "execution_count": 77,
   "metadata": {
    "collapsed": true
   },
   "outputs": [],
   "source": [
    "food = StudyFactor(name='food')\n",
    "exercise = StudyFactor(name='exercise')"
   ]
  },
  {
   "cell_type": "code",
   "execution_count": 78,
   "metadata": {},
   "outputs": [],
   "source": [
    "treatmentA = Treatment(treatment_type=INTERVENTIONS['CHEMICAL'],\n",
    "    factor_values=(\n",
    "        FactorValue(factor_name=food, value='food+'),\n",
    "        FactorValue(factor_name=exercise, value='exercise-'),\n",
    "    ))\n",
    "\n",
    "treatmentB = Treatment(treatment_type=INTERVENTIONS['CHEMICAL'],\n",
    "    factor_values=(\n",
    "        FactorValue(factor_name=food, value='food-'),\n",
    "        FactorValue(factor_name=exercise, value='exercise+'),\n",
    "    ))\n",
    "\n",
    "treatmentC = Treatment(treatment_type=INTERVENTIONS['CHEMICAL'],\n",
    "    factor_values=(\n",
    "        FactorValue(factor_name=food, value='food+'),\n",
    "        FactorValue(factor_name=exercise, value='exercise+'),\n",
    "    ))\n",
    "\n",
    "\n",
    "treatmentD = Treatment(treatment_type=INTERVENTIONS['CHEMICAL'],\n",
    "    factor_values=(\n",
    "        FactorValue(factor_name=food, value='food-'),\n",
    "        FactorValue(factor_name=exercise, value='exercise-'),\n",
    "    ))\n",
    "\n",
    "\n",
    "treatment_sequence_AB = TreatmentSequence(ranked_treatments= [(treatmentA,1), (treatmentB, 2)])\n",
    "treatment_sequence_CD = TreatmentSequence(ranked_treatments= [(treatmentC,1), (treatmentD, 2)])\n",
    "\n",
    "            "
   ]
  },
  {
   "cell_type": "code",
   "execution_count": 79,
   "metadata": {},
   "outputs": [
    {
     "name": "stdout",
     "output_type": "stream",
     "text": [
      "A protocol with name \"metabolite extraction\" has already been declared in the study\n",
      "A protocol with name \"metabolite extraction\" has already been declared in the study\n",
      "A protocol with name \"metabolite extraction\" has already been declared in the study\n"
     ]
    },
    {
     "data": {
      "application/vnd.jupyter.widget-view+json": {
       "model_id": "e08021a76bdf43c0b9165e84cefb983c"
      }
     },
     "metadata": {},
     "output_type": "display_data"
    }
   ],
   "source": [
    "sample_assay_plan = SampleAssayPlan()\n",
    "sample_assay_plan.group_size = 9\n",
    "\n",
    "sample_assay_plan.add_sample_type('plasma')\n",
    "\n",
    "sample_assay_plan.add_sample_plan_record('plasma', 1)\n",
    "\n",
    "isa_factory = IsaModelObjectFactory(\n",
    "            sample_assay_plan=sample_assay_plan,\n",
    "            treatment_sequence=treatment_sequence_AB)\n",
    "study = isa_factory.create_study_from_plan()\n",
    "\n",
    "ms_assay_type = AssayType(measurement_type='metabolite profiling',\n",
    "                                  technology_type='mass spectrometry')\n",
    "ms_assay_type.topology_modifiers = MSAssayTopologyModifiers(\n",
    "            injection_modes={'FIA', 'LC'},\n",
    "            acquisition_modes={'positive', 'negative'},\n",
    "            technical_replicates=2\n",
    "        )\n",
    "\n",
    "ngs_assay_type = AssayType(\n",
    "            measurement_type='nucleotide sequencing', technology_type='NGS')\n",
    "ngs_assay_type.topology_modifiers = DNASeqAssayTopologyModifiers(\n",
    "            technical_replicates=1, distinct_libraries=1\n",
    "        )\n",
    "sample_assay_plan.add_assay_type(ms_assay_type)\n",
    "sample_assay_plan.add_assay_type(ngs_assay_type)\n",
    "sample_assay_plan.add_assay_plan_record('plasma', ms_assay_type)\n",
    "sample_assay_plan.add_assay_plan_record('plasma', ngs_assay_type)\n",
    "\n",
    "ms_assay_type1 = AssayType(measurement_type='metabolite profiling',\n",
    "                                   technology_type='mass spectrometry')\n",
    "ms_assay_type1.topology_modifiers = MSAssayTopologyModifiers(\n",
    "            injection_modes={'LC'},\n",
    "            acquisition_modes={'negative'},\n",
    "            technical_replicates=1\n",
    "        )\n",
    "sample_assay_plan.add_assay_type(ms_assay_type1)\n",
    "ms_assay_type2 = AssayType(measurement_type='metabolite profiling',\n",
    "                                   technology_type='mass spectrometry')\n",
    "ms_assay_type2.topology_modifiers = MSAssayTopologyModifiers(\n",
    "            injection_modes={'FIA'},\n",
    "            acquisition_modes={'positive', 'negative'},\n",
    "            technical_replicates=2\n",
    "        )\n",
    "sample_assay_plan.add_assay_type(ms_assay_type2)\n",
    "\n",
    "sample_assay_plan.add_assay_type(ngs_assay_type)\n",
    "study = isa_factory.create_assays_from_plan()\n",
    "\n",
    "from isatools.isatab import dump_tables_to_dataframes as dumpdf\n",
    "from qgrid import show_grid\n",
    "\n",
    "isa_investigation = Investigation(identifier='inv_dtp101')\n",
    "isa_study = isa_factory.create_study_from_plan()\n",
    "isa_study.filename = 's_study.txt'\n",
    "isa_investigation.studies = [isa_study]\n",
    "dataframes = dumpdf(isa_investigation)\n",
    "sample_table = next(iter(dataframes.values()))\n",
    "show_grid(sample_table)\n",
    "\n",
    "show_grid(dataframes['s_study.txt'])\n",
    "\n"
   ]
  },
  {
   "cell_type": "code",
   "execution_count": 80,
   "metadata": {},
   "outputs": [
    {
     "name": "stdout",
     "output_type": "stream",
     "text": [
      "A protocol with name \"metabolite extraction\" has already been declared in the study\n",
      "A protocol with name \"metabolite extraction\" has already been declared in the study\n",
      "A protocol with name \"metabolite extraction\" has already been declared in the study\n",
      "Assay generated: a_plasma_ms_LC_negative_assay.txt, 36 samples, 108 processes, 72 data files\n",
      "Assay generated: a_plasma_ms_LC_positive_assay.txt, 36 samples, 108 processes, 72 data files\n",
      "Assay generated: a_plasma_ms_FIA_negative_assay.txt, 36 samples, 108 processes, 72 data files\n",
      "Assay generated: a_plasma_ms_FIA_positive_assay.txt, 36 samples, 108 processes, 72 data files\n"
     ]
    }
   ],
   "source": [
    "isa_investigation.studies = [isa_factory.create_assays_from_plan()]\n",
    "for assay in isa_investigation.studies[-1].assays:\n",
    "    print('Assay generated: {0}, {1} samples, {2} processes, {3} data files'\n",
    "          .format(assay.filename, len(assay.samples), len(assay.process_sequence), len(assay.data_files)))\n",
    "dataframes = dumpdf(isa_investigation)\n",
    "\n"
   ]
  },
  {
   "cell_type": "code",
   "execution_count": null,
   "metadata": {
    "collapsed": true
   },
   "outputs": [],
   "source": []
  }
 ],
 "metadata": {
  "kernelspec": {
   "display_name": "Python 3",
   "language": "python",
   "name": "python3"
  },
  "language_info": {
   "codemirror_mode": {
    "name": "ipython",
    "version": 3
   },
   "file_extension": ".py",
   "mimetype": "text/x-python",
   "name": "python",
   "nbconvert_exporter": "python",
   "pygments_lexer": "ipython3",
   "version": "3.5.1"
  }
 },
 "nbformat": 4,
 "nbformat_minor": 1
}
