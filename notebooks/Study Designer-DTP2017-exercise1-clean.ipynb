{
 "cells": [
  {
   "cell_type": "markdown",
   "metadata": {},
   "source": [
    "# Chemical Intervention on Rat\n",
    "\n",
    "Experiment Narrative:\n",
    "---------------------\n",
    "\n",
    "Male Fisher F344 rats purchased from Charles River were treated with 3 commonly used painkillers, namely acetylsalicilic acid, acetaminophen and ibuprofen, at 2 distinct dose levels, delivered per os.\n",
    "Equal number of animals (n=5) were allocated to each group defined by a compound, dose level and duration post exposure combination.\n",
    "Following sacrifice performed by cervical dislocation and exsanguination preceded by anesthesia (ketamine and xylazine solution), blood and kidney specimens were collected .\n",
    "Blood samples were collected at sacrifice time and immediately place in RNALater. Blood Metabolites were separated in water soluble and lipophilic fraction. PBMC were collected, RNA extracted and transcription profiling performed using paired-end RNA-Seq on Illumina sequencing platform using a Illumina HiSeq 2000 instrument. Total RNA were also extracted from Kidney samples and mRNA sequencing using the same approach.\n",
    "Metabolite profiling was performed on the polar fraction only, using flow injection analysis mass spectrometry on an Agilent 6550 iFunnel Q-TOF Mass Sprectrometry platform. Each fraction was injected twice and data was acquired in both ionization modes (positive mode and negative mode).\n",
    "Raw data file were saved in native instrument format and later converted to HUPO PSI standard format for mass spectrometry.\n"
   ]
  },
  {
   "cell_type": "code",
   "execution_count": 1,
   "metadata": {
    "collapsed": true
   },
   "outputs": [],
   "source": [
    "from ipywidgets import (RadioButtons, VBox, HBox, Layout, Label, Checkbox, Text, IntSlider)\n",
    "from qgrid import show_grid\n",
    "label_layout = Layout(width='100%')\n",
    "from isatools.create.models import *\n",
    "from isatools.model import Investigation\n",
    "from isatools.isatab import dump_tables_to_dataframes as dumpdf\n",
    "import qgrid\n",
    "qgrid.nbinstall(overwrite=True)"
   ]
  },
  {
   "cell_type": "markdown",
   "metadata": {},
   "source": [
    "## Study Design Description and Treatment Plans"
   ]
  },
  {
   "cell_type": "markdown",
   "metadata": {},
   "source": [
    "### Study design type\n",
    "\n",
    "Based on the textual description provided, specify the type of study being conducted, identify the different independent variables and their respective levels."
   ]
  },
  {
   "cell_type": "markdown",
   "metadata": {},
   "source": [
    "### Intervention study\n",
    "\n",
    "If specifying an intervention study, please answer the following:\n",
    " - Are study subjects exposed to a single intervention or to multiple intervention?\n",
    "  \n",
    " \n",
    "*Note: if you chose 'observation' as the study design type, the following choices will be disabled and you should skip to the Observation study section*\n",
    " "
   ]
  },
  {
   "cell_type": "code",
   "execution_count": 2,
   "metadata": {
    "collapsed": true
   },
   "outputs": [],
   "source": [
    "study_design = InterventionStudyDesign()"
   ]
  },
  {
   "cell_type": "code",
   "execution_count": 3,
   "metadata": {},
   "outputs": [
    {
     "name": "stdout",
     "output_type": "stream",
     "text": [
      "Design type: factorial\n"
     ]
    }
   ],
   "source": [
    "design_type = '' \n",
    "print('Design type: {}'.format(design_type))"
   ]
  },
  {
   "cell_type": "markdown",
   "metadata": {},
   "source": [
    "#### Factorial design - intervention types\n",
    "\n",
    "In the context of the experiment, identify the independent variables and their associated levels.\n",
    "How many treatment group are defined? \n"
   ]
  },
  {
   "cell_type": "code",
   "execution_count": 4,
   "metadata": {
    "collapsed": true
   },
   "outputs": [],
   "source": [
    "level_uis = []\n",
    "agent_levels = Text(\n",
    "        description='Agent:',\n",
    "        value='',\n",
    "        placeholder='',\n",
    "\n",
    "    )\n",
    "dose_levels = Text(\n",
    "        description='Dose levels:',\n",
    "        value='',\n",
    "        placeholder='',\n",
    "\n",
    "    )\n",
    "duration_of_exposure_levels = Text(\n",
    "        description='Duration post exposure:',\n",
    "        value='',\n",
    "        placeholder='',\n",
    ")"
   ]
  },
  {
   "cell_type": "markdown",
   "metadata": {},
   "source": [
    "# Computing the Number of Unique Treatment Groups/Study Groups: \n",
    "\n",
    "Using the ISA-API create mode, determine the total number of treatment groups."
   ]
  },
  {
   "cell_type": "code",
   "execution_count": 5,
   "metadata": {
    "collapsed": true
   },
   "outputs": [
    {
     "name": "stdout",
     "output_type": "stream",
     "text": [
      "Number of study groups (treatment groups): 18\n"
     ]
    }
   ],
   "source": [
    "factory = TreatmentFactory(intervention_type=INTERVENTIONS['CHEMICAL'], factors=BASE_FACTORS)\n",
    "for agent_level in agent_levels.value.split(','):\n",
    "    factory.add_factor_value(BASE_FACTORS[0], agent_level.strip())\n",
    "for dose_level in dose_levels.value.split(','):\n",
    "    factory.add_factor_value(BASE_FACTORS[1], dose_level.strip())\n",
    "for duration_of_exposure_level in duration_of_exposure_levels.value.split(','):\n",
    "    factory.add_factor_value(BASE_FACTORS[2], duration_of_exposure_level.strip())\n",
    "    \n",
    "print('Number of study groups (treatment groups): {}'.format(len(factory.compute_full_factorial_design())))\n",
    "\n",
    "treatment_sequence = TreatmentSequence(ranked_treatments=factory.compute_full_factorial_design())"
   ]
  },
  {
   "cell_type": "markdown",
   "metadata": {},
   "source": [
    "# Setting Study Group Sizes:\n",
    "\n",
    "Next, specify if all study groups have the same size (in other words, do they have the same number of subjects?)\n",
    "\n",
    "What type of replication this is? \n",
    "\n",
    "From the following list of terms, select which that apply to the particular study:"
   ]
  },
  {
   "cell_type": "code",
   "execution_count": 6,
   "metadata": {},
   "outputs": [
    {
     "data": {},
     "metadata": {},
     "output_type": "display_data"
    }
   ],
   "source": [
    "group_balanced = RadioButtons(options=['Balanced', 'Unbalanced'], value='Balanced', disabled=False)\n",
    "VBox([Label('Are study groups balanced?', layout=label_layout), group_balanced])"
   ]
  },
  {
   "cell_type": "code",
   "execution_count": 7,
   "metadata": {},
   "outputs": [
    {
     "data": {},
     "metadata": {},
     "output_type": "display_data"
    }
   ],
   "source": [
    "group_size = IntSlider(value=1, min=0, max=100, step=1, description='Group size:', disabled=False, continuous_update=False, orientation='horizontal', readout=True, readout_format='d')\n",
    "group_size"
   ]
  },
  {
   "cell_type": "code",
   "execution_count": 8,
   "metadata": {
    "collapsed": true
   },
   "outputs": [],
   "source": [
    "group_size.value=\"1\"\n",
    "plan = SampleAssayPlan(group_size=group_size.value)"
   ]
  },
  {
   "cell_type": "markdown",
   "metadata": {},
   "source": [
    "# Establishing the sample collection plan\n",
    "\n",
    "For each study subject, determine the number of unique specimens collected over the course of the study.\n",
    "Provide the number of subject per study group:"
   ]
  },
  {
   "cell_type": "code",
   "execution_count": 9,
   "metadata": {
    "collapsed": true
   },
   "outputs": [],
   "source": [
    "collection_plan = {\"biomaterial\":1} #dictionary key should be a 'biological specimen' (e.g. brain), dictionary value should be an integer\n",
    "\n",
    "for key in collection_plan:\n",
    "    sample_type = key\n",
    "    collected_sample_type_nb = collection_plan[key]\n",
    "    #print(key, collected_sample_type_nb)\n",
    "    plan.add_sample_type(sample_type)\n",
    "    plan.add_sample_plan_record(sample_type,collected_sample_type_nb)\n",
    "    isa_object_factory = IsaModelObjectFactory(plan, treatment_sequence)"
   ]
  },
  {
   "cell_type": "markdown",
   "metadata": {},
   "source": [
    "How many times each of the samples have been collected?"
   ]
  },
  {
   "cell_type": "markdown",
   "metadata": {},
   "source": [
    "## Create an ISA Study Table reflecting the study design and the sampling plan:\n",
    "\n",
    "In the following section, the task is to build ISA objects from the sample plan and render the study-sample table.\n"
   ]
  },
  {
   "cell_type": "markdown",
   "metadata": {},
   "source": [
    "*Check state of the Sample Assay Plan after entering sample planning information:*"
   ]
  },
  {
   "cell_type": "code",
   "execution_count": 10,
   "metadata": {},
   "outputs": [
    {
     "data": {},
     "metadata": {},
     "output_type": "display_data"
    }
   ],
   "source": [
    "isa_investigation = Investigation(identifier='inv_dtp-exercise-1')\n",
    "isa_study = isa_object_factory.create_study_from_plan()\n",
    "isa_study.filename = 's_study.txt'\n",
    "isa_investigation.studies = [isa_study]\n",
    "dataframes = dumpdf(isa_investigation)\n",
    "sample_table = next(iter(dataframes.values()))\n",
    "show_grid(sample_table)"
   ]
  },
  {
   "cell_type": "code",
   "execution_count": 11,
   "metadata": {
    "collapsed": true
   },
   "outputs": [
    {
     "name": "stdout",
     "output_type": "stream",
     "text": [
      "Total rows generated: 180\n"
     ]
    }
   ],
   "source": [
    "print('Total rows generated: {}'.format(len(sample_table)))"
   ]
  },
  {
   "cell_type": "markdown",
   "metadata": {},
   "source": [
    "# Saving key study design information as a JSON document.\n",
    "\n",
    "This section is meant to show how to serialize key study design descriptor as a summarized version. \n",
    "Why is this relevant ?\n",
    "How would you use this feature. List 3 possible use."
   ]
  },
  {
   "cell_type": "code",
   "execution_count": 12,
   "metadata": {
    "scrolled": true,
    "collapsed": true
   },
   "outputs": [
    {
     "name": "stdout",
     "output_type": "stream",
     "text": [
      "{\n",
      "    \"assay_plan\": [],\n",
      "    \"assay_types\": [],\n",
      "    \"group_size\": 5,\n",
      "    \"sample_plan\": [\n",
      "        {\n",
      "            \"sample_type\": \"Kidney\",\n",
      "            \"sampling_size\": 1\n",
      "        },\n",
      "        {\n",
      "            \"sample_type\": \"Blood\",\n",
      "            \"sampling_size\": 1\n",
      "        }\n",
      "    ],\n",
      "    \"sample_qc_plan\": [],\n",
      "    \"sample_types\": [\n",
      "        \"Blood\",\n",
      "        \"Kidney\"\n",
      "    ]\n",
      "}\n"
     ]
    }
   ],
   "source": [
    "import json\n",
    "from isatools.create.models import SampleAssayPlanEncoder\n",
    "print(json.dumps(plan, cls=SampleAssayPlanEncoder, sort_keys=True, indent=4, separators=(',', ': ')))"
   ]
  },
  {
   "cell_type": "markdown",
   "metadata": {},
   "source": [
    "## Documenting the Assay and Data Acquisition Plans:\n",
    "\n",
    "From the textual description, identify the Response variables / Dependent Variables"
   ]
  },
  {
   "cell_type": "markdown",
   "metadata": {},
   "source": [
    "### Select assay technology type to map to sample type from sample plan. Check against ISA configuration to obtain vetted values for Measurement Type and Technology type.\n",
    "ISA configurations can be accessed from "
   ]
  },
  {
   "cell_type": "code",
   "execution_count": null,
   "metadata": {
    "collapsed": true
   },
   "outputs": [
    {
     "name": "stdout",
     "output_type": "stream",
     "text": [
      "metabolite profiling  using  mass spectrometry\n",
      "transcription profiling  using  nucleotide sequencing\n"
     ]
    }
   ],
   "source": [
    "assay_types = set()\n",
    "\n",
    "assay_type1 = AssayType(measurement_type='', technology_type='')\n",
    "assay_type2 = AssayType(measurement_type='', technology_type='')\n",
    "\n",
    "assay_types.add(assay_type1)\n",
    "assay_types.add(assay_type2)\n",
    "for x in assay_types:\n",
    "        print(x.measurement_type.term,\" using \", x.technology_type.term)\n"
   ]
  },
  {
   "cell_type": "markdown",
   "metadata": {},
   "source": [
    "### Assay Plan Modifiers (underlying workflow graph modifications)"
   ]
  },
  {
   "cell_type": "code",
   "execution_count": 14,
   "metadata": {},
   "outputs": [
    {
     "data": {},
     "metadata": {},
     "output_type": "display_data"
    }
   ],
   "source": [
    "ngs_technical_replicates = IntSlider(value=1, min=0, max=5, step=1, description='Technical repeats:', disabled=False, continuous_update=False, orientation='horizontal', readout=True, readout_format='d')\n",
    "ngs_technical_replicates\n"
   ]
  },
  {
   "cell_type": "code",
   "execution_count": 15,
   "metadata": {
    "collapsed": true
   },
   "outputs": [],
   "source": [
    "ms_tech_rep = 1"
   ]
  },
  {
   "cell_type": "markdown",
   "metadata": {},
   "source": [
    "## Generate ISA model objects from the assay plan and render the assay table"
   ]
  },
  {
   "cell_type": "markdown",
   "metadata": {},
   "source": [
    "*Check state of Sample Assay Plan after entering assay plan information:*"
   ]
  },
  {
   "cell_type": "code",
   "execution_count": 16,
   "metadata": {
    "scrolled": true,
    "collapsed": true
   },
   "outputs": [
    {
     "name": "stdout",
     "output_type": "stream",
     "text": [
      "Technical replicates: 1\n",
      "Added assay plan: Kidney -> transcription profiling/nucleotide sequencing\n",
      "Instruments: ['Illumina HiSeq 2000']\n"
     ]
    }
   ],
   "source": [
    "sequencing_instruments = set()\n",
    "sequencing_instruments.add('<some value here>') # check the experiment description to obtain value.\n",
    "\n",
    "top_mods_seq = DNASeqAssayTopologyModifiers(technical_replicates=ngs_technical_replicates.value, instruments=sequencing_instruments)\n",
    "\n",
    "print('Technical replicates: {}'.format(top_mods_seq.technical_replicates))\n",
    "\n",
    "assay_type1.topology_modifiers = top_mods_seq\n",
    "\n",
    "plan.add_assay_type(assay_type1)\n",
    "plan.add_assay_plan_record(\"<some value here>\", assay_type1)  # check the experiment description to obtain value.\n",
    "assay_plan = next(iter(plan.assay_plan))\n",
    "\n",
    "print('Added assay plan: {0} -> {1}/{2}'.format(assay_plan[0].value.term, assay_plan[1].measurement_type.term, assay_plan[1].technology_type.term))\n",
    "if len(top_mods_seq.instruments) > 0:\n",
    "    print('Instruments: {}'.format(list(top_mods_seq.instruments)))"
   ]
  },
  {
   "cell_type": "code",
   "execution_count": 17,
   "metadata": {
    "collapsed": true
   },
   "outputs": [
    {
     "name": "stdout",
     "output_type": "stream",
     "text": [
      "{\n",
      "    \"assay_plan\": [\n",
      "        {\n",
      "            \"assay_type\": {\n",
      "                \"measurement_type\": \"transcription profiling\",\n",
      "                \"technology_type\": \"nucleotide sequencing\",\n",
      "                \"topology_modifiers\": {\n",
      "                    \"distinct_libraries\": 0,\n",
      "                    \"instruments\": [\n",
      "                        \"Illumina HiSeq 2000\"\n",
      "                    ],\n",
      "                    \"technical_replicates\": 1\n",
      "                }\n",
      "            },\n",
      "            \"sample_type\": \"Kidney\"\n",
      "        }\n",
      "    ],\n",
      "    \"assay_types\": [\n",
      "        {\n",
      "            \"measurement_type\": \"transcription profiling\",\n",
      "            \"technology_type\": \"nucleotide sequencing\",\n",
      "            \"topology_modifiers\": {\n",
      "                \"distinct_libraries\": 0,\n",
      "                \"instruments\": [\n",
      "                    \"Illumina HiSeq 2000\"\n",
      "                ],\n",
      "                \"technical_replicates\": 1\n",
      "            }\n",
      "        }\n",
      "    ],\n",
      "    \"group_size\": 5,\n",
      "    \"sample_plan\": [\n",
      "        {\n",
      "            \"sample_type\": \"Kidney\",\n",
      "            \"sampling_size\": 1\n",
      "        },\n",
      "        {\n",
      "            \"sample_type\": \"Blood\",\n",
      "            \"sampling_size\": 1\n",
      "        }\n",
      "    ],\n",
      "    \"sample_qc_plan\": [],\n",
      "    \"sample_types\": [\n",
      "        \"Blood\",\n",
      "        \"Kidney\"\n",
      "    ]\n",
      "}\n"
     ]
    }
   ],
   "source": [
    "print(json.dumps(plan, cls=SampleAssayPlanEncoder, sort_keys=True, indent=4, separators=(',', ': ')))"
   ]
  },
  {
   "cell_type": "code",
   "execution_count": 18,
   "metadata": {
    "collapsed": true
   },
   "outputs": [
    {
     "name": "stdout",
     "output_type": "stream",
     "text": [
      "no chromatography used or no information supplied\n",
      "Data acquisition instruments: ['Waters']\n",
      "Injection modes: ['FIA']\n",
      "Acquisition modes: ['positive', 'negative']\n"
     ]
    }
   ],
   "source": [
    "\n",
    "chromatography_instruments = set()\n",
    "ms_instruments = set()\n",
    "injection_modes = set()\n",
    "acquisition_modes = set()\n",
    "\n",
    "ms_instruments.add('<some value here>') # check the experiment description to obtain value.\n",
    "injection_modes.add('<some value here>')  # check the experiment description to obtain value.\n",
    "acquisition_modes.add('<some value here>') # check the experiment description to obtain value.\n",
    "acquisition_modes.add('<some value here>') # check the experiment description to obtain value.\n",
    "top_mods_ms = MSAssayTopologyModifiers(technical_replicates=ms_tech_rep, injection_modes=injection_modes, acquisition_modes=acquisition_modes, instruments=ms_instruments, chromatography_instruments=chromatography_instruments)\n",
    "assay_type2.topology_modifiers = top_mods_ms\n",
    "\n",
    "if len(top_mods_ms.chromatography_instruments) > 0:\n",
    "    print('Chromatography instruments: {}'.format(list(top_mods_ms.chromatography_instruments)))\n",
    "else:\n",
    "    print('no chromatography used or no information supplied')\n",
    "\n",
    "if len(top_mods_ms.instruments) > 0:\n",
    "    print('Data acquisition instruments: {}'.format(list(top_mods_ms.instruments)))    \n",
    "if len(top_mods_ms.injection_modes) > 0:\n",
    "    print('Injection modes: {}'.format(list(top_mods_ms.injection_modes)))\n",
    "if len(top_mods_ms.acquisition_modes) > 0:\n",
    "    print('Acquisition modes: {}'.format(list(top_mods_ms.acquisition_modes)))\n",
    "\n",
    "\n",
    "plan.add_assay_type(assay_type2)\n",
    "plan.add_assay_plan_record(\"Blood\", assay_type2)\n",
    "\n",
    "assay_plan = next(iter(plan.assay_plan))\n",
    "\n"
   ]
  },
  {
   "cell_type": "code",
   "execution_count": 19,
   "metadata": {
    "collapsed": true
   },
   "outputs": [
    {
     "name": "stdout",
     "output_type": "stream",
     "text": [
      "{\n",
      "    \"assay_plan\": [\n",
      "        {\n",
      "            \"assay_type\": {\n",
      "                \"measurement_type\": \"transcription profiling\",\n",
      "                \"technology_type\": \"nucleotide sequencing\",\n",
      "                \"topology_modifiers\": {\n",
      "                    \"distinct_libraries\": 0,\n",
      "                    \"instruments\": [\n",
      "                        \"Illumina HiSeq 2000\"\n",
      "                    ],\n",
      "                    \"technical_replicates\": 1\n",
      "                }\n",
      "            },\n",
      "            \"sample_type\": \"Kidney\"\n",
      "        },\n",
      "        {\n",
      "            \"assay_type\": {\n",
      "                \"measurement_type\": \"metabolite profiling\",\n",
      "                \"technology_type\": \"mass spectrometry\",\n",
      "                \"topology_modifiers\": {\n",
      "                    \"acquisition_modes\": [\n",
      "                        \"negative\",\n",
      "                        \"positive\"\n",
      "                    ],\n",
      "                    \"chromatography_instruments\": [],\n",
      "                    \"injection_modes\": [\n",
      "                        \"FIA\"\n",
      "                    ],\n",
      "                    \"instruments\": [\n",
      "                        \"Waters\"\n",
      "                    ],\n",
      "                    \"technical_replicates\": 2\n",
      "                }\n",
      "            },\n",
      "            \"sample_type\": \"Blood\"\n",
      "        }\n",
      "    ],\n",
      "    \"assay_types\": [\n",
      "        {\n",
      "            \"measurement_type\": \"transcription profiling\",\n",
      "            \"technology_type\": \"nucleotide sequencing\",\n",
      "            \"topology_modifiers\": {\n",
      "                \"distinct_libraries\": 0,\n",
      "                \"instruments\": [\n",
      "                    \"Illumina HiSeq 2000\"\n",
      "                ],\n",
      "                \"technical_replicates\": 1\n",
      "            }\n",
      "        },\n",
      "        {\n",
      "            \"measurement_type\": \"metabolite profiling\",\n",
      "            \"technology_type\": \"mass spectrometry\",\n",
      "            \"topology_modifiers\": {\n",
      "                \"acquisition_modes\": [\n",
      "                    \"negative\",\n",
      "                    \"positive\"\n",
      "                ],\n",
      "                \"chromatography_instruments\": [],\n",
      "                \"injection_modes\": [\n",
      "                    \"FIA\"\n",
      "                ],\n",
      "                \"instruments\": [\n",
      "                    \"Waters\"\n",
      "                ],\n",
      "                \"technical_replicates\": 2\n",
      "            }\n",
      "        }\n",
      "    ],\n",
      "    \"group_size\": 5,\n",
      "    \"sample_plan\": [\n",
      "        {\n",
      "            \"sample_type\": \"Kidney\",\n",
      "            \"sampling_size\": 1\n",
      "        },\n",
      "        {\n",
      "            \"sample_type\": \"Blood\",\n",
      "            \"sampling_size\": 1\n",
      "        }\n",
      "    ],\n",
      "    \"sample_qc_plan\": [],\n",
      "    \"sample_types\": [\n",
      "        \"Blood\",\n",
      "        \"Kidney\"\n",
      "    ]\n",
      "}\n"
     ]
    }
   ],
   "source": [
    "print(json.dumps(plan, cls=SampleAssayPlanEncoder, sort_keys=True, indent=4, separators=(',', ': ')))"
   ]
  },
  {
   "cell_type": "code",
   "execution_count": 20,
   "metadata": {
    "collapsed": true
   },
   "outputs": [
    {
     "name": "stdout",
     "output_type": "stream",
     "text": [
      "A protocol with name \"metabolite extraction\" has already been declared in the study\n",
      "Assay generated: a_Kidney_dnaseq_Illumina HiSeq 2000_assay.txt, 90 samples, 270 processes, 90 data files\n",
      "Assay generated: a_Blood_ms_FIA_positive_assay.txt, 90 samples, 270 processes, 180 data files\n",
      "Assay generated: a_Blood_ms_FIA_negative_assay.txt, 90 samples, 270 processes, 180 data files\n"
     ]
    }
   ],
   "source": [
    "isa_investigation.studies = [isa_object_factory.create_assays_from_plan()]\n",
    "for assay in isa_investigation.studies[-1].assays:\n",
    "    print('Assay generated: {0}, {1} samples, {2} processes, {3} data files'\n",
    "          .format(assay.filename, len(assay.samples), len(assay.process_sequence), len(assay.data_files)))\n",
    "dataframes = dumpdf(isa_investigation)"
   ]
  },
  {
   "cell_type": "code",
   "execution_count": 21,
   "metadata": {},
   "outputs": [
    {
     "data": {},
     "metadata": {},
     "output_type": "display_data"
    }
   ],
   "source": [
    "show_grid(dataframes[next(iter(dataframes.keys()))])"
   ]
  },
  {
   "cell_type": "code",
   "execution_count": 24,
   "metadata": {},
   "outputs": [
    {
     "data": {},
     "metadata": {},
     "output_type": "display_data"
    }
   ],
   "source": [
    "show_grid(dataframes['a_<specimen type>_ms_<injection mode>_<acquisition mode>_assay.txt'])"
   ]
  },
  {
   "cell_type": "code",
   "execution_count": 25,
   "metadata": {},
   "outputs": [
    {
     "data": {},
     "metadata": {},
     "output_type": "display_data"
    }
   ],
   "source": [
    "show_grid(dataframes['a__<specimen type>_ms_<injection mode>_<acquisition mode>_assay.txt'])"
   ]
  },
  {
   "cell_type": "code",
   "execution_count": null,
   "metadata": {
    "collapsed": true
   },
   "outputs": [],
   "source": []
  }
 ],
 "metadata": {
  "kernelspec": {
   "display_name": "Python 3",
   "language": "python",
   "name": "python3"
  },
  "language_info": {
   "codemirror_mode": {
    "name": "ipython",
    "version": 3
   },
   "file_extension": ".py",
   "mimetype": "text/x-python",
   "name": "python",
   "nbconvert_exporter": "python",
   "pygments_lexer": "ipython3",
   "version": "3.4.3"
  }
 },
 "nbformat": 4,
 "nbformat_minor": 1
}
