{
 "cells": [
  {
   "cell_type": "markdown",
   "metadata": {},
   "source": [
    "# Chemical Intervention on Rat\n",
    "\n",
    "This notebook is an exercise relying on the ISA-API functionality for building an experiment description based on the experimental design.\n",
    "\n",
    "### Objectives\n",
    "- Identify concepts from the experimental design\n",
    "- Represent the experimental design concepts using the ISA-API model  \n",
    "- Produce ISA metadata for the experiment\n",
    "\n",
    "### References\n",
    "- [Documentation about the ISA-API](https://isatools.readthedocs.io), and more specifically:\n",
    "    - [documentation about study-design driven creation of ISA content](https://isatools.readthedocs.io/en/latest/studydesigncreation.html)\n",
    "    - [documentation of main ISA objects](https://isatools.readthedocs.io/en/latest/creation.html#)\n"
   ]
  },
  {
   "cell_type": "markdown",
   "metadata": {},
   "source": [
    "# Part 1\n",
    "\n",
    "Read the following description of tan experiment and follow the steps below to identify the main elements from the experimental design.\n",
    "\n",
    "\n",
    "Experiment Narrative:\n",
    "---------------------\n",
    "\n",
    "*Male Fisher F344 rats* purchased from Charles River were treated with **3 commonly used painkillers**, namely **acetylsalicilic acid, acetaminophen and ibuprofen**, at **2 distinct dose levels**, delivered *per os*.\n",
    "Equal number of animals (n=5) were allocated to each of the group defined by a **compound, dose level and duration post exposure** (of 1 hour, 2 hours and 4 hours) combination.*\n",
    "Following sacrifice performed by cervical dislocation and exsanguination preceded by anesthesia (ketamine and xylazine solution), *blood and kidney specimens were collected*.\n",
    "*Total RNA were extracted from Kidney samples and mRNA sequencing (transcription profiling) was performed using paired-end libraries on Illumina sequencing platform using an Illumina HiSeq 2000 instrument*.\n",
    "Blood samples were collected at sacrifice time and immediately placed in precooled 60 percent methanol ammonium bicarbonate buffer to quench cellular metabolism. Blood Metabolites were separated in water-soluble and lipophilic fractions. \n",
    "*Metabolite profiling was performed on the polar metabolite fraction only, using flow injection analysis (FIA) mass spectrometry on an Agilent 6550 iFunnel Q-TOF Mass Sprectrometry platform*. Each fraction was injected twice and data were acquired in both ionization modes (positive mode and negative mode).\n",
    "Raw data files were saved in native instrument format and later converted to HUPO-PSI standard format for mass spectrometry.\n"
   ]
  },
  {
   "cell_type": "markdown",
   "metadata": {},
   "source": [
    "## Experimental description with structured metadata\n",
    "\n",
    "In order to describe the experiment, we will rely on the models defined by the ISA-API, and thus we need to following import statements:"
   ]
  },
  {
   "cell_type": "code",
   "execution_count": 36,
   "metadata": {},
   "outputs": [],
   "source": [
    "from isatools.create.models import *\n",
    "from isatools.model import *"
   ]
  },
  {
   "cell_type": "markdown",
   "metadata": {},
   "source": [
    "## Identification of Variables, their levels and definition of the Treatment Plans"
   ]
  },
  {
   "cell_type": "markdown",
   "metadata": {},
   "source": [
    "In the context of the above experiment, ** can you identify the independent variables and their associated levels**?.\n",
    "\n",
    "You can define a new variable by relying in the ```StudyFactor``` object in this way:\n",
    "\n",
    "```python\n",
    "chemical_agent = StudyFactor(name=\"chemical agent\")\n",
    "\n",
    "```\n",
    "or if you want to add the ontology term for such study factor, you can use the [EBI Ontology Lookup Service](https://www.ebi.ac.uk/ols/) to find a relevant term from the ChEBI ontology, and build the factor in this way:\n",
    "    \n",
    "```python\n",
    "chemical_agent = StudyFactor(name=\"agent\", factor_type=OntologyAnnotation(term=\"chemical entity\", term_source=\"ChEBI\", term_accession=\"http://purl.obolibrary.org/obo/CHEBI_24431\"))\n",
    "```    \n",
    "\n",
    "Define the relevant ```StudyFactor```'s below and see if you can find ontology terms that are relevant to annotate them (e.g. you can try and find terms from the Experimental Factor Ontology or EFO):\n"
   ]
  },
  {
   "cell_type": "code",
   "execution_count": 37,
   "metadata": {
    "collapsed": true
   },
   "outputs": [],
   "source": [
    "### ANSWER\n",
    "\n",
    "chemical_agent = StudyFactor(name=\"agent\", factor_type=OntologyAnnotation(term=\"chemical entity\", term_source=\"ChEBI\", term_accession=\"http://purl.obolibrary.org/obo/CHEBI_24431\"))\n",
    "dose = StudyFactor(name=\"dose\")\n",
    "duration = StudyFactor(name=\"duration\")\n"
   ]
  },
  {
   "cell_type": "markdown",
   "metadata": {},
   "source": [
    "Next, we can use a ```TreatmentFactory``` to include the ```StudyFactor```'s and indicate their different factor levels, i.e. the values that these variables will assume according to the experiment description above.\n",
    "\n",
    "You should create the treatment factory providing the different study factors:\n",
    "\n",
    "```python\n",
    "treatment_factory = TreatmentFactor(factors=[ ... here list the variables...])\n",
    "\n",
    "```\n",
    "and then for each factor, you can add their levels in the following way:\n",
    "\n",
    "```python\n",
    "treatment_factory.add_factor_value( ... factor variable ..., { ... list of strings with the names of the factor values... }\n",
    "```\n"
   ]
  },
  {
   "cell_type": "code",
   "execution_count": 38,
   "metadata": {
    "collapsed": true
   },
   "outputs": [],
   "source": [
    "### ANSWER\n",
    "\n",
    "treatment_factory = TreatmentFactory(factors=[chemical_agent, dose, duration])\n",
    "\n",
    "treatment_factory.add_factor_value(chemical_agent, {'acetyl salicylic acid', 'acetaminophen', 'ibuprofen'})\n",
    "treatment_factory.add_factor_value(dose, {'high dose', 'low dose'})\n",
    "treatment_factory.add_factor_value(duration, {'1 hr', '2 hr', '4 hr'})\n"
   ]
  },
  {
   "cell_type": "markdown",
   "metadata": {},
   "source": [
    "### Computing the Number of Unique Treatment Groups/Study Groups: \n"
   ]
  },
  {
   "cell_type": "markdown",
   "metadata": {},
   "source": [
    "As per the description above, the experiment follows a factorial design where all combinations of factor values are considered. We can build our treatment plan, or ```TreatmentSequence```, by relying on an utilty method that given the factors and their levels computes the full factorial design:\n",
    "\n"
   ]
  },
  {
   "cell_type": "code",
   "execution_count": 39,
   "metadata": {
    "collapsed": true
   },
   "outputs": [],
   "source": [
    "all_treatments = treatment_factory.compute_full_factorial_design()"
   ]
  },
  {
   "cell_type": "markdown",
   "metadata": {},
   "source": [
    "How many treatment groups should have been identified? Check the number you considered matches with the answer of running the command below:"
   ]
  },
  {
   "cell_type": "code",
   "execution_count": 40,
   "metadata": {},
   "outputs": [
    {
     "name": "stdout",
     "output_type": "stream",
     "text": [
      "Number of study groups (treatment groups): 18\n"
     ]
    }
   ],
   "source": [
    "print('Number of study groups (treatment groups): {}'.format(len(all_treatments)))"
   ]
  },
  {
   "cell_type": "markdown",
   "metadata": {},
   "source": [
    "We can now build a treatment plan, or ```TreatmentSequence```, by including all the treatments according to the factorial design:"
   ]
  },
  {
   "cell_type": "code",
   "execution_count": 41,
   "metadata": {
    "collapsed": true
   },
   "outputs": [],
   "source": [
    "treatment_sequence = TreatmentSequence(ranked_treatments=all_treatments)"
   ]
  },
  {
   "cell_type": "markdown",
   "metadata": {},
   "source": [
    "Are study subjects exposed to a single intervention or to multiple intervention?\n",
    "  \n"
   ]
  },
  {
   "cell_type": "markdown",
   "metadata": {},
   "source": [
    "You can now visualise a summary of the treatment plan that you created with the following command:"
   ]
  },
  {
   "cell_type": "code",
   "execution_count": 42,
   "metadata": {},
   "outputs": [
    {
     "data": {
      "text/plain": [
       "{'full_factorial': True,\n",
       " 'length_of_treatment_sequence': 1,\n",
       " 'list_of_treatments': [[{'factor': 'agent', 'value': 'acetyl salicylic acid'},\n",
       "   {'factor': 'dose', 'value': 'low dose'},\n",
       "   {'factor': 'duration', 'value': '1 hr'}],\n",
       "  [{'factor': 'agent', 'value': 'acetyl salicylic acid'},\n",
       "   {'factor': 'dose', 'value': 'high dose'},\n",
       "   {'factor': 'duration', 'value': '2 hr'}],\n",
       "  [{'factor': 'agent', 'value': 'acetaminophen'},\n",
       "   {'factor': 'dose', 'value': 'low dose'},\n",
       "   {'factor': 'duration', 'value': '4 hr'}],\n",
       "  [{'factor': 'agent', 'value': 'ibuprofen'},\n",
       "   {'factor': 'dose', 'value': 'high dose'},\n",
       "   {'factor': 'duration', 'value': '1 hr'}],\n",
       "  [{'factor': 'agent', 'value': 'acetaminophen'},\n",
       "   {'factor': 'dose', 'value': 'low dose'},\n",
       "   {'factor': 'duration', 'value': '1 hr'}],\n",
       "  [{'factor': 'agent', 'value': 'ibuprofen'},\n",
       "   {'factor': 'dose', 'value': 'low dose'},\n",
       "   {'factor': 'duration', 'value': '4 hr'}],\n",
       "  [{'factor': 'agent', 'value': 'acetyl salicylic acid'},\n",
       "   {'factor': 'dose', 'value': 'high dose'},\n",
       "   {'factor': 'duration', 'value': '4 hr'}],\n",
       "  [{'factor': 'agent', 'value': 'acetaminophen'},\n",
       "   {'factor': 'dose', 'value': 'low dose'},\n",
       "   {'factor': 'duration', 'value': '2 hr'}],\n",
       "  [{'factor': 'agent', 'value': 'acetaminophen'},\n",
       "   {'factor': 'dose', 'value': 'high dose'},\n",
       "   {'factor': 'duration', 'value': '1 hr'}],\n",
       "  [{'factor': 'agent', 'value': 'acetyl salicylic acid'},\n",
       "   {'factor': 'dose', 'value': 'low dose'},\n",
       "   {'factor': 'duration', 'value': '2 hr'}],\n",
       "  [{'factor': 'agent', 'value': 'ibuprofen'},\n",
       "   {'factor': 'dose', 'value': 'low dose'},\n",
       "   {'factor': 'duration', 'value': '1 hr'}],\n",
       "  [{'factor': 'agent', 'value': 'acetaminophen'},\n",
       "   {'factor': 'dose', 'value': 'high dose'},\n",
       "   {'factor': 'duration', 'value': '2 hr'}],\n",
       "  [{'factor': 'agent', 'value': 'ibuprofen'},\n",
       "   {'factor': 'dose', 'value': 'high dose'},\n",
       "   {'factor': 'duration', 'value': '2 hr'}],\n",
       "  [{'factor': 'agent', 'value': 'acetyl salicylic acid'},\n",
       "   {'factor': 'dose', 'value': 'high dose'},\n",
       "   {'factor': 'duration', 'value': '1 hr'}],\n",
       "  [{'factor': 'agent', 'value': 'acetaminophen'},\n",
       "   {'factor': 'dose', 'value': 'high dose'},\n",
       "   {'factor': 'duration', 'value': '4 hr'}],\n",
       "  [{'factor': 'agent', 'value': 'acetyl salicylic acid'},\n",
       "   {'factor': 'dose', 'value': 'low dose'},\n",
       "   {'factor': 'duration', 'value': '4 hr'}],\n",
       "  [{'factor': 'agent', 'value': 'ibuprofen'},\n",
       "   {'factor': 'dose', 'value': 'high dose'},\n",
       "   {'factor': 'duration', 'value': '4 hr'}],\n",
       "  [{'factor': 'agent', 'value': 'ibuprofen'},\n",
       "   {'factor': 'dose', 'value': 'low dose'},\n",
       "   {'factor': 'duration', 'value': '2 hr'}]],\n",
       " 'number_of_factor_levels_per_factor': {'agent': ['acetyl salicylic acid',\n",
       "   'ibuprofen',\n",
       "   'acetaminophen'],\n",
       "  'dose': ['low dose', 'high dose'],\n",
       "  'duration': ['4 hr', '1 hr', '2 hr']},\n",
       " 'number_of_factors': 3,\n",
       " 'number_of_treatment': 18,\n",
       " 'number_of_treatments': 18}"
      ]
     },
     "execution_count": 42,
     "metadata": {},
     "output_type": "execute_result"
    }
   ],
   "source": [
    "report = make_summary_from_treatment_sequence(treatment_sequence)\n",
    "report"
   ]
  },
  {
   "cell_type": "markdown",
   "metadata": {},
   "source": [
    "Is the treatment plan report in agreement with the experimental design?"
   ]
  },
  {
   "cell_type": "markdown",
   "metadata": {},
   "source": [
    "### Study group size"
   ]
  },
  {
   "cell_type": "markdown",
   "metadata": {},
   "source": [
    "The following code builds a slider (relying on the ```ipywidgets``` library) for you to set the group size, please select the appropriate number according to the experiment description:"
   ]
  },
  {
   "cell_type": "code",
   "execution_count": 43,
   "metadata": {},
   "outputs": [
    {
     "data": {
      "application/vnd.jupyter.widget-view+json": {
       "model_id": "7488a3c8d2eb44fd9521a309d8615e5b"
      }
     },
     "metadata": {},
     "output_type": "display_data"
    }
   ],
   "source": [
    "from ipywidgets import (IntSlider)\n",
    "group_size = IntSlider(value=1, min=0, max=100, step=1, description='Group size:', disabled=False, continuous_update=False, orientation='horizontal', readout=True, readout_format='d')\n",
    "group_size\n"
   ]
  },
  {
   "cell_type": "markdown",
   "metadata": {},
   "source": [
    "The group size value you chose, and that is going to be used in the next section, is:"
   ]
  },
  {
   "cell_type": "code",
   "execution_count": 44,
   "metadata": {},
   "outputs": [
    {
     "data": {
      "text/plain": [
       "1"
      ]
     },
     "execution_count": 44,
     "metadata": {},
     "output_type": "execute_result"
    }
   ],
   "source": [
    "group_size.value"
   ]
  },
  {
   "cell_type": "markdown",
   "metadata": {},
   "source": [
    "## Sample collection and assay plans"
   ]
  },
  {
   "cell_type": "markdown",
   "metadata": {},
   "source": [
    "Given the group size selected above, we are now going to build the sample collection and assay plans based on the group size. Given this, can you say if the design is balanced or unbalanced?"
   ]
  },
  {
   "cell_type": "code",
   "execution_count": 45,
   "metadata": {
    "collapsed": true
   },
   "outputs": [],
   "source": [
    "plan = SampleAssayPlan(group_size=group_size.value)"
   ]
  },
  {
   "cell_type": "markdown",
   "metadata": {},
   "source": [
    "Let's now build a ```dictionary``` with the sample collection plan: it should contain key:value pairs with the specimen or sample type as key and the number of samples collected for each type over the course of the study. Here is the code snippet that you should complete:\n",
    "\n",
    "```python\n",
    "sample_collection_plan = { \"sample type 1\": 0, \"sample type 2\": 1 }\n",
    "```\n"
   ]
  },
  {
   "cell_type": "code",
   "execution_count": 46,
   "metadata": {
    "collapsed": true
   },
   "outputs": [],
   "source": [
    "### ANSWER\n",
    "sample_collection_plan = {\"kidney\":1, \"blood\":1} \n"
   ]
  },
  {
   "cell_type": "markdown",
   "metadata": {},
   "source": [
    "Next, the following code will take the sample_collection_plan object that you built and include all the details in the sample_collection_plan object:"
   ]
  },
  {
   "cell_type": "code",
   "execution_count": 47,
   "metadata": {
    "collapsed": true
   },
   "outputs": [],
   "source": [
    "for sample_type in sample_collection_plan:    \n",
    "    plan.add_sample_type(sample_type)\n",
    "    plan.add_sample_plan_record(sample_type,sample_collection_plan[sample_type])\n"
   ]
  },
  {
   "cell_type": "markdown",
   "metadata": {},
   "source": [
    "### View the sample and assay plan information as a JSON document\n",
    "\n",
    "This section is meant to show how to serialize key study design descriptors in a compact document serialized in format format. \n",
    "Why is this relevant? How would you use this feature? List 3 possible uses."
   ]
  },
  {
   "cell_type": "code",
   "execution_count": 48,
   "metadata": {
    "scrolled": true
   },
   "outputs": [
    {
     "name": "stdout",
     "output_type": "stream",
     "text": [
      "{\n",
      "    \"assay_plan\": [],\n",
      "    \"assay_types\": [],\n",
      "    \"group_size\": 1,\n",
      "    \"sample_plan\": [\n",
      "        {\n",
      "            \"sample_type\": \"kidney\",\n",
      "            \"sampling_size\": 1\n",
      "        },\n",
      "        {\n",
      "            \"sample_type\": \"blood\",\n",
      "            \"sampling_size\": 1\n",
      "        }\n",
      "    ],\n",
      "    \"sample_qc_plan\": [],\n",
      "    \"sample_types\": [\n",
      "        \"blood\",\n",
      "        \"kidney\"\n",
      "    ]\n",
      "}\n"
     ]
    }
   ],
   "source": [
    "import json\n",
    "from isatools.create.models import SampleAssayPlanEncoder\n",
    "print(json.dumps(plan, cls=SampleAssayPlanEncoder, sort_keys=True, indent=4, separators=(',', ': ')))"
   ]
  },
  {
   "cell_type": "markdown",
   "metadata": {},
   "source": [
    "## Create an ISA experimental description based on the study design and the sampling plan:\n",
    "\n",
    "In the following section, the task is to build ISA objects relying on the study design information we built above.\n"
   ]
  },
  {
   "cell_type": "markdown",
   "metadata": {},
   "source": [
    "Let's first create an ```Investigation``` object to hold all the information about the experiment with this command, which also assigns an identifier for the investigation."
   ]
  },
  {
   "cell_type": "code",
   "execution_count": 49,
   "metadata": {
    "collapsed": true
   },
   "outputs": [],
   "source": [
    "isa_investigation = Investigation(identifier='inv-dtp-exercise')"
   ]
  },
  {
   "cell_type": "markdown",
   "metadata": {},
   "source": [
    "Now, let's create a study object using the sample and assay plan as well as the ```TreatmentSequence``` object we built before. For this, we will need an object of the ```IsaModelObjectFactory``` class provided in the ISA-API:"
   ]
  },
  {
   "cell_type": "code",
   "execution_count": 50,
   "metadata": {
    "collapsed": true
   },
   "outputs": [],
   "source": [
    "isa_object_factory = IsaModelObjectFactory(plan, treatment_sequence)\n",
    "isa_study = isa_object_factory.create_study_from_plan()"
   ]
  },
  {
   "cell_type": "markdown",
   "metadata": {},
   "source": [
    "Now, we can link the study to the investigation we created before:"
   ]
  },
  {
   "cell_type": "code",
   "execution_count": 51,
   "metadata": {
    "collapsed": true
   },
   "outputs": [],
   "source": [
    "isa_investigation.studies = [isa_study]\n"
   ]
  },
  {
   "cell_type": "markdown",
   "metadata": {},
   "source": [
    "and set a name for the study file:"
   ]
  },
  {
   "cell_type": "code",
   "execution_count": 52,
   "metadata": {
    "collapsed": true
   },
   "outputs": [],
   "source": [
    "isa_study.filename = '... complete here a filename for the study file...'"
   ]
  },
  {
   "cell_type": "code",
   "execution_count": 53,
   "metadata": {
    "collapsed": true
   },
   "outputs": [],
   "source": [
    "## ANSWER\n",
    "\n",
    "isa_study.filename = 's_study.txt'"
   ]
  },
  {
   "cell_type": "markdown",
   "metadata": {},
   "source": [
    "Let's now check the study sample table:"
   ]
  },
  {
   "cell_type": "code",
   "execution_count": 54,
   "metadata": {},
   "outputs": [
    {
     "data": {
      "application/vnd.jupyter.widget-view+json": {
       "model_id": "735c6d6d9c4540f0b18b429222b378a4"
      }
     },
     "metadata": {},
     "output_type": "display_data"
    }
   ],
   "source": [
    "from isatools.isatab import dump_tables_to_dataframes as dumpdf\n",
    "from qgrid import show_grid\n",
    "\n",
    "dataframes = dumpdf(isa_investigation)\n",
    "sample_table = next(iter(dataframes.values()))\n",
    "show_grid(sample_table)"
   ]
  },
  {
   "cell_type": "code",
   "execution_count": 55,
   "metadata": {},
   "outputs": [
    {
     "name": "stdout",
     "output_type": "stream",
     "text": [
      "Total rows generated: 36\n"
     ]
    }
   ],
   "source": [
    "print('Total rows generated: {}'.format(len(sample_table)))"
   ]
  },
  {
   "cell_type": "markdown",
   "metadata": {},
   "source": [
    "### Study description and study design type\n"
   ]
  },
  {
   "cell_type": "markdown",
   "metadata": {},
   "source": [
    "Can you set the study description (or abstract) relying in this code snippet?\n",
    "\n",
    "```python\n",
    "isa_study.description = \"... here the text of the description...\"\n",
    "```\n"
   ]
  },
  {
   "cell_type": "code",
   "execution_count": 56,
   "metadata": {
    "collapsed": true
   },
   "outputs": [],
   "source": [
    "### ANSWER\n",
    "\n",
    "isa_study.description = \"*Male Fisher F344 rats* purchased from Charles River were treated with *3 commonly used painkillers*, namely *acetylsalicilic acid, acetaminophen and ibuprofen*, at 2 distinct dose levels, delivered *per os*. *Equal number of animals (n=5) were allocated to each of the group defined by a compound, dose level and duration post exposure combination.* Following sacrifice performed by cervical dislocation and exsanguination preceded by anesthesia (ketamine and xylazine solution), *blood and kidney specimens were collected*. *Total RNA were extracted from Kidney samples and mRNA sequencing (transcription profiling) was performed using paired-end libraries on Illumina sequencing platform using an Illumina HiSeq 2000 instrument*. Blood samples were collected at sacrifice time and immediately placed in precooled 60 percent methanol ammonium bicarbonate buffer to quench cellular metabolism. Blood Metabolites were separated in water-soluble and lipophilic fractions.*Metabolite profiling was performed on the polar metabolite fraction only, using flow injection analysis (FIA) mass spectrometry on an Agilent 6550 iFunnel Q-TOF Mass Sprectrometry platform*. Each fraction was injected twice and data were acquired in both ionization modes (positive mode and negative mode). Raw data files were saved in native instrument format and later converted to HUPO-PSI standard format for mass spectrometry.\""
   ]
  },
  {
   "cell_type": "markdown",
   "metadata": {},
   "source": [
    "Next, we would like to specify the type of study design (and we can set multiple values if necessary). \n",
    "\n",
    "For this, we will build ontology annotations, as we did for the ```StudyFactor`` objects:\n",
    "\n",
    "```python\n",
    "descriptor_1 = OntologyAnnotation(\n",
    "                  term=\"... here the label of the term...\", \n",
    "                  term_source=\"... here the name of the ontology the term comes from...\", \n",
    "                  term_accession=\"... here the URL of the term ...\")\n",
    "```\n",
    "\n",
    "To determine some of the study design descriptors, consider the following questions and use the Ontology Lookup Service to find relevant terms:\n",
    "\n",
    "- is the experiment following an 'intervention design' or an 'observation design'?\n",
    "- is the design 'factorial' or a 'randomized block' design?\n",
    "- is the design 'full' or 'fractional'?"
   ]
  },
  {
   "cell_type": "code",
   "execution_count": 57,
   "metadata": {
    "collapsed": true
   },
   "outputs": [],
   "source": [
    "### HERE DEFINE YOUR DESCRIPTORS"
   ]
  },
  {
   "cell_type": "code",
   "execution_count": 58,
   "metadata": {
    "collapsed": true
   },
   "outputs": [],
   "source": [
    "### ANSWER\n",
    "\n",
    "descriptor_1 = OntologyAnnotation(\n",
    "                term=\"intervention design\",\n",
    "                term_source= \"OBI\",\n",
    "                term_accession=\"http://purl.obolibrary.org/obo/OBI_0000115\"\n",
    "                )\n",
    "\n",
    "descriptor_2 = OntologyAnnotation(\n",
    "                term=\"full factorial design\",\n",
    "                term_source= \"\",\n",
    "                term_accession=\"\"\n",
    "                )\n",
    "\n"
   ]
  },
  {
   "cell_type": "markdown",
   "metadata": {},
   "source": [
    "After you defined the descriptors, you can append them to isa_study.design_descriptors list as follows:\n",
    "\n",
    "```python\n",
    "isa_study.design_descriptors.append(descriptor_1)\n",
    "```\n"
   ]
  },
  {
   "cell_type": "code",
   "execution_count": 59,
   "metadata": {
    "collapsed": true
   },
   "outputs": [],
   "source": [
    "### HERE APPEND ALL THE DESCRIPTORS YOU DEFINED ABOVE"
   ]
  },
  {
   "cell_type": "code",
   "execution_count": 60,
   "metadata": {
    "collapsed": true
   },
   "outputs": [],
   "source": [
    "### ANSWER \n",
    "isa_study.design_descriptors.append(descriptor_1)\n",
    "isa_study.design_descriptors.append(descriptor_2)"
   ]
  },
  {
   "cell_type": "markdown",
   "metadata": {},
   "source": [
    "## Assay and Data Acquisition Plans:\n",
    "\n",
    "From the textual description of the experiment, identify the response or dependent variables."
   ]
  },
  {
   "cell_type": "markdown",
   "metadata": {},
   "source": [
    "In the ISA model, an Assay is defined by the type of measurment it performs and the technology used to obtain the measurements.\n",
    "\n",
    "In the ISA model, there is a series of configuration files that define the vetted values for Measurement Type and Technology type.\n",
    "\n",
    "An ISA configuration can be accessed from: https://github.com/ISA-tools/Configuration-Files/tree/master/isaconfig-default_v2015-07-02\n",
    "\n",
    "Given those lists of configurations, let's define the assay types needed for our experiment.\n",
    "\n",
    "The way to define an assay type is as follows\n",
    "\n",
    "```python\n",
    "assay_type_1= AssayType(measurement_type='...here a supported measurement type...', technology_type='...here a supported technology type...')\n",
    "```\n",
    "Define below the assay types that you can identify from the experiment narrative:"
   ]
  },
  {
   "cell_type": "code",
   "execution_count": 61,
   "metadata": {},
   "outputs": [
    {
     "name": "stdout",
     "output_type": "stream",
     "text": [
      "transcription profiling  using  nucleotide sequencing\n",
      "metabolite profiling  using  mass spectrometry\n"
     ]
    }
   ],
   "source": [
    "#### ANSWER\n",
    "\n",
    "assay_type_1 = AssayType(measurement_type='transcription profiling', technology_type='nucleotide sequencing')\n",
    "assay_type_2 = AssayType(measurement_type='metabolite profiling', technology_type='mass spectrometry')\n"
   ]
  },
  {
   "cell_type": "markdown",
   "metadata": {},
   "source": [
    "Let's now define a set for the assay types:"
   ]
  },
  {
   "cell_type": "code",
   "execution_count": null,
   "metadata": {
    "collapsed": true
   },
   "outputs": [],
   "source": [
    "assay_types = set()"
   ]
  },
  {
   "cell_type": "code",
   "execution_count": null,
   "metadata": {
    "collapsed": true
   },
   "outputs": [],
   "source": [
    "You can add the types you defined above to the set as follows:\n",
    "    \n",
    "```python\n",
    "assay_types.add(assay_type_1)\n",
    "```\n",
    "\n",
    "Add all your assay types to the assay_types set below:"
   ]
  },
  {
   "cell_type": "code",
   "execution_count": null,
   "metadata": {
    "collapsed": true
   },
   "outputs": [],
   "source": [
    "### ANSWER\n",
    "assay_types.add(assay_type_1)\n",
    "assay_types.add(assay_type_2)\n"
   ]
  },
  {
   "cell_type": "markdown",
   "metadata": {},
   "source": [
    "Let's now visualise the assay types:"
   ]
  },
  {
   "cell_type": "code",
   "execution_count": null,
   "metadata": {
    "collapsed": true
   },
   "outputs": [],
   "source": [
    "for x in assay_types:\n",
    "        print(x.measurement_type.term,\" using \", x.technology_type.term)\n"
   ]
  },
  {
   "cell_type": "markdown",
   "metadata": {},
   "source": [
    "## Assay Specific Descriptors\n",
    "Each data acquisition modality comes with its own set of parameters which may be used to capture the underlying workflow graph modifications. This section of the exercise aims to show how to deal with workflows specific to sequencing applications and mass spectrometry ones."
   ]
  },
  {
   "cell_type": "markdown",
   "metadata": {},
   "source": [
    "### Generate ISA model objects from the assay plan and render the assay table"
   ]
  },
  {
   "cell_type": "code",
   "execution_count": 62,
   "metadata": {},
   "outputs": [
    {
     "name": "stdout",
     "output_type": "stream",
     "text": [
      "2\n"
     ]
    },
    {
     "data": {
      "application/vnd.jupyter.widget-view+json": {
       "model_id": "ec80c57e2d0b4010b5f1c180e2d16f69"
      }
     },
     "metadata": {},
     "output_type": "display_data"
    }
   ],
   "source": [
    "# Starting with DNA sequencing assay workflow: \n",
    "# Setting the type of library and the number of runs per sample.\n",
    "\n",
    "# This bit is meant to introduce you to iwidgets, a library for ipython allowing user interaction (not implemented here)\n",
    "ngs_technical_replicates = IntSlider(value=2, min=0, max=5, step=1, description='Technical repeats:', disabled=False, continuous_update=False, orientation='horizontal', readout=True, readout_format='d')\n",
    "print(ngs_technical_replicates.value)\n",
    "ngs_technical_replicates\n",
    "\n"
   ]
  },
  {
   "cell_type": "markdown",
   "metadata": {},
   "source": [
    "### Check state of Sample Assay Plan after entering assay plan information:\n",
    "\n",
    "### Dealing with Next Generation Sequencing Data Acquisition Plan"
   ]
  },
  {
   "cell_type": "code",
   "execution_count": 63,
   "metadata": {
    "scrolled": true
   },
   "outputs": [
    {
     "name": "stdout",
     "output_type": "stream",
     "text": [
      "Technical replicates: 2\n",
      "kidney\n",
      "not for this assay type\n",
      "Added assay plan: kidney -> transcription profiling/nucleotide sequencing\n",
      "Instruments: ['Illumina HiSeq 2000']\n"
     ]
    }
   ],
   "source": [
    "sequencing_instruments = set()\n",
    "sequencing_instruments.add('Illumina HiSeq 2000') # check the experiment description to obtain value.\n",
    "\n",
    "top_mods_seq = DNASeqAssayTopologyModifiers(technical_replicates=ngs_technical_replicates.value, instruments=sequencing_instruments,distinct_libraries=2)\n",
    "\n",
    "print('Technical replicates: {}'.format(top_mods_seq.technical_replicates))\n",
    "\n",
    "assay_type1.topology_modifiers = top_mods_seq\n",
    "\n",
    "plan.add_assay_type(assay_type1)\n",
    "# sample_type = plan.sample_types[]\n",
    "for element in plan.sample_types:\n",
    "    if element.value.term == 'kidney':\n",
    "        print(element.value.term)\n",
    "        plan.add_assay_plan_record(element.value.term, assay_type1)\n",
    "        assay_plan = next(iter(plan.assay_plan))\n",
    "    elif element.value.term == 'blood':\n",
    "        print(\"not for this assay type\")\n",
    "    else:\n",
    "        print(element.value.term)\n",
    "\n",
    "# if sample_type not in plan.sample_types:\n",
    "#     print(sample_type + \" Not in sample types\")\n",
    "#else:    \n",
    "#    plan.add_assay_plan_record(sample_type, assay_type1)  # check the experiment description to obtain value.\n",
    "   \n",
    "\n",
    "print('Added assay plan: {0} -> {1}/{2}'.format(assay_plan[0].value.term, assay_plan[1].measurement_type.term, assay_plan[1].technology_type.term))\n",
    "if len(top_mods_seq.instruments) > 0:\n",
    "    print('Instruments: {}'.format(list(top_mods_seq.instruments)))"
   ]
  },
  {
   "cell_type": "code",
   "execution_count": 64,
   "metadata": {},
   "outputs": [
    {
     "name": "stdout",
     "output_type": "stream",
     "text": [
      "{\n",
      "    \"assay_plan\": [\n",
      "        {\n",
      "            \"assay_type\": {\n",
      "                \"measurement_type\": \"transcription profiling\",\n",
      "                \"technology_type\": \"nucleotide sequencing\",\n",
      "                \"topology_modifiers\": {\n",
      "                    \"distinct_libraries\": 2,\n",
      "                    \"instruments\": [\n",
      "                        \"Illumina HiSeq 2000\"\n",
      "                    ],\n",
      "                    \"technical_replicates\": 2\n",
      "                }\n",
      "            },\n",
      "            \"sample_type\": \"kidney\"\n",
      "        }\n",
      "    ],\n",
      "    \"assay_types\": [\n",
      "        {\n",
      "            \"measurement_type\": \"transcription profiling\",\n",
      "            \"technology_type\": \"nucleotide sequencing\",\n",
      "            \"topology_modifiers\": {\n",
      "                \"distinct_libraries\": 2,\n",
      "                \"instruments\": [\n",
      "                    \"Illumina HiSeq 2000\"\n",
      "                ],\n",
      "                \"technical_replicates\": 2\n",
      "            }\n",
      "        }\n",
      "    ],\n",
      "    \"group_size\": 1,\n",
      "    \"sample_plan\": [\n",
      "        {\n",
      "            \"sample_type\": \"kidney\",\n",
      "            \"sampling_size\": 1\n",
      "        },\n",
      "        {\n",
      "            \"sample_type\": \"blood\",\n",
      "            \"sampling_size\": 1\n",
      "        }\n",
      "    ],\n",
      "    \"sample_qc_plan\": [],\n",
      "    \"sample_types\": [\n",
      "        \"blood\",\n",
      "        \"kidney\"\n",
      "    ]\n",
      "}\n"
     ]
    }
   ],
   "source": [
    "print(json.dumps(plan, cls=SampleAssayPlanEncoder, sort_keys=True, indent=4, separators=(',', ': ')))"
   ]
  },
  {
   "cell_type": "markdown",
   "metadata": {},
   "source": [
    "### Dealing with Mass Spectrometry Data Acquisition Plan"
   ]
  },
  {
   "cell_type": "code",
   "execution_count": 65,
   "metadata": {},
   "outputs": [
    {
     "name": "stdout",
     "output_type": "stream",
     "text": [
      "no chromatography used or no information supplied\n",
      "Data acquisition instruments: ['agilent']\n",
      "Injection modes: ['FIA']\n",
      "Acquisition modes: ['negative', 'positive']\n"
     ]
    }
   ],
   "source": [
    "chromatography_instruments = set()\n",
    "ms_instruments = set()\n",
    "injection_modes = set()\n",
    "acquisition_modes = set()\n",
    "\n",
    "ms_instruments.add('agilent') # check the experiment description to obtain value.\n",
    "injection_modes.add('FIA')  # check the experiment description to obtain value.\n",
    "acquisition_modes.add('positive') # check the experiment description to obtain value.\n",
    "acquisition_modes.add('negative') # check the experiment description to obtain value.\n",
    "ms_tech_rep = 1 # check the experiment description to obtain value.\n",
    "top_mods_ms = MSAssayTopologyModifiers(technical_replicates=ms_tech_rep, injection_modes=injection_modes, acquisition_modes=acquisition_modes, instruments=ms_instruments, chromatography_instruments=chromatography_instruments)\n",
    "assay_type2.topology_modifiers = top_mods_ms\n",
    "\n",
    "if len(top_mods_ms.chromatography_instruments) > 0:\n",
    "    print('Chromatography instruments: {}'.format(list(top_mods_ms.chromatography_instruments)))\n",
    "else:\n",
    "    print('no chromatography used or no information supplied')\n",
    "\n",
    "if len(top_mods_ms.instruments) > 0:\n",
    "    print('Data acquisition instruments: {}'.format(list(top_mods_ms.instruments)))    \n",
    "if len(top_mods_ms.injection_modes) > 0:\n",
    "    print('Injection modes: {}'.format(list(top_mods_ms.injection_modes)))\n",
    "if len(top_mods_ms.acquisition_modes) > 0:\n",
    "    print('Acquisition modes: {}'.format(list(top_mods_ms.acquisition_modes)))\n",
    "\n",
    "\n",
    "plan.add_assay_type(assay_type2)\n",
    "plan.add_assay_plan_record(\"blood\", assay_type2)\n",
    "\n",
    "assay_plan = next(iter(plan.assay_plan))\n",
    "\n"
   ]
  },
  {
   "cell_type": "code",
   "execution_count": 66,
   "metadata": {},
   "outputs": [
    {
     "name": "stdout",
     "output_type": "stream",
     "text": [
      "{\n",
      "    \"assay_plan\": [\n",
      "        {\n",
      "            \"assay_type\": {\n",
      "                \"measurement_type\": \"transcription profiling\",\n",
      "                \"technology_type\": \"nucleotide sequencing\",\n",
      "                \"topology_modifiers\": {\n",
      "                    \"distinct_libraries\": 2,\n",
      "                    \"instruments\": [\n",
      "                        \"Illumina HiSeq 2000\"\n",
      "                    ],\n",
      "                    \"technical_replicates\": 2\n",
      "                }\n",
      "            },\n",
      "            \"sample_type\": \"kidney\"\n",
      "        },\n",
      "        {\n",
      "            \"assay_type\": {\n",
      "                \"measurement_type\": \"metabolite profiling\",\n",
      "                \"technology_type\": \"mass spectrometry\",\n",
      "                \"topology_modifiers\": {\n",
      "                    \"acquisition_modes\": [\n",
      "                        \"negative\",\n",
      "                        \"positive\"\n",
      "                    ],\n",
      "                    \"chromatography_instruments\": [],\n",
      "                    \"injection_modes\": [\n",
      "                        \"FIA\"\n",
      "                    ],\n",
      "                    \"instruments\": [\n",
      "                        \"agilent\"\n",
      "                    ],\n",
      "                    \"technical_replicates\": 1\n",
      "                }\n",
      "            },\n",
      "            \"sample_type\": \"blood\"\n",
      "        }\n",
      "    ],\n",
      "    \"assay_types\": [\n",
      "        {\n",
      "            \"measurement_type\": \"transcription profiling\",\n",
      "            \"technology_type\": \"nucleotide sequencing\",\n",
      "            \"topology_modifiers\": {\n",
      "                \"distinct_libraries\": 2,\n",
      "                \"instruments\": [\n",
      "                    \"Illumina HiSeq 2000\"\n",
      "                ],\n",
      "                \"technical_replicates\": 2\n",
      "            }\n",
      "        },\n",
      "        {\n",
      "            \"measurement_type\": \"metabolite profiling\",\n",
      "            \"technology_type\": \"mass spectrometry\",\n",
      "            \"topology_modifiers\": {\n",
      "                \"acquisition_modes\": [\n",
      "                    \"negative\",\n",
      "                    \"positive\"\n",
      "                ],\n",
      "                \"chromatography_instruments\": [],\n",
      "                \"injection_modes\": [\n",
      "                    \"FIA\"\n",
      "                ],\n",
      "                \"instruments\": [\n",
      "                    \"agilent\"\n",
      "                ],\n",
      "                \"technical_replicates\": 1\n",
      "            }\n",
      "        }\n",
      "    ],\n",
      "    \"group_size\": 1,\n",
      "    \"sample_plan\": [\n",
      "        {\n",
      "            \"sample_type\": \"kidney\",\n",
      "            \"sampling_size\": 1\n",
      "        },\n",
      "        {\n",
      "            \"sample_type\": \"blood\",\n",
      "            \"sampling_size\": 1\n",
      "        }\n",
      "    ],\n",
      "    \"sample_qc_plan\": [],\n",
      "    \"sample_types\": [\n",
      "        \"blood\",\n",
      "        \"kidney\"\n",
      "    ]\n",
      "}\n"
     ]
    }
   ],
   "source": [
    "print(json.dumps(plan, cls=SampleAssayPlanEncoder, sort_keys=True, indent=4, separators=(',', ': ')))"
   ]
  },
  {
   "cell_type": "code",
   "execution_count": 67,
   "metadata": {},
   "outputs": [
    {
     "name": "stdout",
     "output_type": "stream",
     "text": [
      "A protocol with name \"metabolite extraction\" has already been declared in the study\n",
      "Assay generated: a_kidney_dnaseq_Illumina HiSeq 2000_assay.txt, 18 samples, 108 processes, 36 data files\n",
      "Assay generated: a_blood_ms_FIA_negative_assay.txt, 18 samples, 36 processes, 18 data files\n",
      "Assay generated: a_blood_ms_FIA_positive_assay.txt, 18 samples, 36 processes, 18 data files\n"
     ]
    }
   ],
   "source": [
    "isa_investigation.studies = [isa_object_factory.create_assays_from_plan()]\n",
    "for assay in isa_investigation.studies[-1].assays:\n",
    "    print('Assay generated: {0}, {1} samples, {2} processes, {3} data files'\n",
    "          .format(assay.filename, len(assay.samples), len(assay.process_sequence), len(assay.data_files)))\n",
    "dataframes = dumpdf(isa_investigation)"
   ]
  },
  {
   "cell_type": "code",
   "execution_count": 68,
   "metadata": {},
   "outputs": [
    {
     "data": {
      "application/vnd.jupyter.widget-view+json": {
       "model_id": "756adc6deb6d41ce98e470eebea8766a"
      }
     },
     "metadata": {},
     "output_type": "display_data"
    }
   ],
   "source": [
    "show_grid(dataframes[next(iter(dataframes.keys()))])"
   ]
  },
  {
   "cell_type": "code",
   "execution_count": 69,
   "metadata": {},
   "outputs": [
    {
     "data": {
      "application/vnd.jupyter.widget-view+json": {
       "model_id": "48c7f77d6c59473f8a5fc0a383531dc1"
      }
     },
     "metadata": {},
     "output_type": "display_data"
    }
   ],
   "source": [
    "show_grid(dataframes['a_blood_ms_FIA_positive_assay.txt'])"
   ]
  },
  {
   "cell_type": "code",
   "execution_count": 70,
   "metadata": {},
   "outputs": [
    {
     "data": {
      "application/vnd.jupyter.widget-view+json": {
       "model_id": "711b9ba0211444ed853b4169d9d00011"
      }
     },
     "metadata": {},
     "output_type": "display_data"
    }
   ],
   "source": [
    "show_grid(dataframes['a_blood_ms_FIA_negative_assay.txt'])"
   ]
  },
  {
   "cell_type": "code",
   "execution_count": null,
   "metadata": {
    "collapsed": true
   },
   "outputs": [],
   "source": []
  }
 ],
 "metadata": {
  "kernelspec": {
   "display_name": "Python 3",
   "language": "python",
   "name": "python3"
  },
  "language_info": {
   "codemirror_mode": {
    "name": "ipython",
    "version": 3
   },
   "file_extension": ".py",
   "mimetype": "text/x-python",
   "name": "python",
   "nbconvert_exporter": "python",
   "pygments_lexer": "ipython3",
   "version": "3.5.1"
  }
 },
 "nbformat": 4,
 "nbformat_minor": 1
}
