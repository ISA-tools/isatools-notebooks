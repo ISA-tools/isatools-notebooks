{
 "cells": [
  {
   "cell_type": "markdown",
   "metadata": {},
   "source": [
    "# Data Management Exercise using ISA Model and ISA API \n",
    "\n",
    "This notebook is an exercise relying on the ISA-API functionality for building an experiment description based on the experimental design.\n",
    "\n",
    "### Objectives\n",
    "- Identify concepts from the experimental design\n",
    "- Represent the experimental design concepts using the ISA-API model  \n",
    "- Produce ISA metadata for the experimen\n",
    "\n",
    "### Authors and Contact:\n",
    "- http://isa-tools.org/team/\n",
    "- [get in touch](mailto:isatools@googlegroups.com)\n",
    "\n",
    "\n",
    "\n",
    "### References\n",
    "- [Documentation about the ISA-API](https://isatools.readthedocs.io), and more specifically:\n",
    "    - [documentation about study-design driven creation of ISA content](https://isatools.readthedocs.io/en/latest/studydesigncreation.html)\n",
    "    - [documentation of main ISA objects](https://isatools.readthedocs.io/en/latest/creation.html#)\n"
   ]
  },
  {
   "cell_type": "markdown",
   "metadata": {},
   "source": [
    "# Case Study 1: A Toxicity Study in Rats\n",
    "\n",
    "Read the following description of tan experiment and follow the steps below to identify the main elements from the experimental design.\n",
    "\n",
    "\n",
    "Experiment Narrative:\n",
    "---------------------\n",
    "\n",
    "*Male Fisher F344 rats* purchased from Charles River were treated with *3 commonly used painkillers*, namely *acetylsalicilic acid, acetaminophen and ibuprofen*, at *2 distinct dose levels*, delivered *per os*.\n",
    "\n",
    "Equal number of animals (n=5) were allocated to each of the group defined by a *compound, dose level and duration post exposure* (of 1 hour, 2 hours and 4 hours) combination.\n",
    "\n",
    "Following sacrifice performed by cervical dislocation and exsanguination preceded by anesthesia (ketamine and xylazine solution), *blood and kidney specimens were collected*.\n",
    "Total RNA were extracted from kidney samples and mRNA sequencing (*transcription profiling*) was performed using paired-end libraries on Illumina sequencing platform using an *Illumina HiSeq 2000 instrument*.\n",
    "\n",
    "*Blood samples* were collected at sacrifice time and immediately placed in precooled 60 percent methanol ammonium bicarbonate buffer to quench cellular metabolism. Blood Metabolites were separated in water-soluble and lipophilic fractions. \n",
    "*Metabolite profiling* was performed on the polar metabolite fraction only, using *flow injection analysis (FIA) mass spectrometry* on an *Agilent 6550 iFunnel Q-TOF Mass Sprectrometry platform*. Each fraction was injected twice and data were acquired in both ionization modes (positive mode and negative mode).\n",
    "Raw data files were saved in native instrument format and later converted to HUPO-PSI standard format for mass spectrometry.\n"
   ]
  },
  {
   "cell_type": "markdown",
   "metadata": {},
   "source": [
    "## Structuring experimental description with ISA metadata model\n",
    "\n",
    "In order to describe the experiment, we rely on the models defined by the ISA-API. We thus need the following import statements to make the relevant functions available to our environment:"
   ]
  },
  {
   "cell_type": "code",
   "execution_count": 101,
   "metadata": {
    "collapsed": true
   },
   "outputs": [],
   "source": [
    "from isatools.create.models import *\n",
    "from isatools.model import *"
   ]
  },
  {
   "cell_type": "markdown",
   "metadata": {},
   "source": [
    "## Identification of Variables, their levels and definition of the Treatment Plans"
   ]
  },
  {
   "cell_type": "markdown",
   "metadata": {},
   "source": [
    "In the context of the above experiment, ** can you identify the independent variables and their associated levels**?\n",
    "\n",
    "Once done, declare the corresponding ISA objects. To do so, one may define a new variable by relying in the ```StudyFactor``` object in this way:\n",
    "\n",
    "```python\n",
    "chemical_agent = StudyFactor(name=\"chemical agent\")\n",
    "\n",
    "```\n",
    "One may also perform some semantic markup. To do so, you may add an ontology term for such study factor, for instance using the [EBI Ontology Lookup Service](https://www.ebi.ac.uk/ols/) to find a relevant term from the ChEBI ontology, and build the factor in this way:\n",
    "    \n",
    "```python\n",
    "chemical_agent = StudyFactor(name=\"agent\", factor_type=OntologyAnnotation(term=\"chemical entity\", term_source=\"ChEBI\", term_accession=\"http://purl.obolibrary.org/obo/CHEBI_24431\"))\n",
    "```    \n",
    "\n",
    "Define the relevant ```StudyFactor```'s below and see if you can find ontology terms that are relevant to annotate them (e.g. you can try and find terms from the Experimental Factor Ontology or EFO):\n"
   ]
  },
  {
   "cell_type": "code",
   "execution_count": 102,
   "metadata": {
    "collapsed": true
   },
   "outputs": [],
   "source": [
    "### HERE YOUR ANSWER\n",
    "\n",
    "chemical_agent = StudyFactor(name=\"agent\", \n",
    "                             factor_type=OntologyAnnotation(\n",
    "                                    term=\"chemical entity\", \n",
    "                                    term_source=\"ChEBI\", \n",
    "                                    term_accession=\"http://purl.obolibrary.org/obo/CHEBI_24431\"))"
   ]
  },
  {
   "cell_type": "code",
   "execution_count": null,
   "metadata": {
    "collapsed": true
   },
   "outputs": [],
   "source": []
  },
  {
   "cell_type": "markdown",
   "metadata": {},
   "source": [
    "Next, we can use a ```TreatmentFactory``` call to include the ```StudyFactor``` and its associated factor levels, i.e. the values defined by the experimentalist and that the variable will assume over the course of experiment execution.\n",
    "\n",
    "You should create the treatment factory providing the different study factors:\n",
    "\n",
    "```python\n",
    "treatment_factory = TreatmentFactory(factors=[ ... here list the variables...])\n",
    "\n",
    "```\n",
    "and then for each factor, you can add their levels in the following way:\n",
    "\n",
    "```python\n",
    "treatment_factory.add_factor_value( ... factor variable ..., { ... list of strings with the names of the factor values... }\n",
    "```\n"
   ]
  },
  {
   "cell_type": "code",
   "execution_count": 103,
   "metadata": {
    "collapsed": true
   },
   "outputs": [],
   "source": [
    "### HERE YOUR ANSWER\n",
    "\n",
    "treatment_factory = TreatmentFactory(factors=[chemical_agent])\n",
    "treatment_factory.add_factor_value(chemical_agent, {'value 1', 'etc.'})"
   ]
  },
  {
   "cell_type": "markdown",
   "metadata": {},
   "source": [
    "### Computing the Number of Unique Treatment Groups/Study Groups: \n"
   ]
  },
  {
   "cell_type": "markdown",
   "metadata": {},
   "source": [
    "The experiment plan follows a full factorial design where all combinations of factor values are considered. We can obtain the different treatments by relying on a utility method that, given the factors and their levels, computes the actual set of possible treatments:\n"
   ]
  },
  {
   "cell_type": "code",
   "execution_count": 104,
   "metadata": {
    "collapsed": true
   },
   "outputs": [],
   "source": [
    "all_treatments = treatment_factory.compute_full_factorial_design()"
   ]
  },
  {
   "cell_type": "markdown",
   "metadata": {},
   "source": [
    "How many treatment groups have been computed? Check the number you considered matches the output of running the command below:"
   ]
  },
  {
   "cell_type": "code",
   "execution_count": 105,
   "metadata": {},
   "outputs": [
    {
     "name": "stdout",
     "output_type": "stream",
     "text": [
      "Number of study groups (treatment groups): 2\n"
     ]
    }
   ],
   "source": [
    "print('Number of study groups (treatment groups): {}'.format(len(all_treatments)))"
   ]
  },
  {
   "cell_type": "markdown",
   "metadata": {},
   "source": [
    "We can now build a treatment plan, or ```TreatmentSequence```, by including all the treatments according to the factorial design:"
   ]
  },
  {
   "cell_type": "code",
   "execution_count": 106,
   "metadata": {
    "collapsed": true
   },
   "outputs": [],
   "source": [
    "treatment_sequence = TreatmentSequence(ranked_treatments=all_treatments)"
   ]
  },
  {
   "cell_type": "markdown",
   "metadata": {},
   "source": [
    "Are study subjects exposed to a single intervention or to multiple intervention?\n",
    "  \n"
   ]
  },
  {
   "cell_type": "markdown",
   "metadata": {},
   "source": [
    "You can now output a summary of the treatment plan that you created with the following command:"
   ]
  },
  {
   "cell_type": "code",
   "execution_count": 107,
   "metadata": {},
   "outputs": [
    {
     "data": {
      "text/plain": [
       "{'full_factorial': True,\n",
       " 'length_of_treatment_sequence': 1,\n",
       " 'list_of_treatments': [[{'factor': 'agent', 'value': 'value 1'}],\n",
       "  [{'factor': 'agent', 'value': 'etc.'}]],\n",
       " 'number_of_factor_levels_per_factor': {'agent': ['value 1', 'etc.']},\n",
       " 'number_of_factors': 1,\n",
       " 'number_of_treatment': 2,\n",
       " 'number_of_treatments': 2}"
      ]
     },
     "execution_count": 107,
     "metadata": {},
     "output_type": "execute_result"
    }
   ],
   "source": [
    "report = make_summary_from_treatment_sequence(treatment_sequence)\n",
    "report"
   ]
  },
  {
   "cell_type": "markdown",
   "metadata": {},
   "source": [
    "Is the treatment plan report in agreement with the experimental design?"
   ]
  },
  {
   "cell_type": "markdown",
   "metadata": {},
   "source": [
    "### Study group size"
   ]
  },
  {
   "cell_type": "markdown",
   "metadata": {},
   "source": [
    "The following code builds a slider (relying on the ```ipywidgets``` library) for you to set the group size, please select the appropriate number according to the experiment description:"
   ]
  },
  {
   "cell_type": "code",
   "execution_count": 108,
   "metadata": {},
   "outputs": [
    {
     "name": "stderr",
     "output_type": "stream",
     "text": [
      "Widget Javascript not detected.  It may not be installed or enabled properly.\n"
     ]
    },
    {
     "data": {},
     "metadata": {},
     "output_type": "display_data"
    }
   ],
   "source": [
    "from ipywidgets import IntSlider\n",
    "group_size = IntSlider(value=1, min=0, max=100, step=1, description='Group size:', disabled=False, continuous_update=False, orientation='horizontal', readout=True, readout_format='d')\n",
    "group_size\n"
   ]
  },
  {
   "cell_type": "markdown",
   "metadata": {},
   "source": [
    "The group size value you chose, and that is going to be used in the next section, is:"
   ]
  },
  {
   "cell_type": "code",
   "execution_count": 109,
   "metadata": {},
   "outputs": [
    {
     "data": {
      "text/plain": [
       "1"
      ]
     },
     "execution_count": 109,
     "metadata": {},
     "output_type": "execute_result"
    }
   ],
   "source": [
    "group_size.value"
   ]
  },
  {
   "cell_type": "markdown",
   "metadata": {},
   "source": [
    "## Sample collection and assay plans"
   ]
  },
  {
   "cell_type": "markdown",
   "metadata": {},
   "source": [
    "Given the group size selected above, we are now going to build the sample collection and assay plans based on the group size. Given this, can you say if the design is balanced or unbalanced?"
   ]
  },
  {
   "cell_type": "code",
   "execution_count": 110,
   "metadata": {
    "collapsed": true
   },
   "outputs": [],
   "source": [
    "plan = SampleAssayPlan(group_size=group_size.value)"
   ]
  },
  {
   "cell_type": "markdown",
   "metadata": {},
   "source": [
    "Let's now build a ```dictionary``` with the sample collection plan: it should contain key:value pairs with the specimen or sample type as key and the number of samples collected for each type over the course of the study. Here is the code snippet that you should complete:\n",
    "\n",
    "```python\n",
    "sample_collection_plan = { \"sample type 1\": 2, \"sample type 2\": 1 }\n",
    "```\n"
   ]
  },
  {
   "cell_type": "code",
   "execution_count": 111,
   "metadata": {
    "collapsed": true
   },
   "outputs": [],
   "source": [
    "### HERE YOUR ANSWER\n",
    "\n",
    "sample_collection_plan = { \"sample type 1\": 2, \"sample type 2\": 1 }\n"
   ]
  },
  {
   "cell_type": "markdown",
   "metadata": {},
   "source": [
    "Next, the following code will take the sample_collection_plan object that you built and include all the details in the sample_collection_plan object:"
   ]
  },
  {
   "cell_type": "code",
   "execution_count": 112,
   "metadata": {
    "collapsed": true
   },
   "outputs": [],
   "source": [
    "for sample_type in sample_collection_plan:    \n",
    "    plan.add_sample_type(sample_type)\n",
    "    plan.add_sample_plan_record(sample_type,sample_collection_plan[sample_type])\n"
   ]
  },
  {
   "cell_type": "markdown",
   "metadata": {},
   "source": [
    "### View the sample plan information as a JSON document\n",
    "\n",
    "This section is meant to show how to serialize key study design descriptors in a compact document serialized in format format. \n",
    "Why is this relevant? How would you use this feature? List 3 possible uses."
   ]
  },
  {
   "cell_type": "code",
   "execution_count": 113,
   "metadata": {
    "scrolled": true
   },
   "outputs": [
    {
     "name": "stdout",
     "output_type": "stream",
     "text": [
      "{\n",
      "    \"assay_plan\": [],\n",
      "    \"assay_types\": [],\n",
      "    \"group_size\": 1,\n",
      "    \"sample_plan\": [\n",
      "        {\n",
      "            \"sample_type\": \"sample type 2\",\n",
      "            \"sampling_size\": 1\n",
      "        },\n",
      "        {\n",
      "            \"sample_type\": \"sample type 1\",\n",
      "            \"sampling_size\": 2\n",
      "        }\n",
      "    ],\n",
      "    \"sample_qc_plan\": [],\n",
      "    \"sample_types\": [\n",
      "        \"sample type 1\",\n",
      "        \"sample type 2\"\n",
      "    ]\n",
      "}\n"
     ]
    }
   ],
   "source": [
    "import json\n",
    "from isatools.create.models import SampleAssayPlanEncoder\n",
    "print(json.dumps(plan, cls=SampleAssayPlanEncoder, sort_keys=True, indent=4, separators=(',', ': ')))"
   ]
  },
  {
   "cell_type": "markdown",
   "metadata": {},
   "source": [
    "## Create an ISA experimental description based on the study design and the sampling plan:\n",
    "\n",
    "In the following section, the task is to build ISA objects relying on the study design information we built above.\n"
   ]
  },
  {
   "cell_type": "markdown",
   "metadata": {},
   "source": [
    "Let's first create an ```Investigation``` object to hold all the information about the experiment with this command, which also assigns an identifier for the investigation."
   ]
  },
  {
   "cell_type": "code",
   "execution_count": 114,
   "metadata": {
    "collapsed": true
   },
   "outputs": [],
   "source": [
    "isa_investigation = Investigation(identifier='inv-dtp-exercise')"
   ]
  },
  {
   "cell_type": "markdown",
   "metadata": {},
   "source": [
    "Now, let's create a study object using the sample and assay plan as well as the ```TreatmentSequence``` object we built before. For this, we will need an object of the ```IsaModelObjectFactory``` class provided in the ISA-API:"
   ]
  },
  {
   "cell_type": "code",
   "execution_count": 115,
   "metadata": {
    "collapsed": true
   },
   "outputs": [],
   "source": [
    "isa_object_factory = IsaModelObjectFactory(plan, treatment_sequence)\n",
    "isa_study = isa_object_factory.create_study_from_plan()"
   ]
  },
  {
   "cell_type": "markdown",
   "metadata": {},
   "source": [
    "Now, we can link the study to the investigation we created before:"
   ]
  },
  {
   "cell_type": "code",
   "execution_count": 116,
   "metadata": {
    "collapsed": true
   },
   "outputs": [],
   "source": [
    "isa_investigation.studies = [isa_study]\n"
   ]
  },
  {
   "cell_type": "markdown",
   "metadata": {},
   "source": [
    "and set a name for the study file:"
   ]
  },
  {
   "cell_type": "code",
   "execution_count": 117,
   "metadata": {
    "collapsed": true
   },
   "outputs": [],
   "source": [
    "### HERE YOUR ANSWER\n",
    "\n",
    "isa_study.filename = '... complete here a filename for the study file...'"
   ]
  },
  {
   "cell_type": "markdown",
   "metadata": {},
   "source": [
    "Let's now check the study sample table:"
   ]
  },
  {
   "cell_type": "code",
   "execution_count": 118,
   "metadata": {},
   "outputs": [
    {
     "name": "stdout",
     "output_type": "stream",
     "text": [
      "Need more details to print table\n"
     ]
    }
   ],
   "source": [
    "from isatools.isatab import dump_tables_to_dataframes as dumpdf\n",
    "from qgrid import show_grid\n",
    "\n",
    "dataframes = dumpdf(isa_investigation)\n",
    "try:\n",
    "    sample_table = next(iter(dataframes.values()))\n",
    "    show_grid(sample_table)\n",
    "except StopIteration:\n",
    "    print(\"Need more details to print table\")\n"
   ]
  },
  {
   "cell_type": "code",
   "execution_count": 119,
   "metadata": {},
   "outputs": [
    {
     "name": "stdout",
     "output_type": "stream",
     "text": [
      "Need more details to print result\n"
     ]
    }
   ],
   "source": [
    "try:\n",
    "    print('Total rows generated: {}'.format(len(sample_table)))\n",
    "except NameError:\n",
    "    print(\"Need more details to print result\")"
   ]
  },
  {
   "cell_type": "markdown",
   "metadata": {},
   "source": [
    "### Study description and study design type\n"
   ]
  },
  {
   "cell_type": "markdown",
   "metadata": {},
   "source": [
    "Can you set the study description (or abstract) relying in this code snippet?\n",
    "\n",
    "```python\n",
    "isa_study.description = \"... here the text of the description...\"\n",
    "```\n"
   ]
  },
  {
   "cell_type": "code",
   "execution_count": 120,
   "metadata": {
    "collapsed": true
   },
   "outputs": [],
   "source": [
    "### HERE YOUR ANSWER\n",
    "\n",
    "isa_study.description = \"... here the text of the description...\"\n"
   ]
  },
  {
   "cell_type": "markdown",
   "metadata": {},
   "source": [
    "Next, we would like to specify the type of study design (and we can set multiple values if necessary). \n",
    "\n",
    "For this, we will build ontology annotations, as we did for the ```StudyFactor`` objects:\n",
    "\n",
    "```python\n",
    "descriptor_1 = OntologyAnnotation(\n",
    "                  term=\"... here the label of the term...\", \n",
    "                  term_source=\"... here the name of the ontology the term comes from...\", \n",
    "                  term_accession=\"... here the URL of the term ...\")\n",
    "```\n",
    "\n",
    "To determine some of the study design descriptors, consider the following questions and use the Ontology Lookup Service to find relevant terms:\n",
    "\n",
    "- is the experiment following an 'intervention design' or an 'observation design'?\n",
    "- is the design 'factorial' or a 'randomized block' design?\n",
    "- is the design 'full' or 'fractional'?"
   ]
  },
  {
   "cell_type": "code",
   "execution_count": 121,
   "metadata": {
    "collapsed": true
   },
   "outputs": [],
   "source": [
    "### HERE DEFINE YOUR DESCRIPTORS"
   ]
  },
  {
   "cell_type": "markdown",
   "metadata": {},
   "source": [
    "After you defined the descriptors, you can append them to isa_study.design_descriptors list as follows:\n",
    "\n",
    "```python\n",
    "isa_study.design_descriptors.append(descriptor_1)\n",
    "```\n"
   ]
  },
  {
   "cell_type": "code",
   "execution_count": 122,
   "metadata": {
    "collapsed": true
   },
   "outputs": [],
   "source": [
    "### HERE APPEND ALL THE DESCRIPTORS YOU DEFINED ABOVE"
   ]
  },
  {
   "cell_type": "markdown",
   "metadata": {},
   "source": [
    "## Assay and Data Acquisition Plans:\n",
    "\n",
    "From the textual description of the experiment, identify the *response variables* (a.k.a. dependent variables)."
   ]
  },
  {
   "cell_type": "markdown",
   "metadata": {},
   "source": [
    "The ISA model defines an *Assay Type* by a pair of descriptors:  a *type of measurement*  and the *technology* used to obtain these measurements.\n",
    "\n",
    "In the ISA model, there is a series of configuration files that define the vetted values for Measurement Type and Technology type.\n",
    "\n",
    "An ISA configuration can be accessed from: https://github.com/ISA-tools/Configuration-Files/tree/master/isaconfig-default_v2015-07-02\n",
    "\n",
    "Given those lists of configurations, let's define the assay types needed for our experiment.\n",
    "\n",
    "The way to define an assay type is as follows\n",
    "\n",
    "```python\n",
    "assay_type_1= AssayType(measurement_type='...here a supported measurement type...', technology_type='...here a supported technology type...')\n",
    "```\n",
    "Define below the assay types that you can identify from the experiment narrative:"
   ]
  },
  {
   "cell_type": "code",
   "execution_count": 123,
   "metadata": {
    "collapsed": true
   },
   "outputs": [],
   "source": [
    "### HERE YOUR ANSWER\n",
    "assay_type_1= AssayType(measurement_type='...here a supported measurement type...', \n",
    "                        technology_type='...here a supported technology type...')"
   ]
  },
  {
   "cell_type": "markdown",
   "metadata": {},
   "source": [
    "Let's now define a python set for the assay types:"
   ]
  },
  {
   "cell_type": "code",
   "execution_count": 124,
   "metadata": {
    "collapsed": true
   },
   "outputs": [],
   "source": [
    "assay_types = set()"
   ]
  },
  {
   "cell_type": "markdown",
   "metadata": {
    "collapsed": true
   },
   "source": [
    "You can add the types you defined above to the set as follows:\n",
    "    \n",
    "```python\n",
    "assay_types.add(assay_type_1)\n",
    "```\n",
    "\n",
    "Add all your assay types to the assay_types set below:"
   ]
  },
  {
   "cell_type": "code",
   "execution_count": 125,
   "metadata": {
    "collapsed": true
   },
   "outputs": [],
   "source": [
    "### HERE YOUR ANSWER\n",
    "assay_types.add(assay_type_1)\n"
   ]
  },
  {
   "cell_type": "markdown",
   "metadata": {},
   "source": [
    "Let's now visualise the assay types that you created:"
   ]
  },
  {
   "cell_type": "code",
   "execution_count": 126,
   "metadata": {},
   "outputs": [
    {
     "name": "stdout",
     "output_type": "stream",
     "text": [
      "...here a supported measurement type...  using  ...here a supported technology type...\n"
     ]
    }
   ],
   "source": [
    "for x in assay_types:\n",
    "        print(x.measurement_type.term,\" using \", x.technology_type.term)\n"
   ]
  },
  {
   "cell_type": "markdown",
   "metadata": {},
   "source": [
    "## Assay Specific Descriptors\n",
    "Each data acquisition modality comes with its own set of parameters. These parameters can be set as to capture the specifics of the underlying experimental workflow, which is then rendered as an ISA graph. This section of the exercise illustrates this process by looking at each ofthe experimental workflows used for sequencing and mass spectrometry applications, as declared in the experimental narrative.\n"
   ]
  },
  {
   "cell_type": "markdown",
   "metadata": {},
   "source": [
    "### Dealing with Next Generation Sequencing (NGS) Data Acquisition Plan"
   ]
  },
  {
   "cell_type": "markdown",
   "metadata": {},
   "source": [
    "Select in the following slider the number of technical replicates in the Next Generation Sequence data acquisition plan:"
   ]
  },
  {
   "cell_type": "code",
   "execution_count": 127,
   "metadata": {},
   "outputs": [
    {
     "name": "stderr",
     "output_type": "stream",
     "text": [
      "Widget Javascript not detected.  It may not be installed or enabled properly.\n"
     ]
    },
    {
     "data": {},
     "metadata": {},
     "output_type": "display_data"
    }
   ],
   "source": [
    "ngs_technical_replicates = IntSlider(value=0, min=0, max=5, step=1, description='Technical repeats:', disabled=False, continuous_update=False, orientation='horizontal', readout=True, readout_format='d')\n",
    "ngs_technical_replicates\n",
    "\n"
   ]
  },
  {
   "cell_type": "markdown",
   "metadata": {},
   "source": [
    "Let's now identify the instrument and include it in a set:"
   ]
  },
  {
   "cell_type": "code",
   "execution_count": 128,
   "metadata": {
    "collapsed": true
   },
   "outputs": [],
   "source": [
    "### HERE YOUR ANSWER\n",
    "instrument = '... here include the instrument name...'"
   ]
  },
  {
   "cell_type": "code",
   "execution_count": 129,
   "metadata": {
    "collapsed": true
   },
   "outputs": [],
   "source": [
    "sequencing_instruments = set()\n",
    "sequencing_instruments.add(instrument) "
   ]
  },
  {
   "cell_type": "markdown",
   "metadata": {},
   "source": [
    "How many different libraries were used for NGS? Set the value in the slider below (and you can change the default value so that you don't need to change the slider every time you re-run the cell):"
   ]
  },
  {
   "cell_type": "code",
   "execution_count": 130,
   "metadata": {},
   "outputs": [
    {
     "name": "stderr",
     "output_type": "stream",
     "text": [
      "Widget Javascript not detected.  It may not be installed or enabled properly.\n"
     ]
    },
    {
     "data": {},
     "metadata": {},
     "output_type": "display_data"
    }
   ],
   "source": [
    "ngs_distinct_libraries = IntSlider(value=0, min=0, max=5, step=1, description='Distinct libraries:', disabled=False, continuous_update=False, orientation='horizontal', readout=True, readout_format='d')\n",
    "ngs_distinct_libraries\n"
   ]
  },
  {
   "cell_type": "markdown",
   "metadata": {},
   "source": [
    "The value you selected was:"
   ]
  },
  {
   "cell_type": "code",
   "execution_count": 131,
   "metadata": {},
   "outputs": [
    {
     "data": {
      "text/plain": [
       "0"
      ]
     },
     "execution_count": 131,
     "metadata": {},
     "output_type": "execute_result"
    }
   ],
   "source": [
    "ngs_distinct_libraries.value"
   ]
  },
  {
   "cell_type": "markdown",
   "metadata": {},
   "source": [
    "The NGS parameters that you selected in the previous steps are known in ISA speak as 'topology modifiers'. This name refers to the fact that they affect the shape of the experimental graph being considered, where the graph has material or data entities as nodes and processes as edges.\n",
    "\n",
    "The following code defines a ```DNASeqAssayTopologyModifiers``` object and adds it to the AssayType object defined earlier on:"
   ]
  },
  {
   "cell_type": "code",
   "execution_count": 132,
   "metadata": {
    "scrolled": true
   },
   "outputs": [
    {
     "name": "stdout",
     "output_type": "stream",
     "text": [
      "DNASeqAssayTopologyModifiers(technical_replicates=0, instruments=['... here include the instrument name...'], distinct_libraries=0)\n"
     ]
    }
   ],
   "source": [
    "top_mods_seq = DNASeqAssayTopologyModifiers(\n",
    "    technical_replicates=ngs_technical_replicates.value, \n",
    "    instruments=sequencing_instruments,\n",
    "    distinct_libraries=ngs_distinct_libraries.value)\n",
    "\n",
    "assay_type_1.topology_modifiers = top_mods_seq\n",
    "\n",
    "print(assay_type_1.topology_modifiers)"
   ]
  },
  {
   "cell_type": "markdown",
   "metadata": {},
   "source": [
    "Now that we have all the information about the NGS assay type, we can add it to the plan:"
   ]
  },
  {
   "cell_type": "code",
   "execution_count": 133,
   "metadata": {
    "collapsed": true
   },
   "outputs": [],
   "source": [
    "plan.add_assay_type(assay_type_1)"
   ]
  },
  {
   "cell_type": "markdown",
   "metadata": {},
   "source": [
    "Finally, for the NGS, we need to identify to what sample type it is applied. Fill in the NGS sample type in the following variable:"
   ]
  },
  {
   "cell_type": "code",
   "execution_count": 134,
   "metadata": {
    "collapsed": true
   },
   "outputs": [],
   "source": [
    "### HERE YOUR ANSWER\n",
    "\n",
    "ngs_sample_type = '... here include the sample type for which NGS is applied...'"
   ]
  },
  {
   "cell_type": "markdown",
   "metadata": {},
   "source": [
    "The following code will associate the NGS assay type to the relevant sample type (as per your definition above):"
   ]
  },
  {
   "cell_type": "code",
   "execution_count": 135,
   "metadata": {},
   "outputs": [
    {
     "name": "stdout",
     "output_type": "stream",
     "text": [
      "doing nothing for sample type 2\n",
      "doing nothing for sample type 1\n"
     ]
    }
   ],
   "source": [
    "for sample_type in plan.sample_types:\n",
    "    if sample_type.value.term == ngs_sample_type:\n",
    "        print('adding assay for sample_type '+sample_type.value.term)\n",
    "        plan.add_assay_plan_record(sample_type.value.term, assay_type_1)\n",
    "        assay_plan = next(iter(plan.assay_plan))\n",
    "    elif sample_type.value.term != ngs_sample_type:\n",
    "        print('doing nothing for '+sample_type.value.term)\n",
    "        "
   ]
  },
  {
   "cell_type": "markdown",
   "metadata": {},
   "source": [
    "Let's now check the assay plan to see if it matches the experiment narrative:"
   ]
  },
  {
   "cell_type": "code",
   "execution_count": 136,
   "metadata": {},
   "outputs": [
    {
     "name": "stdout",
     "output_type": "stream",
     "text": [
      "Need more details to print assay plan\n"
     ]
    }
   ],
   "source": [
    "try:\n",
    "    print('Added assay plan: {0} -> {1}/{2}'.format(assay_plan[0].value.term, assay_plan[1].measurement_type.term, assay_plan[1].technology_type.term))\n",
    "    if len(top_mods_seq.instruments) > 0:\n",
    "        print('Instruments: {}'.format(list(top_mods_seq.instruments)))\n",
    "except NameError:\n",
    "    print(\"Need more details to print assay plan\")"
   ]
  },
  {
   "cell_type": "code",
   "execution_count": 137,
   "metadata": {},
   "outputs": [
    {
     "name": "stdout",
     "output_type": "stream",
     "text": [
      "{\n",
      "    \"assay_plan\": [],\n",
      "    \"assay_types\": [\n",
      "        {\n",
      "            \"measurement_type\": \"...here a supported measurement type...\",\n",
      "            \"technology_type\": \"...here a supported technology type...\",\n",
      "            \"topology_modifiers\": {\n",
      "                \"distinct_libraries\": 0,\n",
      "                \"instruments\": [\n",
      "                    \"... here include the instrument name...\"\n",
      "                ],\n",
      "                \"technical_replicates\": 0\n",
      "            }\n",
      "        }\n",
      "    ],\n",
      "    \"group_size\": 1,\n",
      "    \"sample_plan\": [\n",
      "        {\n",
      "            \"sample_type\": \"sample type 2\",\n",
      "            \"sampling_size\": 1\n",
      "        },\n",
      "        {\n",
      "            \"sample_type\": \"sample type 1\",\n",
      "            \"sampling_size\": 2\n",
      "        }\n",
      "    ],\n",
      "    \"sample_qc_plan\": [],\n",
      "    \"sample_types\": [\n",
      "        \"sample type 1\",\n",
      "        \"sample type 2\"\n",
      "    ]\n",
      "}\n"
     ]
    }
   ],
   "source": [
    "print(json.dumps(plan, cls=SampleAssayPlanEncoder, sort_keys=True, indent=4, separators=(',', ': ')))"
   ]
  },
  {
   "cell_type": "markdown",
   "metadata": {},
   "source": [
    "### Dealing with Mass Spectrometry Data Acquisition Plan"
   ]
  },
  {
   "cell_type": "markdown",
   "metadata": {},
   "source": [
    "Moving on, we'll now capture the information about second assay type, related to mass spectrometry.\n",
    "We want to identify, when relevant:\n",
    "- the chromatography instruments\n",
    "- the mass spectrometry instrument\n",
    "- the injection mode\n",
    "- the acquisition modes\n",
    "\n",
    "Given the definition of the following sets, add the relevant elements according to the experimental description:"
   ]
  },
  {
   "cell_type": "code",
   "execution_count": 138,
   "metadata": {
    "collapsed": true
   },
   "outputs": [],
   "source": [
    "chromatography_instruments = set()\n",
    "ms_instruments = set()\n",
    "injection_modes = set()\n",
    "acquisition_modes = set()\n"
   ]
  },
  {
   "cell_type": "code",
   "execution_count": 139,
   "metadata": {
    "collapsed": true
   },
   "outputs": [],
   "source": [
    "### HERE YOUR ANSWER"
   ]
  },
  {
   "cell_type": "markdown",
   "metadata": {},
   "source": [
    "How many technical replicates are used for the mass spectrometry assay? Set the appropriate value below:\n"
   ]
  },
  {
   "cell_type": "code",
   "execution_count": 140,
   "metadata": {
    "collapsed": true
   },
   "outputs": [],
   "source": [
    "### HERE YOUR ANSWER \n",
    "ms_tech_rep = 0"
   ]
  },
  {
   "cell_type": "markdown",
   "metadata": {},
   "source": [
    "Given all this information, we are in a position to define an object of the class ```MSAssayTopologyModifiers``` and assign it to the corresponding assay type:"
   ]
  },
  {
   "cell_type": "code",
   "execution_count": 142,
   "metadata": {},
   "outputs": [
    {
     "name": "stdout",
     "output_type": "stream",
     "text": [
      "There was an assay type left undefined\n"
     ]
    }
   ],
   "source": [
    "try:\n",
    "    top_mods_ms = MSAssayTopologyModifiers(\n",
    "          technical_replicates=ms_tech_rep, \n",
    "          injection_modes=injection_modes, \n",
    "          acquisition_modes=acquisition_modes, \n",
    "          instruments=ms_instruments, \n",
    "          chromatography_instruments=chromatography_instruments)\n",
    "\n",
    "    assay_type_2.topology_modifiers = top_mods_ms\n",
    "except NameError:\n",
    "    print(\"There was an assay type left undefined\")"
   ]
  },
  {
   "cell_type": "markdown",
   "metadata": {},
   "source": [
    "Let's see all the settings to check they are as expected:"
   ]
  },
  {
   "cell_type": "code",
   "execution_count": 143,
   "metadata": {},
   "outputs": [
    {
     "name": "stdout",
     "output_type": "stream",
     "text": [
      "no chromatography used or no information supplied\n"
     ]
    }
   ],
   "source": [
    "if len(top_mods_ms.chromatography_instruments) > 0:\n",
    "    print('Chromatography instruments: {}'.format(list(top_mods_ms.chromatography_instruments)))\n",
    "else:\n",
    "    print('no chromatography used or no information supplied')\n",
    "\n",
    "if len(top_mods_ms.instruments) > 0:\n",
    "    print('Data acquisition instruments: {}'.format(list(top_mods_ms.instruments)))    \n",
    "if len(top_mods_ms.injection_modes) > 0:\n",
    "    print('Injection modes: {}'.format(list(top_mods_ms.injection_modes)))\n",
    "if len(top_mods_ms.acquisition_modes) > 0:\n",
    "    print('Acquisition modes: {}'.format(list(top_mods_ms.acquisition_modes)))\n"
   ]
  },
  {
   "cell_type": "markdown",
   "metadata": {},
   "source": [
    "Then, we add the mass spectrometry assay to the plan:"
   ]
  },
  {
   "cell_type": "code",
   "execution_count": 145,
   "metadata": {},
   "outputs": [
    {
     "name": "stdout",
     "output_type": "stream",
     "text": [
      "There was an assay type left undefined\n"
     ]
    }
   ],
   "source": [
    "try:\n",
    "    plan.add_assay_type(assay_type_2)\n",
    "    plan.add_assay_plan_record(\"blood\", assay_type_2)\n",
    "\n",
    "    assay_plan = next(iter(plan.assay_plan))\n",
    "except NameError:\n",
    "    print(\"There was an assay type left undefined\")"
   ]
  },
  {
   "cell_type": "markdown",
   "metadata": {},
   "source": [
    "And let's see the json representation of the SampleAssayPlan:"
   ]
  },
  {
   "cell_type": "code",
   "execution_count": 146,
   "metadata": {},
   "outputs": [
    {
     "name": "stdout",
     "output_type": "stream",
     "text": [
      "{\n",
      "    \"assay_plan\": [],\n",
      "    \"assay_types\": [\n",
      "        {\n",
      "            \"measurement_type\": \"...here a supported measurement type...\",\n",
      "            \"technology_type\": \"...here a supported technology type...\",\n",
      "            \"topology_modifiers\": {\n",
      "                \"distinct_libraries\": 0,\n",
      "                \"instruments\": [\n",
      "                    \"... here include the instrument name...\"\n",
      "                ],\n",
      "                \"technical_replicates\": 0\n",
      "            }\n",
      "        }\n",
      "    ],\n",
      "    \"group_size\": 1,\n",
      "    \"sample_plan\": [\n",
      "        {\n",
      "            \"sample_type\": \"sample type 2\",\n",
      "            \"sampling_size\": 1\n",
      "        },\n",
      "        {\n",
      "            \"sample_type\": \"sample type 1\",\n",
      "            \"sampling_size\": 2\n",
      "        }\n",
      "    ],\n",
      "    \"sample_qc_plan\": [],\n",
      "    \"sample_types\": [\n",
      "        \"sample type 1\",\n",
      "        \"sample type 2\"\n",
      "    ]\n",
      "}\n"
     ]
    }
   ],
   "source": [
    "print(json.dumps(plan, \n",
    "                 cls=SampleAssayPlanEncoder, \n",
    "                 sort_keys=True, \n",
    "                 indent=4, \n",
    "                 separators=(',', ': ')))"
   ]
  },
  {
   "cell_type": "markdown",
   "metadata": {},
   "source": [
    "As the last step, we generate assay tables from the information on the Assay Plans and visualise the output files."
   ]
  },
  {
   "cell_type": "code",
   "execution_count": 147,
   "metadata": {
    "collapsed": true
   },
   "outputs": [],
   "source": [
    "isa_investigation.studies = [isa_object_factory.create_assays_from_plan()]\n",
    "\n",
    "for assay in isa_investigation.studies[-1].assays:\n",
    "    print('Assay generated: {0}, {1} samples, {2} processes, {3} data files'\n",
    "          .format(assay.filename, \n",
    "                  len(assay.samples), \n",
    "                  len(assay.process_sequence), \n",
    "                  len(assay.data_files)))\n",
    "dataframes = dumpdf(isa_investigation)"
   ]
  },
  {
   "cell_type": "code",
   "execution_count": 156,
   "metadata": {},
   "outputs": [
    {
     "name": "stdout",
     "output_type": "stream",
     "text": [
      "Need more information to print the table\n"
     ]
    },
    {
     "name": "stderr",
     "output_type": "stream",
     "text": [
      "Widget Javascript not detected.  It may not be installed or enabled properly.\n"
     ]
    },
    {
     "data": {},
     "metadata": {},
     "output_type": "display_data"
    }
   ],
   "source": [
    "import pandas as pd\n",
    "table = pd.DataFrame()\n",
    "try:\n",
    "    table = dataframes[next(iter(dataframes.keys()))]\n",
    "except StopIteration:\n",
    "    print(\"Need more information to print the table\")\n",
    "    \n",
    "show_grid(table)"
   ]
  },
  {
   "cell_type": "code",
   "execution_count": 157,
   "metadata": {},
   "outputs": [
    {
     "name": "stdout",
     "output_type": "stream",
     "text": [
      "Need more details to print the assay table\n"
     ]
    },
    {
     "name": "stderr",
     "output_type": "stream",
     "text": [
      "Widget Javascript not detected.  It may not be installed or enabled properly.\n"
     ]
    },
    {
     "data": {},
     "metadata": {},
     "output_type": "display_data"
    }
   ],
   "source": [
    "table = pd.DataFrame()\n",
    "try:\n",
    "    table = dataframes['a_blood_ms_FIA_positive_assay.txt']\n",
    "except KeyError:\n",
    "    print(\"Need more details to print the assay table\")\n",
    "show_grid(table)    "
   ]
  },
  {
   "cell_type": "code",
   "execution_count": 153,
   "metadata": {},
   "outputs": [
    {
     "name": "stdout",
     "output_type": "stream",
     "text": [
      "Need more details to print the assay table\n"
     ]
    }
   ],
   "source": [
    "table = pd.DataFrame()\n",
    "try:\n",
    "    table = dataframes['a_blood_ms_FIA_negative_assay.txt']\n",
    "except KeyError:\n",
    "    print(\"Need more details to print the assay table\")\n",
    "show_grid(table)    "
   ]
  },
  {
   "cell_type": "code",
   "execution_count": 158,
   "metadata": {},
   "outputs": [
    {
     "name": "stdout",
     "output_type": "stream",
     "text": [
      "Need more details to print the assay table\n"
     ]
    },
    {
     "name": "stderr",
     "output_type": "stream",
     "text": [
      "Widget Javascript not detected.  It may not be installed or enabled properly.\n"
     ]
    },
    {
     "data": {},
     "metadata": {},
     "output_type": "display_data"
    }
   ],
   "source": [
    "table = pd.DataFrame()\n",
    "try:\n",
    "    table = dataframes['a_kidney_dnaseq_Illumina HiSeq 2000_assay.txt']\n",
    "except KeyError:\n",
    "    print(\"Need more details to print the assay table\")\n",
    "show_grid(table)    "
   ]
  }
 ],
 "metadata": {
  "kernelspec": {
   "display_name": "Python 3",
   "language": "python",
   "name": "python3"
  },
  "language_info": {
   "codemirror_mode": {
    "name": "ipython",
    "version": 3
   },
   "file_extension": ".py",
   "mimetype": "text/x-python",
   "name": "python",
   "nbconvert_exporter": "python",
   "pygments_lexer": "ipython3",
   "version": "3.5.0"
  }
 },
 "nbformat": 4,
 "nbformat_minor": 1
}
