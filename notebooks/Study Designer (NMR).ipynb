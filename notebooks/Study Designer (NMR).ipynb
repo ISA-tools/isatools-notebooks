{
 "cells": [
  {
   "cell_type": "markdown",
   "metadata": {},
   "source": [
    "# Study Designer Example (NMR)"
   ]
  },
  {
   "cell_type": "code",
   "execution_count": 1,
   "metadata": {
    "collapsed": true
   },
   "outputs": [],
   "source": [
    "from ipywidgets import (RadioButtons, VBox, HBox, Layout, Label, Checkbox, Text, IntSlider)\n",
    "from qgrid import show_grid\n",
    "label_layout = Layout(width='100%')\n",
    "from isatools.create.models import *\n",
    "from isatools.model import Investigation\n",
    "from isatools.isatab import dump_tables_to_dataframes as dumpdf\n",
    "import qgrid\n",
    "qgrid.nbinstall(overwrite=True)"
   ]
  },
  {
   "cell_type": "markdown",
   "metadata": {},
   "source": [
    "## Sample planning section"
   ]
  },
  {
   "cell_type": "markdown",
   "metadata": {},
   "source": [
    "### Study design type\n",
    "\n",
    "Please specify if the study is an intervention or an observation."
   ]
  },
  {
   "cell_type": "code",
   "execution_count": 2,
   "metadata": {},
   "outputs": [
    {
     "name": "stderr",
     "output_type": "stream",
     "text": [
      "Widget Javascript not detected.  It may not be installed or enabled properly.\n"
     ]
    },
    {
     "data": {
      "application/vnd.jupyter.widget-view+json": {
       "model_id": "f91d32af8a2b42efb6312b9024c1949f"
      }
     },
     "metadata": {},
     "output_type": "display_data"
    }
   ],
   "source": [
    "rad_study_design = RadioButtons(options=['Intervention', 'Observation'], value='Intervention', disabled=False)\n",
    "VBox([Label('Study design type?', layout=label_layout), rad_study_design])"
   ]
  },
  {
   "cell_type": "markdown",
   "metadata": {},
   "source": [
    "### Intervention study\n",
    "\n",
    "If specifying an intervention study, please answer the following:\n",
    " - Are study subjects exposed to a single intervention or to multiple intervention?\n",
    " - Are there 'hard to change' factors, which restrict randomization of experimental unit?\n",
    " \n",
    "*Note: if you chose 'observation' as the study design type, the following choices will be disabled and you should skip to the Observation study section*\n",
    " "
   ]
  },
  {
   "cell_type": "code",
   "execution_count": 3,
   "metadata": {},
   "outputs": [
    {
     "name": "stderr",
     "output_type": "stream",
     "text": [
      "Widget Javascript not detected.  It may not be installed or enabled properly.\n"
     ]
    },
    {
     "data": {
      "application/vnd.jupyter.widget-view+json": {
       "model_id": "d0e6c15030b64574a9bbb5019164efe7"
      }
     },
     "metadata": {},
     "output_type": "display_data"
    }
   ],
   "source": [
    "if rad_study_design.value == 'Intervention':\n",
    "    study_design = StudyDesign()\n",
    "if rad_study_design.value == 'Observation':\n",
    "    study_design = None\n",
    "intervention_ui_disabled = not isinstance(study_design, StudyDesign)\n",
    "intervention_type = RadioButtons(options=['single', 'multiple'], value='single', disabled=intervention_ui_disabled)\n",
    "intervention_type_vbox = VBox([Label('Single intervention or to multiple intervention?', layout=label_layout), intervention_type])\n",
    "free_or_restricted_design = RadioButtons(options=['yes', 'no'], value='no', disabled=intervention_ui_disabled)\n",
    "free_or_restricted_design_vbox = VBox([Label(\"Are there 'hard to change' factors?\", layout=label_layout), free_or_restricted_design])\n",
    "HBox([intervention_type_vbox, free_or_restricted_design_vbox])"
   ]
  },
  {
   "cell_type": "code",
   "execution_count": 4,
   "metadata": {},
   "outputs": [
    {
     "name": "stderr",
     "output_type": "stream",
     "text": [
      "Widget Javascript not detected.  It may not be installed or enabled properly.\n"
     ]
    },
    {
     "data": {
      "application/vnd.jupyter.widget-view+json": {
       "model_id": "864a71677f2f4f4381312cce617dbb2f"
      }
     },
     "metadata": {},
     "output_type": "display_data"
    }
   ],
   "source": [
    "hard_to_change_factors_ui_disabled = free_or_restricted_design.value == 'no'\n",
    "hard_to_change_factors = RadioButtons(options=[1, 2], value=1, disabled=hard_to_change_factors_ui_disabled)\n",
    "VBox([Label(\"If applicable, how many 'hard to change factors'?\", layout=label_layout), hard_to_change_factors])"
   ]
  },
  {
   "cell_type": "code",
   "execution_count": 5,
   "metadata": {},
   "outputs": [
    {
     "name": "stdout",
     "output_type": "stream",
     "text": [
      "Interventions: Single intervention\n",
      "Design type: factorial\n"
     ]
    }
   ],
   "source": [
    "repeats = intervention_type.value != 'single'\n",
    "factorial_design = free_or_restricted_design.value == 'no'\n",
    "split_plot_design = (free_or_restricted_design.value == 'yes' and hard_to_change_factors.value == 1)\n",
    "split_split_plot_design = (free_or_restricted_design.value == 'yes' and hard_to_change_factors.value == 2)\n",
    "print('Interventions: {}'.format('Multiple interventions' if repeats else 'Single intervention'))\n",
    "design_type = 'factorial'  # always default to factorial\n",
    "if split_plot_design:\n",
    "    design_type = 'split plot'\n",
    "elif split_split_plot_design:\n",
    "    design_type = 'split split'\n",
    "print('Design type: {}'.format(design_type))"
   ]
  },
  {
   "cell_type": "markdown",
   "metadata": {},
   "source": [
    "#### Factorial design - intervention types\n",
    "\n",
    "If specifying an factorial design, please list the intervention types here."
   ]
  },
  {
   "cell_type": "code",
   "execution_count": 6,
   "metadata": {},
   "outputs": [
    {
     "name": "stderr",
     "output_type": "stream",
     "text": [
      "Widget Javascript not detected.  It may not be installed or enabled properly.\n"
     ]
    },
    {
     "data": {
      "application/vnd.jupyter.widget-view+json": {
       "model_id": "3e0888ac91cd4228868b923088a7d101"
      }
     },
     "metadata": {},
     "output_type": "display_data"
    }
   ],
   "source": [
    "factorial_design_ui_disabled = not factorial_design\n",
    "chemical_intervention = Checkbox(value=True, description='Chemical intervention', disabled=factorial_design_ui_disabled)\n",
    "behavioural_intervention = Checkbox(value=False, description='Behavioural intervention', disabled=factorial_design_ui_disabled)\n",
    "surgical_intervention = Checkbox(value=False, description='Surgical intervention', disabled=factorial_design_ui_disabled)\n",
    "biological_intervention = Checkbox(value=False, description='Biological intervention', disabled=factorial_design_ui_disabled)\n",
    "radiological_intervention = Checkbox(value=False, description='Radiological intervention', disabled=factorial_design_ui_disabled)\n",
    "VBox([chemical_intervention, surgical_intervention, biological_intervention, radiological_intervention])"
   ]
  },
  {
   "cell_type": "code",
   "execution_count": 7,
   "metadata": {},
   "outputs": [
    {
     "name": "stderr",
     "output_type": "stream",
     "text": [
      "Widget Javascript not detected.  It may not be installed or enabled properly.\n"
     ]
    },
    {
     "data": {
      "application/vnd.jupyter.widget-view+json": {
       "model_id": "fe2f86c0709848f2a57480d44ed2e855"
      }
     },
     "metadata": {},
     "output_type": "display_data"
    }
   ],
   "source": [
    "level_uis = []\n",
    "if chemical_intervention:\n",
    "    agent_levels = Text(\n",
    "        value='calpol, no agent',\n",
    "        placeholder='e.g. cocaine, calpol',\n",
    "        description='Agent:',\n",
    "        disabled=False\n",
    "    )\n",
    "    dose_levels = Text(\n",
    "        value='low, high',\n",
    "        placeholder='e.g. low, high',\n",
    "        description='Dose levels:',\n",
    "        disabled=False\n",
    "    )\n",
    "    duration_of_exposure_levels = Text(\n",
    "        value='short, long',\n",
    "        placeholder='e.g. short, long',\n",
    "        description='Duration of exposure:',\n",
    "        disabled=False\n",
    "    )\n",
    "VBox([Label(\"Chemical intervention factor levels:\", layout=label_layout), agent_levels, dose_levels, duration_of_exposure_levels])"
   ]
  },
  {
   "cell_type": "code",
   "execution_count": 8,
   "metadata": {},
   "outputs": [
    {
     "name": "stdout",
     "output_type": "stream",
     "text": [
      "Number of study groups (treatment groups): 8\n"
     ]
    }
   ],
   "source": [
    "factory = TreatmentFactory(intervention_type=INTERVENTIONS['CHEMICAL'], factors=BASE_FACTORS)\n",
    "for agent_level in agent_levels.value.split(','):\n",
    "    factory.add_factor_value(BASE_FACTORS[0], agent_level.strip())\n",
    "for dose_level in dose_levels.value.split(','):\n",
    "    factory.add_factor_value(BASE_FACTORS[1], dose_level.strip())\n",
    "for duration_of_exposure_level in duration_of_exposure_levels.value.split(','):\n",
    "    factory.add_factor_value(BASE_FACTORS[2], duration_of_exposure_level.strip())\n",
    "print('Number of study groups (treatment groups): {}'.format(len(factory.compute_full_factorial_design())))\n",
    "treatment_sequence = TreatmentSequence(ranked_treatments=factory.compute_full_factorial_design())"
   ]
  },
  {
   "cell_type": "markdown",
   "metadata": {},
   "source": [
    "Next, specify if all study groups of the same size, i.e have the same number of subjects? (in other words, are the groups balanced)."
   ]
  },
  {
   "cell_type": "code",
   "execution_count": 9,
   "metadata": {},
   "outputs": [
    {
     "name": "stderr",
     "output_type": "stream",
     "text": [
      "Widget Javascript not detected.  It may not be installed or enabled properly.\n"
     ]
    },
    {
     "data": {
      "application/vnd.jupyter.widget-view+json": {
       "model_id": "1dfed6de9f204ddf80445ecef4a68974"
      }
     },
     "metadata": {},
     "output_type": "display_data"
    }
   ],
   "source": [
    "group_blanced = RadioButtons(options=['Balanced', 'Unbalanced'], value='Balanced', disabled=False)\n",
    "VBox([Label('Are study groups balanced?', layout=label_layout), group_blanced])"
   ]
  },
  {
   "cell_type": "markdown",
   "metadata": {},
   "source": [
    "Provide the number of subject per study group:"
   ]
  },
  {
   "cell_type": "code",
   "execution_count": 10,
   "metadata": {},
   "outputs": [
    {
     "name": "stderr",
     "output_type": "stream",
     "text": [
      "Widget Javascript not detected.  It may not be installed or enabled properly.\n"
     ]
    },
    {
     "data": {
      "application/vnd.jupyter.widget-view+json": {
       "model_id": "848a7aa8dfb74faf8515cd30b9983049"
      }
     },
     "metadata": {},
     "output_type": "display_data"
    }
   ],
   "source": [
    "group_size = IntSlider(value=5, min=0, max=100, step=1, description='Group size:', disabled=False, continuous_update=False, orientation='horizontal', readout=True, readout_format='d')\n",
    "group_size"
   ]
  },
  {
   "cell_type": "code",
   "execution_count": 11,
   "metadata": {
    "collapsed": true
   },
   "outputs": [],
   "source": [
    "plan = SampleAssayPlan(group_size=group_size.value)"
   ]
  },
  {
   "cell_type": "code",
   "execution_count": 12,
   "metadata": {},
   "outputs": [
    {
     "name": "stderr",
     "output_type": "stream",
     "text": [
      "Widget Javascript not detected.  It may not be installed or enabled properly.\n"
     ]
    },
    {
     "data": {
      "application/vnd.jupyter.widget-view+json": {
       "model_id": "aa58d3ef0a3f4f7392f4c543a2f68048"
      }
     },
     "metadata": {},
     "output_type": "display_data"
    }
   ],
   "source": [
    "rad_sample_type = RadioButtons(options=['Blood', 'Sweat', 'Tears', 'Urine'], value='Urine', disabled=False)\n",
    "VBox([Label('Sample type?', layout=label_layout), rad_sample_type])"
   ]
  },
  {
   "cell_type": "markdown",
   "metadata": {},
   "source": [
    "How many times each of the samples have been collected?"
   ]
  },
  {
   "cell_type": "code",
   "execution_count": 13,
   "metadata": {},
   "outputs": [
    {
     "name": "stderr",
     "output_type": "stream",
     "text": [
      "Widget Javascript not detected.  It may not be installed or enabled properly.\n"
     ]
    },
    {
     "data": {
      "application/vnd.jupyter.widget-view+json": {
       "model_id": "291ba76390ca4e3194a1796b50d4042e"
      }
     },
     "metadata": {},
     "output_type": "display_data"
    }
   ],
   "source": [
    "sampling_size = IntSlider(value=3, min=0, max=100, step=1, description='Sample size:', disabled=False, continuous_update=False, orientation='horizontal', readout=True, readout_format='d')\n",
    "sampling_size"
   ]
  },
  {
   "cell_type": "code",
   "execution_count": 14,
   "metadata": {
    "collapsed": true
   },
   "outputs": [],
   "source": [
    "plan.add_sample_type(rad_sample_type.value)\n",
    "plan.add_sample_plan_record(rad_sample_type.value, sampling_size.value)\n",
    "isa_object_factory = IsaModelObjectFactory(plan, treatment_sequence)"
   ]
  },
  {
   "cell_type": "markdown",
   "metadata": {},
   "source": [
    "## Generate ISA model objects from the sample plan and render the study-sample table"
   ]
  },
  {
   "cell_type": "markdown",
   "metadata": {},
   "source": [
    "*Check state of the Sample Assay Plan after entering sample planning information:*"
   ]
  },
  {
   "cell_type": "code",
   "execution_count": 15,
   "metadata": {},
   "outputs": [
    {
     "name": "stdout",
     "output_type": "stream",
     "text": [
      "{\n",
      "    \"assay_plan\": [],\n",
      "    \"assay_types\": [],\n",
      "    \"group_size\": 5,\n",
      "    \"sample_plan\": [\n",
      "        {\n",
      "            \"sample_type\": \"Urine\",\n",
      "            \"sampling_size\": 3\n",
      "        }\n",
      "    ],\n",
      "    \"sample_qc_plan\": [],\n",
      "    \"sample_types\": [\n",
      "        \"Urine\"\n",
      "    ]\n",
      "}\n"
     ]
    }
   ],
   "source": [
    "import json\n",
    "from isatools.create.models import SampleAssayPlanEncoder\n",
    "print(json.dumps(plan, cls=SampleAssayPlanEncoder, sort_keys=True, indent=4, separators=(',', ': ')))"
   ]
  },
  {
   "cell_type": "code",
   "execution_count": 16,
   "metadata": {},
   "outputs": [
    {
     "name": "stderr",
     "output_type": "stream",
     "text": [
      "Widget Javascript not detected.  It may not be installed or enabled properly.\n"
     ]
    },
    {
     "data": {
      "application/vnd.jupyter.widget-view+json": {
       "model_id": "49f8079a190c43ec85e59d7e8dfdb59a"
      }
     },
     "metadata": {},
     "output_type": "display_data"
    }
   ],
   "source": [
    "isa_investigation = Investigation(identifier='inv101')\n",
    "isa_study = isa_object_factory.create_study_from_plan()\n",
    "isa_study.filename = 's_study.txt'\n",
    "isa_investigation.studies = [isa_study]\n",
    "dataframes = dumpdf(isa_investigation)\n",
    "sample_table = next(iter(dataframes.values()))\n",
    "show_grid(sample_table)"
   ]
  },
  {
   "cell_type": "code",
   "execution_count": 17,
   "metadata": {},
   "outputs": [
    {
     "name": "stdout",
     "output_type": "stream",
     "text": [
      "Total rows generated: 120\n"
     ]
    }
   ],
   "source": [
    "print('Total rows generated: {}'.format(len(sample_table)))"
   ]
  },
  {
   "cell_type": "markdown",
   "metadata": {},
   "source": [
    "## Assay planning "
   ]
  },
  {
   "cell_type": "markdown",
   "metadata": {},
   "source": [
    "### Select assay technology type to map to sample type from sample plan"
   ]
  },
  {
   "cell_type": "code",
   "execution_count": 18,
   "metadata": {},
   "outputs": [
    {
     "name": "stderr",
     "output_type": "stream",
     "text": [
      "Widget Javascript not detected.  It may not be installed or enabled properly.\n"
     ]
    },
    {
     "data": {
      "application/vnd.jupyter.widget-view+json": {
       "model_id": "512a940f54114adca8c83c751a6d8df5"
      }
     },
     "metadata": {},
     "output_type": "display_data"
    }
   ],
   "source": [
    "rad_assay_type = RadioButtons(options=['DNA microarray', 'DNA sequencing', 'Mass spectrometry', 'NMR spectroscopy'], value='NMR spectroscopy', disabled=False)\n",
    "VBox([Label('Assay type to map to sample type \"{}\"?'.format(rad_sample_type.value), layout=label_layout), rad_assay_type])"
   ]
  },
  {
   "cell_type": "code",
   "execution_count": 19,
   "metadata": {},
   "outputs": [
    {
     "name": "stdout",
     "output_type": "stream",
     "text": [
      "Selected measurement type \"metabolite profiling\" and technology type \"NMR spectroscopy\"\n"
     ]
    }
   ],
   "source": [
    "if rad_assay_type.value == 'NMR spectroscopy':\n",
    "    assay_type = AssayType(measurement_type='metabolite profiling', technology_type='nmr spectroscopy')\n",
    "    print('Selected measurement type \"metabolite profiling\" and technology type \"NMR spectroscopy\"')\n",
    "else:\n",
    "    raise Exception('Assay type not implemented')"
   ]
  },
  {
   "cell_type": "markdown",
   "metadata": {},
   "source": [
    "### Topology modifications"
   ]
  },
  {
   "cell_type": "code",
   "execution_count": 20,
   "metadata": {},
   "outputs": [
    {
     "name": "stderr",
     "output_type": "stream",
     "text": [
      "Widget Javascript not detected.  It may not be installed or enabled properly.\n"
     ]
    },
    {
     "data": {
      "application/vnd.jupyter.widget-view+json": {
       "model_id": "bf154d11728445f1a1e87372a4864cb2"
      }
     },
     "metadata": {},
     "output_type": "display_data"
    }
   ],
   "source": [
    "instr_bruker = Checkbox(value=True, description='Bruker DRX700')\n",
    "VBox([Label(\"Data acquisition instruments:\", layout=label_layout), instr_bruker])"
   ]
  },
  {
   "cell_type": "code",
   "execution_count": 21,
   "metadata": {
    "collapsed": true
   },
   "outputs": [],
   "source": [
    "if instr_bruker.value: instruments = {'Bruker DRX700'}\n",
    "else: instruments = set()"
   ]
  },
  {
   "cell_type": "code",
   "execution_count": 22,
   "metadata": {},
   "outputs": [
    {
     "name": "stderr",
     "output_type": "stream",
     "text": [
      "Widget Javascript not detected.  It may not be installed or enabled properly.\n"
     ]
    },
    {
     "data": {
      "application/vnd.jupyter.widget-view+json": {
       "model_id": "324a31a1d51546f8a8d47def5aae0856"
      }
     },
     "metadata": {},
     "output_type": "display_data"
    }
   ],
   "source": [
    "technical_replicates = IntSlider(value=2, min=0, max=5, step=1, description='Technical repeats:', disabled=False, continuous_update=False, orientation='horizontal', readout=True, readout_format='d')\n",
    "technical_replicates"
   ]
  },
  {
   "cell_type": "code",
   "execution_count": 23,
   "metadata": {},
   "outputs": [
    {
     "name": "stderr",
     "output_type": "stream",
     "text": [
      "Widget Javascript not detected.  It may not be installed or enabled properly.\n"
     ]
    },
    {
     "data": {
      "application/vnd.jupyter.widget-view+json": {
       "model_id": "2cbcabd91915428fabf1d44a3ebe5c2b"
      }
     },
     "metadata": {},
     "output_type": "display_data"
    }
   ],
   "source": [
    "pulse_sequence_TOCSY = Checkbox(value=True, description='Pulse seq: TOCSY')\n",
    "pulse_sequence_NOESY = Checkbox(value=True, description='Pulse seq: NOESY')\n",
    "pulse_sequence_CPMG = Checkbox(value=False, description='Pulse seq: CPMG')\n",
    "acq_mod_1d = Checkbox(value=True, description='Acquisition mode: 1D')\n",
    "acq_mod_2d = Checkbox(value=True, description='Acquisition mode: 2D')\n",
    "HBox([VBox([pulse_sequence_TOCSY, pulse_sequence_NOESY, pulse_sequence_CPMG]), VBox([acq_mod_1d, acq_mod_2d])])"
   ]
  },
  {
   "cell_type": "code",
   "execution_count": 24,
   "metadata": {
    "scrolled": true
   },
   "outputs": [
    {
     "name": "stdout",
     "output_type": "stream",
     "text": [
      "Added assay plan: Urine -> metabolite profiling/nmr spectroscopy\n",
      "Technical replicates: 2\n",
      "Data acquisition instruments: ['Bruker DRX700']\n",
      "Pulse sequecnces: ['NOESY', 'TOCSY']\n",
      "Acquisition modes: ['1D', '2D']\n"
     ]
    }
   ],
   "source": [
    "pulse_sequences = set()\n",
    "acquisition_modes = set()\n",
    "if pulse_sequence_TOCSY.value: pulse_sequences.add('TOCSY')\n",
    "if pulse_sequence_NOESY.value: pulse_sequences.add('NOESY')\n",
    "if pulse_sequence_CPMG.value: pulse_sequences.add('CPMG')\n",
    "if len(pulse_sequences) == 0: raise Exception('Must specific at least one pulse sequence for NMR')\n",
    "if acq_mod_1d.value: acquisition_modes.add('1D')\n",
    "if acq_mod_2d.value: acquisition_modes.add('2D')\n",
    "if len(acquisition_modes) == 0: raise Exception('Must specific at least one acquisition mode for NMR')\n",
    "top_mods = NMRAssayTopologyModifiers(technical_replicates=technical_replicates.value, pulse_sequences=pulse_sequences, instruments=instruments, acquisition_modes=acquisition_modes)\n",
    "assay_type.topology_modifiers = top_mods\n",
    "plan.add_assay_type(assay_type)\n",
    "plan.add_assay_plan_record(rad_sample_type.value, assay_type)\n",
    "assay_plan = next(iter(plan.assay_plan))\n",
    "print('Added assay plan: {0} -> {1}/{2}'.format(assay_plan[0].value.term, assay_plan[1].measurement_type.term, assay_plan[1].technology_type.term))\n",
    "\n",
    "print('Technical replicates: {}'.format(top_mods.technical_replicates))\n",
    "if len(top_mods.instruments) > 0:\n",
    "    print('Data acquisition instruments: {}'.format(list(top_mods.instruments)))\n",
    "if len(top_mods.pulse_sequences) > 0:\n",
    "    print('Pulse sequecnces: {}'.format(list(top_mods.pulse_sequences)))\n",
    "if len(top_mods.acquisition_modes) > 0:\n",
    "    print('Acquisition modes: {}'.format(list(top_mods.acquisition_modes)))"
   ]
  },
  {
   "cell_type": "markdown",
   "metadata": {},
   "source": [
    "## Generate ISA model objects from the assay plan and render the assay table"
   ]
  },
  {
   "cell_type": "markdown",
   "metadata": {},
   "source": [
    "*Check state of Sample Assay Plan after entering assay plan information:*"
   ]
  },
  {
   "cell_type": "code",
   "execution_count": 25,
   "metadata": {},
   "outputs": [
    {
     "name": "stdout",
     "output_type": "stream",
     "text": [
      "{\n",
      "    \"assay_plan\": [\n",
      "        {\n",
      "            \"assay_type\": {\n",
      "                \"measurement_type\": \"metabolite profiling\",\n",
      "                \"technology_type\": \"nmr spectroscopy\",\n",
      "                \"topology_modifiers\": {\n",
      "                    \"acquisition_modes\": [\n",
      "                        \"1D\",\n",
      "                        \"2D\"\n",
      "                    ],\n",
      "                    \"injection_modes\": [],\n",
      "                    \"instruments\": [\n",
      "                        \"Bruker DRX700\"\n",
      "                    ],\n",
      "                    \"pulse_sequences\": [\n",
      "                        \"NOESY\",\n",
      "                        \"TOCSY\"\n",
      "                    ],\n",
      "                    \"technical_replicates\": 2\n",
      "                }\n",
      "            },\n",
      "            \"sample_type\": \"Urine\"\n",
      "        }\n",
      "    ],\n",
      "    \"assay_types\": [\n",
      "        {\n",
      "            \"measurement_type\": \"metabolite profiling\",\n",
      "            \"technology_type\": \"nmr spectroscopy\",\n",
      "            \"topology_modifiers\": {\n",
      "                \"acquisition_modes\": [\n",
      "                    \"1D\",\n",
      "                    \"2D\"\n",
      "                ],\n",
      "                \"injection_modes\": [],\n",
      "                \"instruments\": [\n",
      "                    \"Bruker DRX700\"\n",
      "                ],\n",
      "                \"pulse_sequences\": [\n",
      "                    \"NOESY\",\n",
      "                    \"TOCSY\"\n",
      "                ],\n",
      "                \"technical_replicates\": 2\n",
      "            }\n",
      "        }\n",
      "    ],\n",
      "    \"group_size\": 5,\n",
      "    \"sample_plan\": [\n",
      "        {\n",
      "            \"sample_type\": \"Urine\",\n",
      "            \"sampling_size\": 3\n",
      "        }\n",
      "    ],\n",
      "    \"sample_qc_plan\": [],\n",
      "    \"sample_types\": [\n",
      "        \"Urine\"\n",
      "    ]\n",
      "}\n"
     ]
    }
   ],
   "source": [
    "print(json.dumps(plan, cls=SampleAssayPlanEncoder, sort_keys=True, indent=4, separators=(',', ': ')))"
   ]
  },
  {
   "cell_type": "code",
   "execution_count": 26,
   "metadata": {},
   "outputs": [
    {
     "name": "stdout",
     "output_type": "stream",
     "text": [
      "Assay generated: a_Urine_nmr_1D_NOESY_assay.txt, 120 samples, 360 processes, 240 data files\n",
      "Assay generated: a_Urine_nmr_2D_NOESY_assay.txt, 120 samples, 360 processes, 240 data files\n",
      "Assay generated: a_Urine_nmr_1D_TOCSY_assay.txt, 120 samples, 360 processes, 240 data files\n",
      "Assay generated: a_Urine_nmr_2D_TOCSY_assay.txt, 120 samples, 360 processes, 240 data files\n"
     ]
    }
   ],
   "source": [
    "nmr_assays = isa_object_factory.create_assays_from_plan()\n",
    "isa_investigation.studies = [nmr_assays]\n",
    "for assay in isa_investigation.studies[-1].assays:\n",
    "    print('Assay generated: {0}, {1} samples, {2} processes, {3} data files'\n",
    "          .format(assay.filename, len(assay.samples), len(assay.process_sequence), len(assay.data_files)))\n",
    "dataframes = dumpdf(isa_investigation)"
   ]
  },
  {
   "cell_type": "code",
   "execution_count": 27,
   "metadata": {},
   "outputs": [
    {
     "name": "stderr",
     "output_type": "stream",
     "text": [
      "Widget Javascript not detected.  It may not be installed or enabled properly.\n"
     ]
    },
    {
     "data": {
      "application/vnd.jupyter.widget-view+json": {
       "model_id": "d6fbfa0f2ce44829b1458bffa5ade579"
      }
     },
     "metadata": {},
     "output_type": "display_data"
    }
   ],
   "source": [
    "show_grid(dataframes['a_Urine_nmr_2D_NOESY_assay.txt'])"
   ]
  },
  {
   "cell_type": "code",
   "execution_count": 28,
   "metadata": {},
   "outputs": [
    {
     "name": "stderr",
     "output_type": "stream",
     "text": [
      "Widget Javascript not detected.  It may not be installed or enabled properly.\n"
     ]
    },
    {
     "data": {
      "application/vnd.jupyter.widget-view+json": {
       "model_id": "e658fd47c50c4fb5a6b9476d46ca24c2"
      }
     },
     "metadata": {},
     "output_type": "display_data"
    }
   ],
   "source": [
    "show_grid(dataframes['a_Urine_nmr_1D_NOESY_assay.txt'])"
   ]
  },
  {
   "cell_type": "code",
   "execution_count": 29,
   "metadata": {},
   "outputs": [
    {
     "name": "stderr",
     "output_type": "stream",
     "text": [
      "Widget Javascript not detected.  It may not be installed or enabled properly.\n"
     ]
    },
    {
     "data": {
      "application/vnd.jupyter.widget-view+json": {
       "model_id": "9649bc2fd4e342bfaa9c849469725379"
      }
     },
     "metadata": {},
     "output_type": "display_data"
    }
   ],
   "source": [
    "show_grid(dataframes['a_Urine_nmr_2D_TOCSY_assay.txt'])"
   ]
  },
  {
   "cell_type": "code",
   "execution_count": 30,
   "metadata": {},
   "outputs": [
    {
     "name": "stderr",
     "output_type": "stream",
     "text": [
      "Widget Javascript not detected.  It may not be installed or enabled properly.\n"
     ]
    },
    {
     "data": {
      "application/vnd.jupyter.widget-view+json": {
       "model_id": "8b1376b3f5de434391a7325726b3b921"
      }
     },
     "metadata": {},
     "output_type": "display_data"
    }
   ],
   "source": [
    "show_grid(dataframes['a_Urine_nmr_1D_TOCSY_assay.txt'])"
   ]
  }
 ],
 "metadata": {
  "kernelspec": {
   "display_name": "Python 3",
   "language": "python",
   "name": "python3"
  },
  "language_info": {
   "codemirror_mode": {
    "name": "ipython",
    "version": 3
   },
   "file_extension": ".py",
   "mimetype": "text/x-python",
   "name": "python",
   "nbconvert_exporter": "python",
   "pygments_lexer": "ipython3",
   "version": "3.5.0"
  }
 },
 "nbformat": 4,
 "nbformat_minor": 1
}
