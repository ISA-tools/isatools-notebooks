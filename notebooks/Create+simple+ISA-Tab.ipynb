{
 "cells": [
  {
   "cell_type": "code",
<<<<<<< HEAD
   "execution_count": 2,
   "metadata": {},
   "outputs": [
    {
     "ename": "ImportError",
     "evalue": "No module named 'isatools.model.v1'; 'isatools.model' is not a package",
     "output_type": "error",
     "traceback": [
      "\u001b[0;31m---------------------------------------------------------------------------\u001b[0m",
      "\u001b[0;31mAttributeError\u001b[0m                            Traceback (most recent call last)",
      "\u001b[0;32m~/Documents/git/isatools-notebooks/venv34/lib/python3.4/importlib/_bootstrap.py\u001b[0m in \u001b[0;36m_find_and_load_unlocked\u001b[0;34m(name, import_)\u001b[0m\n",
      "\u001b[0;31mAttributeError\u001b[0m: 'module' object has no attribute '__path__'",
      "\nDuring handling of the above exception, another exception occurred:\n",
      "\u001b[0;31mImportError\u001b[0m                               Traceback (most recent call last)",
      "\u001b[0;32m<ipython-input-2-b75863f24208>\u001b[0m in \u001b[0;36m<module>\u001b[0;34m()\u001b[0m\n\u001b[1;32m      8\u001b[0m \u001b[0;32mimport\u001b[0m \u001b[0misatools\u001b[0m\u001b[0;34m\u001b[0m\u001b[0m\n\u001b[1;32m      9\u001b[0m \u001b[0;32mfrom\u001b[0m \u001b[0misatools\u001b[0m\u001b[0;34m.\u001b[0m\u001b[0mmodel\u001b[0m \u001b[0;32mimport\u001b[0m \u001b[0;34m*\u001b[0m\u001b[0;34m\u001b[0m\u001b[0m\n\u001b[0;32m---> 10\u001b[0;31m \u001b[0;32mfrom\u001b[0m \u001b[0misatools\u001b[0m\u001b[0;34m.\u001b[0m\u001b[0mmodel\u001b[0m\u001b[0;34m.\u001b[0m\u001b[0mv1\u001b[0m \u001b[0;32mimport\u001b[0m \u001b[0;34m*\u001b[0m\u001b[0;34m\u001b[0m\u001b[0m\n\u001b[0m",
      "\u001b[0;31mImportError\u001b[0m: No module named 'isatools.model.v1'; 'isatools.model' is not a package"
     ]
    }
   ],
   "source": [
    "from ipywidgets import (RadioButtons, VBox, HBox, Layout, Label, Checkbox, Text, IntSlider)\n",
    "from qgrid import show_grid\n",
    "import qgrid\n",
    "qgrid.nbinstall(overwrite=True)\n",
    "\n",
    "\n",
    "label_layout = Layout(width='100%')  # for making sure the labels display correctly\n",
    "import isatools\n",
    "from isatools.model import *\n",
    "from isatools.model.v1 import *\n"
=======
   "execution_count": 10,
   "metadata": {},
   "outputs": [],
   "source": [
    "from isatools.model import *"
>>>>>>> 609b800bc513cc9180e3d3d6f2c12b2a09a26826
   ]
  },
  {
   "cell_type": "markdown",
   "metadata": {},
   "source": [
    "# Creating a simple ISA-Tab\n",
    "\n",
    "This example creates metadata for a single study ISA-Tab."
   ]
  },
  {
   "cell_type": "markdown",
   "metadata": {},
   "source": [
    "## Study metadata"
   ]
  },
  {
   "cell_type": "code",
<<<<<<< HEAD
   "execution_count": 3,
   "metadata": {
    "scrolled": true
   },
   "outputs": [
    {
     "ename": "NameError",
     "evalue": "name 'intervention_type_radio' is not defined",
     "output_type": "error",
     "traceback": [
      "\u001b[0;31m---------------------------------------------------------------------------\u001b[0m",
      "\u001b[0;31mNameError\u001b[0m                                 Traceback (most recent call last)",
      "\u001b[0;32m<ipython-input-3-bf21220ba8b4>\u001b[0m in \u001b[0;36m<module>\u001b[0;34m()\u001b[0m\n\u001b[0;32m----> 1\u001b[0;31m \u001b[0mintervention_type_radio\u001b[0m\u001b[0;34m.\u001b[0m\u001b[0mvalue\u001b[0m\u001b[0;34m\u001b[0m\u001b[0m\n\u001b[0m",
      "\u001b[0;31mNameError\u001b[0m: name 'intervention_type_radio' is not defined"
     ]
    }
   ],
   "source": [
    "intervention_type_radio.value"
   ]
  },
  {
   "cell_type": "code",
   "execution_count": 4,
   "metadata": {},
   "outputs": [
    {
     "data": {
      "application/vnd.jupyter.widget-view+json": {
       "model_id": "8a5923138e874709901141ee9ecec679"
      }
     },
=======
   "execution_count": 14,
   "metadata": {},
   "outputs": [
    {
     "data": {},
>>>>>>> 609b800bc513cc9180e3d3d6f2c12b2a09a26826
     "metadata": {},
     "output_type": "display_data"
    }
   ],
   "source": [
    "from ipywidgets import RadioButtons, VBox, HBox, Layout, Label, Text, Textarea, DatePicker\n",
    "import datetime\n",
    "identifier = Text(\n",
    "        value='S1',\n",
    "        placeholder='e.g. S1',\n",
    "        description='Identifier:',\n",
    "        disabled=False\n",
    "    )\n",
    "title = Text(\n",
    "        value='My Simple ISA Study',\n",
    "        placeholder='e.g. My Study title',\n",
    "        description='Title:',\n",
    "        disabled=False\n",
    "    )\n",
    "description = Textarea(\n",
    "    value=\"We could alternatively use the class constructor's parameters to set some default \" \\\n",
    "          \"values at the time of creation, however we want to demonstrate how to use the \" \\\n",
    "          \"object's instance variables to set values.\",\n",
    "    placeholder='Type something',\n",
    "    description='Description:',\n",
    "    disabled=False\n",
    ")\n",
    "sub_date = DatePicker(description=\"Submission date:\", value=datetime.datetime.today())\n",
    "release_date = DatePicker(description=\"Public release date:\", value=datetime.datetime.today())\n",
    "VBox([identifier,\n",
    "      title,\n",
    "      description,\n",
    "      sub_date,\n",
    "      release_date])"
   ]
  },
  {
   "cell_type": "code",
<<<<<<< HEAD
   "execution_count": 4,
   "metadata": {},
   "outputs": [
    {
     "ename": "NameError",
     "evalue": "name 'OntologySource' is not defined",
     "output_type": "error",
     "traceback": [
      "\u001b[0;31m---------------------------------------------------------------------------\u001b[0m",
      "\u001b[0;31mNameError\u001b[0m                                 Traceback (most recent call last)",
      "\u001b[0;32m<ipython-input-4-b227e9fc3d1b>\u001b[0m in \u001b[0;36m<module>\u001b[0;34m()\u001b[0m\n\u001b[1;32m     31\u001b[0m \u001b[0;31m# object.\u001b[0m\u001b[0;34m\u001b[0m\u001b[0;34m\u001b[0m\u001b[0m\n\u001b[1;32m     32\u001b[0m \u001b[0;34m\u001b[0m\u001b[0m\n\u001b[0;32m---> 33\u001b[0;31m \u001b[0mobi\u001b[0m \u001b[0;34m=\u001b[0m \u001b[0mOntologySource\u001b[0m\u001b[0;34m(\u001b[0m\u001b[0mname\u001b[0m\u001b[0;34m=\u001b[0m\u001b[0;34m'OBI'\u001b[0m\u001b[0;34m,\u001b[0m \u001b[0mdescription\u001b[0m\u001b[0;34m=\u001b[0m\u001b[0;34m\"Ontology for Biomedical Investigations\"\u001b[0m\u001b[0;34m)\u001b[0m\u001b[0;34m\u001b[0m\u001b[0m\n\u001b[0m\u001b[1;32m     34\u001b[0m \u001b[0minvestigation\u001b[0m\u001b[0;34m.\u001b[0m\u001b[0montology_source_references\u001b[0m\u001b[0;34m.\u001b[0m\u001b[0mappend\u001b[0m\u001b[0;34m(\u001b[0m\u001b[0mobi\u001b[0m\u001b[0;34m)\u001b[0m\u001b[0;34m\u001b[0m\u001b[0m\n\u001b[1;32m     35\u001b[0m \u001b[0mintervention_design\u001b[0m \u001b[0;34m=\u001b[0m \u001b[0mOntologyAnnotation\u001b[0m\u001b[0;34m(\u001b[0m\u001b[0mterm_source\u001b[0m\u001b[0;34m=\u001b[0m\u001b[0mobi\u001b[0m\u001b[0;34m)\u001b[0m\u001b[0;34m\u001b[0m\u001b[0m\n",
      "\u001b[0;31mNameError\u001b[0m: name 'OntologySource' is not defined"
     ]
=======
   "execution_count": 16,
   "metadata": {},
   "outputs": [
    {
     "data": {
      "text/plain": [
       "Investigation(identifier=\"\", filename=\"\", title=\"\", submission_date=\"\", public_release_date=\"\", ontology_source_references=[], publications=[], contacts=[], studies=[Study(filename=\"s_study.txt\", identifier=\"S1\", title=\"My Simple ISA Study\", description=\"We could alternatively use the class constructor's parameters to set some default values at the time of creation, however we want to demonstrate how to use the object's instance variables to set values.\", submission_date=\"2017-08-09 16:46:15.907943\", public_release_date=\"2017-08-09 16:46:15.914805\", contacts=[], design_descriptors=[], publications=[], factors=[], protocols=[], assays=[], sources=[], samples=[], process_sequence=[], other_material=[], characteristic_categories=[], comments=[], units=[])], comments=[])"
      ]
     },
     "execution_count": 16,
     "metadata": {},
     "output_type": "execute_result"
>>>>>>> 609b800bc513cc9180e3d3d6f2c12b2a09a26826
    }
   ],
   "source": [
    "investigation = Investigation()\n",
    "study = Study(filename=\"s_study.txt\")\n",
    "study.identifier = identifier.value\n",
    "study.title = title.value\n",
    "study.description = description.value\n",
    "study.submission_date = str(sub_date.value)\n",
    "study.public_release_date = str(release_date.value)\n",
    "investigation.studies = [study]\n",
    "investigation"
   ]
  },
  {
   "cell_type": "code",
<<<<<<< HEAD
   "execution_count": null,
   "metadata": {
    "collapsed": true
   },
   "outputs": [],
=======
   "execution_count": 17,
   "metadata": {},
   "outputs": [
    {
     "name": "stdout",
     "output_type": "stream",
     "text": [
      "/var/folders/8b/kpmqkjjd5h3gn_l9vfbd63j80000gn/T/tmp6m673q8i/i_investigation.txt\n",
      "ONTOLOGY SOURCE REFERENCE\n",
      "Term Source Name\n",
      "Term Source File\n",
      "Term Source Version\n",
      "Term Source Description\n",
      "INVESTIGATION\n",
      "Investigation Identifier\t\n",
      "Investigation Title\t\n",
      "Investigation Description\t\n",
      "Investigation Submission Date\t\n",
      "Investigation Public Release Date\t\n",
      "INVESTIGATION PUBLICATIONS\n",
      "Investigation PubMed ID\n",
      "Investigation Publication DOI\n",
      "Investigation Publication Author List\n",
      "Investigation Publication Title\n",
      "Investigation Publication Status\n",
      "Investigation Publication Status Term Accession Number\n",
      "Investigation Publication Status Term Source REF\n",
      "INVESTIGATION CONTACTS\n",
      "Investigation Person Last Name\n",
      "Investigation Person First Name\n",
      "Investigation Person Mid Initials\n",
      "Investigation Person Email\n",
      "Investigation Person Phone\n",
      "Investigation Person Fax\n",
      "Investigation Person Address\n",
      "Investigation Person Affiliation\n",
      "Investigation Person Roles\n",
      "Investigation Person Roles Term Accession Number\n",
      "Investigation Person Roles Term Source REF\n",
      "STUDY\n",
      "Study Identifier\tS1\n",
      "Study Title\tMy Simple ISA Study\n",
      "Study Description\tWe could alternatively use the class constructor's parameters to set some default values at the time of creation, however we want to demonstrate how to use the object's instance variables to set values.\n",
      "Study Submission Date\t2017-08-09 16:46:15.907943\n",
      "Study Public Release Date\t2017-08-09 16:46:15.914805\n",
      "Study File Name\ts_study.txt\n",
      "STUDY DESIGN DESCRIPTORS\n",
      "Study Design Type\n",
      "Study Design Type Term Accession Number\n",
      "Study Design Type Term Source REF\n",
      "STUDY PUBLICATIONS\n",
      "Study PubMed ID\n",
      "Study Publication DOI\n",
      "Study Publication Author List\n",
      "Study Publication Title\n",
      "Study Publication Status\n",
      "Study Publication Status Term Accession Number\n",
      "Study Publication Status Term Source REF\n",
      "STUDY FACTORS\n",
      "Study Factor Name\n",
      "Study Factor Type\n",
      "Study Factor Type Term Accession Number\n",
      "Study Factor Type Term Source REF\n",
      "STUDY ASSAYS\n",
      "Study Assay File Name\n",
      "Study Assay Measurement Type\n",
      "Study Assay Measurement Type Term Accession Number\n",
      "Study Assay Measurement Type Term Source REF\n",
      "Study Assay Technology Type\n",
      "Study Assay Technology Type Term Accession Number\n",
      "Study Assay Technology Type Term Source REF\n",
      "Study Assay Technology Platform\n",
      "STUDY PROTOCOLS\n",
      "Study Protocol Name\n",
      "Study Protocol Type\n",
      "Study Protocol Type Term Accession Number\n",
      "Study Protocol Type Term Source REF\n",
      "Study Protocol Description\n",
      "Study Protocol URI\n",
      "Study Protocol Version\n",
      "Study Protocol Parameters Name\n",
      "Study Protocol Parameters Name Term Accession Number\n",
      "Study Protocol Parameters Name Term Source REF\n",
      "Study Protocol Components Name\n",
      "Study Protocol Components Type\n",
      "Study Protocol Components Type Term Accession Number\n",
      "Study Protocol Components Type Term Source REF\n",
      "STUDY CONTACTS\n",
      "Study Person Last Name\n",
      "Study Person First Name\n",
      "Study Person Mid Initials\n",
      "Study Person Email\n",
      "Study Person Phone\n",
      "Study Person Fax\n",
      "Study Person Address\n",
      "Study Person Affiliation\n",
      "Study Person Roles\n",
      "Study Person Roles Term Accession Number\n",
      "Study Person Roles Term Source REF\n",
      "\n"
     ]
    }
   ],
>>>>>>> 609b800bc513cc9180e3d3d6f2c12b2a09a26826
   "source": [
    "from isatools.isatab import dumps\n",
    "print(dumps(investigation))"
   ]
  },
  {
   "cell_type": "code",
   "execution_count": null,
   "metadata": {
    "collapsed": true
   },
   "outputs": [],
   "source": [
    "import json\n",
    "from isatools.isajson import ISAJSONEncoder\n",
    "print(json.dumps(investigation, cls=ISAJSONEncoder, sort_keys=True, indent=4, separators=(',', ': ')))"
   ]
  },
  {
   "cell_type": "code",
   "execution_count": null,
   "metadata": {
    "collapsed": true
   },
   "outputs": [],
   "source": [
    ""
   ]
  }
 ],
 "metadata": {
  "kernelspec": {
   "display_name": "Python 3",
   "language": "python",
   "name": "python3"
  },
  "language_info": {
   "codemirror_mode": {
    "name": "ipython",
    "version": 3.0
   },
   "file_extension": ".py",
   "mimetype": "text/x-python",
   "name": "python",
   "nbconvert_exporter": "python",
   "pygments_lexer": "ipython3",
   "version": "3.4.3"
  },
  "widgets": {
   "state": {
    "7baa9c5f45bb4458984ca0e09a629029": {
     "views": [
      {
       "cell_index": 1.0
      }
     ]
    }
   },
   "version": "1.2.0"
  }
 },
 "nbformat": 4,
 "nbformat_minor": 0
}