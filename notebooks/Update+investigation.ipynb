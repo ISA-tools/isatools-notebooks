{
 "cells": [
  {
   "cell_type": "code",
   "execution_count": null,
   "metadata": {},
   "outputs": [],
   "source": [
    "from isatools import isatab\n",
    "from isatools.model import *"
   ]
  },
  {
   "cell_type": "code",
   "execution_count": null,
   "metadata": {},
   "outputs": [],
   "source": [
    "import qgrid\n",
    "qgrid.nbinstall(overwrite=True)"
   ]
  },
  {
   "cell_type": "code",
   "execution_count": null,
   "metadata": {},
   "outputs": [],
   "source": [
    "investigation = isatab.load(open('i_investigation.txt'), skip_load_tables=True)"
   ]
  },
  {
   "cell_type": "code",
   "execution_count": null,
   "metadata": {
    "collapsed": true
   },
   "outputs": [],
   "source": [
    "print(isatab.dumps(investigation, skip_dump_tables=True))"
   ]
  },
  {
   "cell_type": "code",
   "execution_count": null,
   "metadata": {
    "collapsed": true
   },
   "outputs": [],
   "source": [
    "investigation.identifier = \"i1\"\n",
    "investigation.title = \"My Simple ISA Investigation\"\n",
    "investigation.description = \"We could alternatively use the class constructor's parameters to set some default \" \\\n",
    "                            \"values at the time of creation, however we want to demonstrate how to use the \" \\\n",
    "                            \"object's instance variables to set values.\"\n",
    "investigation.submission_date = \"2016-11-03\"\n",
    "investigation.public_release_date = \"2016-11-03\"\n",
    "\n",
    "study = Study(filename=\"s_study.txt\")\n",
    "study.identifier = \"s1\"\n",
    "study.title = \"My ISA Study\"\n",
    "study.description = \"Like with the Investigation, we could use the class constructor to set some default values, \" \\\n",
    "                    \"but have chosen to demonstrate in this example the use of instance variables to set initial \" \\\n",
    "                    \"values.\"\n",
    "study.submission_date = \"2016-11-03\"\n",
    "study.public_release_date = \"2016-11-03\"\n",
    "investigation.studies[0] = study\n",
    "\n",
    "obi = OntologySource(name='OBI', description=\"Ontology for Biomedical Investigations\")\n",
    "investigation.ontology_source_references.append(obi)\n",
    "intervention_design = OntologyAnnotation(term_source=obi)\n",
    "intervention_design.term = \"intervention design\"\n",
    "intervention_design.term_accession = \"http://purl.obolibrary.org/obo/OBI_0000115\"\n",
    "study.design_descriptors.append(intervention_design)\n",
    "\n",
    "# Other instance variables common to both Investigation and Study objects include 'contacts' and 'publications',\n",
    "# each with lists of corresponding Person and Publication objects.\n",
    "\n",
    "contact = Person(first_name=\"Alice\", last_name=\"Robertson\", affiliation=\"University of Life\",\n",
    "                 roles=[OntologyAnnotation(term='submitter')])\n",
    "study.contacts.append(contact)\n",
    "publication = Publication(title=\"Experiments with Elephants\", author_list=\"A. Robertson, B. Robertson\")\n",
    "publication.pubmed_id = \"12345678\"\n",
    "publication.status = OntologyAnnotation(term=\"published\")\n",
    "study.publications.append(publication)\n",
    "\n",
    "source = Source(name='source_material')\n",
    "study.materials['sources'].append(source)\n",
    "\n",
    "prototype_sample = Sample(name='sample_material', derives_from=[source])\n",
    "ncbitaxon = OntologySource(name='NCBITaxon', description=\"NCBI Taxonomy\")\n",
    "characteristic_organism = Characteristic(category=OntologyAnnotation(term=\"Organism\"),\n",
    "                                         value=OntologyAnnotation(term=\"Homo Sapiens\", term_source=ncbitaxon,\n",
    "                                                                  term_accession=\"http://purl.bioontology.org/ontology/NCBITAXON/9606\"))\n",
    "prototype_sample.characteristics.append(characteristic_organism)\n",
    "\n",
    "study.materials['samples'] = batch_create_materials(prototype_sample, n=3)  # creates a batch of 3 samples\n",
    "\n",
    "sample_collection_protocol = Protocol(name=\"sample collection\",\n",
    "                                      protocol_type=OntologyAnnotation(term=\"sample collection\"))\n",
    "study.protocols.append(sample_collection_protocol)\n",
    "sample_collection_process = Process(executes_protocol=sample_collection_protocol)\n",
    "\n",
    "for src in study.materials['sources']:\n",
    "    sample_collection_process.inputs.append(src)\n",
    "for sam in study.materials['samples']:\n",
    "    sample_collection_process.outputs.append(sam)\n",
    "\n",
    "study.process_sequence.append(sample_collection_process)\n",
    "\n",
    "assay = Assay(filename=\"a_assay.txt\")\n",
    "extraction_protocol = Protocol(name='extraction', protocol_type=OntologyAnnotation(term=\"material extraction\"))\n",
    "study.protocols.append(extraction_protocol)\n",
    "sequencing_protocol = Protocol(name='sequencing', protocol_type=OntologyAnnotation(term=\"material sequencing\"))\n",
    "study.protocols.append(sequencing_protocol)\n",
    "\n",
    "for i, sample in enumerate(study.materials['samples']):\n",
    "    extraction_process = Process(executes_protocol=extraction_protocol)\n",
    "\n",
    "    extraction_process.inputs.append(sample)\n",
    "    material = Material(name=\"extract-{}\".format(i))\n",
    "    material.type = \"Extract Name\"\n",
    "    extraction_process.outputs.append(material)\n",
    "\n",
    "    sequencing_process = Process(executes_protocol=sequencing_protocol)\n",
    "    sequencing_process.name = \"assay-name-{}\".format(i)\n",
    "    sequencing_process.inputs.append(extraction_process.outputs[0])\n",
    "\n",
    "    datafile = DataFile(filename=\"sequenced-data-{}\".format(i), label=\"Raw Data File\")\n",
    "    sequencing_process.outputs.append(datafile)\n",
    "\n",
    "    extraction_process.next_process = sequencing_process\n",
    "    sequencing_process.prev_process = extraction_process\n",
    "\n",
    "    assay.data_files.append(datafile)\n",
    "    assay.materials['other_material'].append(material)\n",
    "    assay.process_sequence.append(extraction_process)\n",
    "    assay.process_sequence.append(sequencing_process)\n",
    "    assay.measurement_type = OntologyAnnotation(term=\"gene sequencing\")\n",
    "    assay.technology_type = OntologyAnnotation(term=\"nucleotide sequencing\")\n",
    "\n",
    "study.assays.append(assay)"
   ]
  },
  {
   "cell_type": "code",
   "execution_count": null,
   "metadata": {
    "collapsed": true
   },
   "outputs": [],
   "source": [
    "print(isatab.dumps(investigation, skip_dump_tables=True))"
   ]
  },
  {
   "cell_type": "code",
   "execution_count": null,
   "metadata": {
    "collapsed": true
   },
   "outputs": [],
   "source": []
  }
 ],
 "metadata": {
  "kernelspec": {
   "display_name": "Python 3",
   "language": "python",
   "name": "python3"
  },
  "language_info": {
   "codemirror_mode": {
    "name": "ipython",
    "version": 3
   },
   "file_extension": ".py",
   "mimetype": "text/x-python",
   "name": "python",
   "nbconvert_exporter": "python",
   "pygments_lexer": "ipython3",
   "version": "3.5.0"
  }
 },
 "nbformat": 4,
 "nbformat_minor": 1
}
