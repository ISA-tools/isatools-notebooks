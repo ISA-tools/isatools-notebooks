{
 "cells": [
  {
   "cell_type": "markdown",
   "metadata": {},
   "source": [
    "# Study Designer: Repeated Intervention Example\n",
    "\n",
    "Outline: \n",
    "12 healthy volunteers were randomly assigned to each of 8 study arm.\n",
    "Study arms consistent of a sequence of 2 epochs, a chemical intervention and dietary intervention\n",
    "chemical intervention  (agent: diet, intensity {low fat, high fat}, duration {4 weeks}\n",
    "defining intervention A and B\n",
    "dietary intervention (agent: chemical compound, intensity (high dose, low dose), duration {4 weeks}\n",
    "defining intervention 1 and 2\n",
    "\n",
    "The possible sequences of treatments are: \n",
    "A followed by 1\n",
    "1 followed by A\n",
    "B followed by 1\n",
    "1 followed by B\n",
    "A followed by 2\n",
    "2 followed by A\n",
    "B followed by 2\n",
    "2 followed by B\n",
    "\n",
    "In each arm, 10 urine samples were collected over the course of the study for each of the volunteers\n",
    "metabolites from the polar fraction were analysed using LC-MS in both positive and negative mode on a Agilent 6550 iFunnel Q-TOF Mass Sprectrometry platform. \n",
    "\n"
   ]
  },
  {
   "cell_type": "code",
   "execution_count": 36,
   "metadata": {
    "collapsed": true
   },
   "outputs": [],
   "source": [
    "from ipywidgets import (RadioButtons, SelectMultiple,Dropdown,VBox, HBox, Layout, Label, Checkbox, Text, IntSlider)\n",
    "from qgrid import show_grid\n",
    "label_layout = Layout(width='100%')  # for making sure the labels display correctly\n",
    "\n",
    "from itertools import product\n",
    "from itertools import permutations\n",
    "from isatools.create.models import *\n",
    "from isatools.model import Investigation\n",
    "from isatools.isatab import dump_tables_to_dataframes as dumpdf\n",
    "import qgrid\n",
    "qgrid.nbinstall(overwrite=True)"
   ]
  },
  {
   "cell_type": "markdown",
   "metadata": {},
   "source": [
    "## Sample planning section"
   ]
  },
  {
   "cell_type": "markdown",
   "metadata": {},
   "source": [
    "### Study design type\n",
    "\n",
    "Please specify if the study is an intervention or an observation."
   ]
  },
  {
   "cell_type": "code",
   "execution_count": 37,
   "metadata": {},
   "outputs": [
    {
     "data": {
      "application/vnd.jupyter.widget-view+json": {
       "model_id": "19a2d914c9f5428895d49bd0b358463e"
      }
     },
     "metadata": {},
     "output_type": "display_data"
    }
   ],
   "source": [
    "rad_study_design = Dropdown(options=['Intervention', 'Observation'], value='Intervention', disabled=False)\n",
    "VBox([Label('Study design type?', layout=label_layout), rad_study_design])"
   ]
  },
  {
   "cell_type": "markdown",
   "metadata": {},
   "source": [
    "### Intervention study\n",
    "\n",
    "If specifying an intervention study, please answer the following:\n",
    " - Are study subjects exposed to a single intervention or to multiple intervention?\n",
    " - Are there 'hard to change' factors, which restrict randomization of experimental unit?\n",
    " \n",
    "*Note: if you chose 'observation' as the study design type, the following choices will be disabled and you should skip to the Observation study section*\n",
    " "
   ]
  },
  {
   "cell_type": "code",
   "execution_count": 38,
   "metadata": {},
   "outputs": [
    {
     "data": {
      "application/vnd.jupyter.widget-view+json": {
       "model_id": "f8ce481630fd4c998861aae2f02c80dd"
      }
     },
     "metadata": {},
     "output_type": "display_data"
    }
   ],
   "source": [
    "if rad_study_design.value == 'Intervention':\n",
    "    study_design = InterventionStudyDesign()\n",
    "if rad_study_design.value == 'Observation':\n",
    "    study_design = None\n",
    "intervention_ui_disabled = not isinstance(study_design, InterventionStudyDesign)\n",
    "intervention_type = RadioButtons(options=['single', 'multiple'], value='multiple', disabled=intervention_ui_disabled)\n",
    "intervention_type_vbox = VBox([Label('Single intervention or to multiple intervention?', layout=label_layout), intervention_type])\n",
    "HBox([intervention_type_vbox])"
   ]
  },
  {
   "cell_type": "raw",
   "metadata": {},
   "source": [
    "repeats = intervention_type.value != 'single'\n",
    "factorial_design = free_or_restricted_design.value == 'no'\n",
    "\n",
    "print('Interventions: {}'.format('Multiple interventions' if repeats else 'Single intervention'))\n",
    "design_type = 'repeated measure design'  # always default to factorial\n",
    "print('Design type: {}'.format(design_type))"
   ]
  },
  {
   "cell_type": "markdown",
   "metadata": {},
   "source": [
    "#### Factorial design - intervention types\n",
    "\n",
    "If specifying an factorial design, please list the intervention types here."
   ]
  },
  {
   "cell_type": "code",
   "execution_count": 39,
   "metadata": {},
   "outputs": [
    {
     "data": {
      "application/vnd.jupyter.widget-view+json": {
       "model_id": "e535f583e0bf48cc89fd5953a1f47dfd"
      }
     },
     "metadata": {},
     "output_type": "display_data"
    }
   ],
   "source": [
    "factorial_design_ui_disabled = not factorial_design\n",
    "chemical_intervention = Checkbox(value=True, description='Chemical intervention', disabled=factorial_design_ui_disabled)\n",
    "behavioural_intervention = Checkbox(value=False, description='Behavioural intervention', disabled=factorial_design_ui_disabled)\n",
    "surgical_intervention = Checkbox(value=False, description='Surgical intervention', disabled=factorial_design_ui_disabled)\n",
    "biological_intervention = Checkbox(value=True, description='Biological intervention', disabled=factorial_design_ui_disabled)\n",
    "radiological_intervention = Checkbox(value=False, description='Radiological intervention', disabled=factorial_design_ui_disabled)\n",
    "VBox([chemical_intervention, surgical_intervention, biological_intervention, radiological_intervention])"
   ]
  },
  {
   "cell_type": "code",
   "execution_count": 40,
   "metadata": {},
   "outputs": [
    {
     "data": {
      "application/vnd.jupyter.widget-view+json": {
       "model_id": "17ee005154814250b59ff5c98043ce99"
      }
     },
     "metadata": {},
     "output_type": "display_data"
    }
   ],
   "source": [
    "level_uis = []\n",
    "if chemical_intervention:\n",
    "    agent_levels = Text(\n",
    "        value='aspirin',\n",
    "        description='Agent:',\n",
    "        disabled=False\n",
    "    )\n",
    "    dose_levels = Text(\n",
    "        value='low,high',\n",
    "        description='Dose levels:',\n",
    "        disabled=False\n",
    "    )\n",
    "    duration_of_exposure_levels = Text(\n",
    "        value='4 weeks',\n",
    "        description='Duration of exposure:',\n",
    "        disabled=False\n",
    "    )\n",
    "vb1=VBox([Label(\"Chemical intervention factor levels:\", layout=label_layout), agent_levels, dose_levels, duration_of_exposure_levels])\n",
    "\n",
    "\n",
    "level_uis = []\n",
    "if biological_intervention:\n",
    "    agent_levels = Text(\n",
    "        value='diet',\n",
    "        description='Agent:',\n",
    "        disabled=False\n",
    "    )\n",
    "    dose_levels = Text(\n",
    "        value='low fat,high fat',\n",
    "        description='Dose levels:',\n",
    "        disabled=False\n",
    "    )\n",
    "    duration_of_exposure_levels = Text(\n",
    "        value='4 weeks',\n",
    "        description='Duration of exposure:',\n",
    "        disabled=False\n",
    "    )\n",
    "vb2=VBox([Label(\"Biological intervention factor levels:\", layout=label_layout), agent_levels, dose_levels, duration_of_exposure_levels])\n",
    "\n",
    "HBox([vb1, vb2])"
   ]
  },
  {
   "cell_type": "code",
   "execution_count": 49,
   "metadata": {},
   "outputs": [
    {
     "name": "stdout",
     "output_type": "stream",
     "text": [
      "Number of chemical treatments: 2\n",
      "Number of diet treatments: 2\n",
      "number of treatment sequences:  12 | number of treatments:  4\n",
      "(Treatment(factor_type=biological intervention, factor_values=[isatools.model.FactorValue(factor_name=isatools.model.StudyFactor(name='AGENT', factor_type=isatools.model.OntologyAnnotation(term='perturbation agent', term_source=None, term_accession='', comments=[]), comments=[]), value='diet', unit=None), isatools.model.FactorValue(factor_name=isatools.model.StudyFactor(name='DURATION', factor_type=isatools.model.OntologyAnnotation(term='time', term_source=None, term_accession='', comments=[]), comments=[]), value='4 weeks', unit=None), isatools.model.FactorValue(factor_name=isatools.model.StudyFactor(name='INTENSITY', factor_type=isatools.model.OntologyAnnotation(term='intensity', term_source=None, term_accession='', comments=[]), comments=[]), value='high fat', unit=None)]), Treatment(factor_type=chemical intervention, factor_values=[isatools.model.FactorValue(factor_name=isatools.model.StudyFactor(name='AGENT', factor_type=isatools.model.OntologyAnnotation(term='perturbation agent', term_source=None, term_accession='', comments=[]), comments=[]), value='diet', unit=None), isatools.model.FactorValue(factor_name=isatools.model.StudyFactor(name='DURATION', factor_type=isatools.model.OntologyAnnotation(term='time', term_source=None, term_accession='', comments=[]), comments=[]), value='4 weeks', unit=None), isatools.model.FactorValue(factor_name=isatools.model.StudyFactor(name='INTENSITY', factor_type=isatools.model.OntologyAnnotation(term='intensity', term_source=None, term_accession='', comments=[]), comments=[]), value='low fat', unit=None)]))\n",
      "(Treatment(factor_type=biological intervention, factor_values=[isatools.model.FactorValue(factor_name=isatools.model.StudyFactor(name='AGENT', factor_type=isatools.model.OntologyAnnotation(term='perturbation agent', term_source=None, term_accession='', comments=[]), comments=[]), value='diet', unit=None), isatools.model.FactorValue(factor_name=isatools.model.StudyFactor(name='DURATION', factor_type=isatools.model.OntologyAnnotation(term='time', term_source=None, term_accession='', comments=[]), comments=[]), value='4 weeks', unit=None), isatools.model.FactorValue(factor_name=isatools.model.StudyFactor(name='INTENSITY', factor_type=isatools.model.OntologyAnnotation(term='intensity', term_source=None, term_accession='', comments=[]), comments=[]), value='high fat', unit=None)]), Treatment(factor_type=biological intervention, factor_values=[isatools.model.FactorValue(factor_name=isatools.model.StudyFactor(name='AGENT', factor_type=isatools.model.OntologyAnnotation(term='perturbation agent', term_source=None, term_accession='', comments=[]), comments=[]), value='diet', unit=None), isatools.model.FactorValue(factor_name=isatools.model.StudyFactor(name='DURATION', factor_type=isatools.model.OntologyAnnotation(term='time', term_source=None, term_accession='', comments=[]), comments=[]), value='4 weeks', unit=None), isatools.model.FactorValue(factor_name=isatools.model.StudyFactor(name='INTENSITY', factor_type=isatools.model.OntologyAnnotation(term='intensity', term_source=None, term_accession='', comments=[]), comments=[]), value='low fat', unit=None)]))\n",
      "(Treatment(factor_type=biological intervention, factor_values=[isatools.model.FactorValue(factor_name=isatools.model.StudyFactor(name='AGENT', factor_type=isatools.model.OntologyAnnotation(term='perturbation agent', term_source=None, term_accession='', comments=[]), comments=[]), value='diet', unit=None), isatools.model.FactorValue(factor_name=isatools.model.StudyFactor(name='DURATION', factor_type=isatools.model.OntologyAnnotation(term='time', term_source=None, term_accession='', comments=[]), comments=[]), value='4 weeks', unit=None), isatools.model.FactorValue(factor_name=isatools.model.StudyFactor(name='INTENSITY', factor_type=isatools.model.OntologyAnnotation(term='intensity', term_source=None, term_accession='', comments=[]), comments=[]), value='high fat', unit=None)]), Treatment(factor_type=chemical intervention, factor_values=[isatools.model.FactorValue(factor_name=isatools.model.StudyFactor(name='AGENT', factor_type=isatools.model.OntologyAnnotation(term='perturbation agent', term_source=None, term_accession='', comments=[]), comments=[]), value='diet', unit=None), isatools.model.FactorValue(factor_name=isatools.model.StudyFactor(name='DURATION', factor_type=isatools.model.OntologyAnnotation(term='time', term_source=None, term_accession='', comments=[]), comments=[]), value='4 weeks', unit=None), isatools.model.FactorValue(factor_name=isatools.model.StudyFactor(name='INTENSITY', factor_type=isatools.model.OntologyAnnotation(term='intensity', term_source=None, term_accession='', comments=[]), comments=[]), value='high fat', unit=None)]))\n",
      "(Treatment(factor_type=chemical intervention, factor_values=[isatools.model.FactorValue(factor_name=isatools.model.StudyFactor(name='AGENT', factor_type=isatools.model.OntologyAnnotation(term='perturbation agent', term_source=None, term_accession='', comments=[]), comments=[]), value='diet', unit=None), isatools.model.FactorValue(factor_name=isatools.model.StudyFactor(name='DURATION', factor_type=isatools.model.OntologyAnnotation(term='time', term_source=None, term_accession='', comments=[]), comments=[]), value='4 weeks', unit=None), isatools.model.FactorValue(factor_name=isatools.model.StudyFactor(name='INTENSITY', factor_type=isatools.model.OntologyAnnotation(term='intensity', term_source=None, term_accession='', comments=[]), comments=[]), value='low fat', unit=None)]), Treatment(factor_type=biological intervention, factor_values=[isatools.model.FactorValue(factor_name=isatools.model.StudyFactor(name='AGENT', factor_type=isatools.model.OntologyAnnotation(term='perturbation agent', term_source=None, term_accession='', comments=[]), comments=[]), value='diet', unit=None), isatools.model.FactorValue(factor_name=isatools.model.StudyFactor(name='DURATION', factor_type=isatools.model.OntologyAnnotation(term='time', term_source=None, term_accession='', comments=[]), comments=[]), value='4 weeks', unit=None), isatools.model.FactorValue(factor_name=isatools.model.StudyFactor(name='INTENSITY', factor_type=isatools.model.OntologyAnnotation(term='intensity', term_source=None, term_accession='', comments=[]), comments=[]), value='high fat', unit=None)]))\n",
      "(Treatment(factor_type=chemical intervention, factor_values=[isatools.model.FactorValue(factor_name=isatools.model.StudyFactor(name='AGENT', factor_type=isatools.model.OntologyAnnotation(term='perturbation agent', term_source=None, term_accession='', comments=[]), comments=[]), value='diet', unit=None), isatools.model.FactorValue(factor_name=isatools.model.StudyFactor(name='DURATION', factor_type=isatools.model.OntologyAnnotation(term='time', term_source=None, term_accession='', comments=[]), comments=[]), value='4 weeks', unit=None), isatools.model.FactorValue(factor_name=isatools.model.StudyFactor(name='INTENSITY', factor_type=isatools.model.OntologyAnnotation(term='intensity', term_source=None, term_accession='', comments=[]), comments=[]), value='low fat', unit=None)]), Treatment(factor_type=biological intervention, factor_values=[isatools.model.FactorValue(factor_name=isatools.model.StudyFactor(name='AGENT', factor_type=isatools.model.OntologyAnnotation(term='perturbation agent', term_source=None, term_accession='', comments=[]), comments=[]), value='diet', unit=None), isatools.model.FactorValue(factor_name=isatools.model.StudyFactor(name='DURATION', factor_type=isatools.model.OntologyAnnotation(term='time', term_source=None, term_accession='', comments=[]), comments=[]), value='4 weeks', unit=None), isatools.model.FactorValue(factor_name=isatools.model.StudyFactor(name='INTENSITY', factor_type=isatools.model.OntologyAnnotation(term='intensity', term_source=None, term_accession='', comments=[]), comments=[]), value='low fat', unit=None)]))\n",
      "(Treatment(factor_type=chemical intervention, factor_values=[isatools.model.FactorValue(factor_name=isatools.model.StudyFactor(name='AGENT', factor_type=isatools.model.OntologyAnnotation(term='perturbation agent', term_source=None, term_accession='', comments=[]), comments=[]), value='diet', unit=None), isatools.model.FactorValue(factor_name=isatools.model.StudyFactor(name='DURATION', factor_type=isatools.model.OntologyAnnotation(term='time', term_source=None, term_accession='', comments=[]), comments=[]), value='4 weeks', unit=None), isatools.model.FactorValue(factor_name=isatools.model.StudyFactor(name='INTENSITY', factor_type=isatools.model.OntologyAnnotation(term='intensity', term_source=None, term_accession='', comments=[]), comments=[]), value='low fat', unit=None)]), Treatment(factor_type=chemical intervention, factor_values=[isatools.model.FactorValue(factor_name=isatools.model.StudyFactor(name='AGENT', factor_type=isatools.model.OntologyAnnotation(term='perturbation agent', term_source=None, term_accession='', comments=[]), comments=[]), value='diet', unit=None), isatools.model.FactorValue(factor_name=isatools.model.StudyFactor(name='DURATION', factor_type=isatools.model.OntologyAnnotation(term='time', term_source=None, term_accession='', comments=[]), comments=[]), value='4 weeks', unit=None), isatools.model.FactorValue(factor_name=isatools.model.StudyFactor(name='INTENSITY', factor_type=isatools.model.OntologyAnnotation(term='intensity', term_source=None, term_accession='', comments=[]), comments=[]), value='high fat', unit=None)]))\n",
      "(Treatment(factor_type=biological intervention, factor_values=[isatools.model.FactorValue(factor_name=isatools.model.StudyFactor(name='AGENT', factor_type=isatools.model.OntologyAnnotation(term='perturbation agent', term_source=None, term_accession='', comments=[]), comments=[]), value='diet', unit=None), isatools.model.FactorValue(factor_name=isatools.model.StudyFactor(name='DURATION', factor_type=isatools.model.OntologyAnnotation(term='time', term_source=None, term_accession='', comments=[]), comments=[]), value='4 weeks', unit=None), isatools.model.FactorValue(factor_name=isatools.model.StudyFactor(name='INTENSITY', factor_type=isatools.model.OntologyAnnotation(term='intensity', term_source=None, term_accession='', comments=[]), comments=[]), value='low fat', unit=None)]), Treatment(factor_type=biological intervention, factor_values=[isatools.model.FactorValue(factor_name=isatools.model.StudyFactor(name='AGENT', factor_type=isatools.model.OntologyAnnotation(term='perturbation agent', term_source=None, term_accession='', comments=[]), comments=[]), value='diet', unit=None), isatools.model.FactorValue(factor_name=isatools.model.StudyFactor(name='DURATION', factor_type=isatools.model.OntologyAnnotation(term='time', term_source=None, term_accession='', comments=[]), comments=[]), value='4 weeks', unit=None), isatools.model.FactorValue(factor_name=isatools.model.StudyFactor(name='INTENSITY', factor_type=isatools.model.OntologyAnnotation(term='intensity', term_source=None, term_accession='', comments=[]), comments=[]), value='high fat', unit=None)]))\n",
      "(Treatment(factor_type=biological intervention, factor_values=[isatools.model.FactorValue(factor_name=isatools.model.StudyFactor(name='AGENT', factor_type=isatools.model.OntologyAnnotation(term='perturbation agent', term_source=None, term_accession='', comments=[]), comments=[]), value='diet', unit=None), isatools.model.FactorValue(factor_name=isatools.model.StudyFactor(name='DURATION', factor_type=isatools.model.OntologyAnnotation(term='time', term_source=None, term_accession='', comments=[]), comments=[]), value='4 weeks', unit=None), isatools.model.FactorValue(factor_name=isatools.model.StudyFactor(name='INTENSITY', factor_type=isatools.model.OntologyAnnotation(term='intensity', term_source=None, term_accession='', comments=[]), comments=[]), value='low fat', unit=None)]), Treatment(factor_type=chemical intervention, factor_values=[isatools.model.FactorValue(factor_name=isatools.model.StudyFactor(name='AGENT', factor_type=isatools.model.OntologyAnnotation(term='perturbation agent', term_source=None, term_accession='', comments=[]), comments=[]), value='diet', unit=None), isatools.model.FactorValue(factor_name=isatools.model.StudyFactor(name='DURATION', factor_type=isatools.model.OntologyAnnotation(term='time', term_source=None, term_accession='', comments=[]), comments=[]), value='4 weeks', unit=None), isatools.model.FactorValue(factor_name=isatools.model.StudyFactor(name='INTENSITY', factor_type=isatools.model.OntologyAnnotation(term='intensity', term_source=None, term_accession='', comments=[]), comments=[]), value='low fat', unit=None)]))\n",
      "(Treatment(factor_type=biological intervention, factor_values=[isatools.model.FactorValue(factor_name=isatools.model.StudyFactor(name='AGENT', factor_type=isatools.model.OntologyAnnotation(term='perturbation agent', term_source=None, term_accession='', comments=[]), comments=[]), value='diet', unit=None), isatools.model.FactorValue(factor_name=isatools.model.StudyFactor(name='DURATION', factor_type=isatools.model.OntologyAnnotation(term='time', term_source=None, term_accession='', comments=[]), comments=[]), value='4 weeks', unit=None), isatools.model.FactorValue(factor_name=isatools.model.StudyFactor(name='INTENSITY', factor_type=isatools.model.OntologyAnnotation(term='intensity', term_source=None, term_accession='', comments=[]), comments=[]), value='low fat', unit=None)]), Treatment(factor_type=chemical intervention, factor_values=[isatools.model.FactorValue(factor_name=isatools.model.StudyFactor(name='AGENT', factor_type=isatools.model.OntologyAnnotation(term='perturbation agent', term_source=None, term_accession='', comments=[]), comments=[]), value='diet', unit=None), isatools.model.FactorValue(factor_name=isatools.model.StudyFactor(name='DURATION', factor_type=isatools.model.OntologyAnnotation(term='time', term_source=None, term_accession='', comments=[]), comments=[]), value='4 weeks', unit=None), isatools.model.FactorValue(factor_name=isatools.model.StudyFactor(name='INTENSITY', factor_type=isatools.model.OntologyAnnotation(term='intensity', term_source=None, term_accession='', comments=[]), comments=[]), value='high fat', unit=None)]))\n",
      "(Treatment(factor_type=chemical intervention, factor_values=[isatools.model.FactorValue(factor_name=isatools.model.StudyFactor(name='AGENT', factor_type=isatools.model.OntologyAnnotation(term='perturbation agent', term_source=None, term_accession='', comments=[]), comments=[]), value='diet', unit=None), isatools.model.FactorValue(factor_name=isatools.model.StudyFactor(name='DURATION', factor_type=isatools.model.OntologyAnnotation(term='time', term_source=None, term_accession='', comments=[]), comments=[]), value='4 weeks', unit=None), isatools.model.FactorValue(factor_name=isatools.model.StudyFactor(name='INTENSITY', factor_type=isatools.model.OntologyAnnotation(term='intensity', term_source=None, term_accession='', comments=[]), comments=[]), value='high fat', unit=None)]), Treatment(factor_type=biological intervention, factor_values=[isatools.model.FactorValue(factor_name=isatools.model.StudyFactor(name='AGENT', factor_type=isatools.model.OntologyAnnotation(term='perturbation agent', term_source=None, term_accession='', comments=[]), comments=[]), value='diet', unit=None), isatools.model.FactorValue(factor_name=isatools.model.StudyFactor(name='DURATION', factor_type=isatools.model.OntologyAnnotation(term='time', term_source=None, term_accession='', comments=[]), comments=[]), value='4 weeks', unit=None), isatools.model.FactorValue(factor_name=isatools.model.StudyFactor(name='INTENSITY', factor_type=isatools.model.OntologyAnnotation(term='intensity', term_source=None, term_accession='', comments=[]), comments=[]), value='high fat', unit=None)]))\n",
      "(Treatment(factor_type=chemical intervention, factor_values=[isatools.model.FactorValue(factor_name=isatools.model.StudyFactor(name='AGENT', factor_type=isatools.model.OntologyAnnotation(term='perturbation agent', term_source=None, term_accession='', comments=[]), comments=[]), value='diet', unit=None), isatools.model.FactorValue(factor_name=isatools.model.StudyFactor(name='DURATION', factor_type=isatools.model.OntologyAnnotation(term='time', term_source=None, term_accession='', comments=[]), comments=[]), value='4 weeks', unit=None), isatools.model.FactorValue(factor_name=isatools.model.StudyFactor(name='INTENSITY', factor_type=isatools.model.OntologyAnnotation(term='intensity', term_source=None, term_accession='', comments=[]), comments=[]), value='high fat', unit=None)]), Treatment(factor_type=chemical intervention, factor_values=[isatools.model.FactorValue(factor_name=isatools.model.StudyFactor(name='AGENT', factor_type=isatools.model.OntologyAnnotation(term='perturbation agent', term_source=None, term_accession='', comments=[]), comments=[]), value='diet', unit=None), isatools.model.FactorValue(factor_name=isatools.model.StudyFactor(name='DURATION', factor_type=isatools.model.OntologyAnnotation(term='time', term_source=None, term_accession='', comments=[]), comments=[]), value='4 weeks', unit=None), isatools.model.FactorValue(factor_name=isatools.model.StudyFactor(name='INTENSITY', factor_type=isatools.model.OntologyAnnotation(term='intensity', term_source=None, term_accession='', comments=[]), comments=[]), value='low fat', unit=None)]))\n",
      "(Treatment(factor_type=chemical intervention, factor_values=[isatools.model.FactorValue(factor_name=isatools.model.StudyFactor(name='AGENT', factor_type=isatools.model.OntologyAnnotation(term='perturbation agent', term_source=None, term_accession='', comments=[]), comments=[]), value='diet', unit=None), isatools.model.FactorValue(factor_name=isatools.model.StudyFactor(name='DURATION', factor_type=isatools.model.OntologyAnnotation(term='time', term_source=None, term_accession='', comments=[]), comments=[]), value='4 weeks', unit=None), isatools.model.FactorValue(factor_name=isatools.model.StudyFactor(name='INTENSITY', factor_type=isatools.model.OntologyAnnotation(term='intensity', term_source=None, term_accession='', comments=[]), comments=[]), value='high fat', unit=None)]), Treatment(factor_type=biological intervention, factor_values=[isatools.model.FactorValue(factor_name=isatools.model.StudyFactor(name='AGENT', factor_type=isatools.model.OntologyAnnotation(term='perturbation agent', term_source=None, term_accession='', comments=[]), comments=[]), value='diet', unit=None), isatools.model.FactorValue(factor_name=isatools.model.StudyFactor(name='DURATION', factor_type=isatools.model.OntologyAnnotation(term='time', term_source=None, term_accession='', comments=[]), comments=[]), value='4 weeks', unit=None), isatools.model.FactorValue(factor_name=isatools.model.StudyFactor(name='INTENSITY', factor_type=isatools.model.OntologyAnnotation(term='intensity', term_source=None, term_accession='', comments=[]), comments=[]), value='low fat', unit=None)]))\n"
     ]
    }
   ],
   "source": [
    "factory_chem = TreatmentFactory(intervention_type=INTERVENTIONS['CHEMICAL'], factors=BASE_FACTORS)\n",
    "for agent_level in agent_levels.value.split(','):\n",
    "    factory_chem.add_factor_value(BASE_FACTORS[0], agent_level.strip())\n",
    "for dose_level in dose_levels.value.split(','):\n",
    "    factory_chem.add_factor_value(BASE_FACTORS[1], dose_level.strip())\n",
    "for duration_of_exposure_level in duration_of_exposure_levels.value.split(','):\n",
    "    factory_chem.add_factor_value(BASE_FACTORS[2], duration_of_exposure_level.strip())\n",
    "print('Number of chemical treatments: {}'.format(len(factory_chem.compute_full_factorial_design())))\n",
    "\n",
    "factory_diet = TreatmentFactory(intervention_type=INTERVENTIONS['BIOLOGICAL'], factors=BASE_FACTORS)\n",
    "for agent_level in agent_levels.value.split(','):\n",
    "    factory_diet.add_factor_value(BASE_FACTORS[0], agent_level.strip())\n",
    "for dose_level in dose_levels.value.split(','):\n",
    "    factory_diet.add_factor_value(BASE_FACTORS[1], dose_level.strip())\n",
    "for duration_of_exposure_level in duration_of_exposure_levels.value.split(','):\n",
    "    factory_diet.add_factor_value(BASE_FACTORS[2], duration_of_exposure_level.strip())\n",
    "print('Number of diet treatments: {}'.format(len(factory_diet.compute_full_factorial_design())))\n",
    "diet_treatments = factory_diet.compute_full_factorial_design()\n",
    "chem_treatments = factory_chem.compute_full_factorial_design()\n",
    "all_treatments=set()\n",
    "all_treatments=all_treatments.union(diet_treatments)\n",
    "all_treatments=all_treatments.union(chem_treatments)\n",
    "\n",
    "\n",
    "for treatment in treatments:\n",
    "    treatment_sequence.add_treatment(treatment, 1)\n",
    "    treatment_sequence.add_treatment(treatment, 2)\n",
    "\n",
    "\n",
    "#print(all_treatments)\n",
    "num_repeats=2\n",
    "treatment_sequences = list(permutations(all_treatments, num_repeats))\n",
    "print(\"number of treatment sequences: \", len(treatment_sequences),  \"| number of treatments: \", len(all_treatments))\n",
    "for i in treatment_sequences:\n",
    "    print(i)\n"
   ]
  },
  {
   "cell_type": "markdown",
   "metadata": {},
   "source": [
    "Next, specify if all study groups of the same size, i.e have the same number of subjects? (in other words, are the groups balanced)."
   ]
  },
  {
   "cell_type": "code",
   "execution_count": 9,
   "metadata": {},
   "outputs": [
    {
     "data": {
      "application/vnd.jupyter.widget-view+json": {
       "model_id": "a6e1a854c6df428f97e1d9ecf1e93a00"
      }
     },
     "metadata": {},
     "output_type": "display_data"
    }
   ],
   "source": [
    "group_blanced = RadioButtons(options=['Balanced', 'Unbalanced'], value='Balanced', disabled=False)\n",
    "VBox([Label('Are study groups balanced?', layout=label_layout), group_blanced])"
   ]
  },
  {
   "cell_type": "markdown",
   "metadata": {},
   "source": [
    "Provide the number of subject per study group:"
   ]
  },
  {
   "cell_type": "code",
   "execution_count": 10,
   "metadata": {},
   "outputs": [
    {
     "data": {
      "application/vnd.jupyter.widget-view+json": {
       "model_id": "103b957593a0444ab9ef9b8f49150d33"
      }
     },
     "metadata": {},
     "output_type": "display_data"
    }
   ],
   "source": [
    "group_size = IntSlider(value=5, min=0, max=100, step=1, description='Group size:', disabled=False, continuous_update=False, orientation='horizontal', readout=True, readout_format='d')\n",
    "group_size"
   ]
  },
  {
   "cell_type": "code",
   "execution_count": 11,
   "metadata": {
    "collapsed": true
   },
   "outputs": [],
   "source": [
    "plan = SampleAssayPlan(group_size=group_size.value)"
   ]
  },
  {
   "cell_type": "code",
   "execution_count": 12,
   "metadata": {},
   "outputs": [
    {
     "data": {
      "application/vnd.jupyter.widget-view+json": {
       "model_id": "9457416716c84af187469c969f7fb076"
      }
     },
     "metadata": {},
     "output_type": "display_data"
    }
   ],
   "source": [
    "rad_sample_type = SelectMultiple(options=['Blood', 'Sweat', 'Tears', 'Urine','Liver'], value=['Liver','Sweat'], disabled=False)\n",
    "VBox([Label('Sample type?', layout=label_layout), rad_sample_type])"
   ]
  },
  {
   "cell_type": "markdown",
   "metadata": {},
   "source": [
    "How many times each of the samples have been collected?"
   ]
  },
  {
   "cell_type": "code",
   "execution_count": 13,
   "metadata": {},
   "outputs": [
    {
     "data": {
      "application/vnd.jupyter.widget-view+json": {
       "model_id": "ed12b7c6dcf245ebb52b740ee612fe01"
      }
     },
     "metadata": {},
     "output_type": "display_data"
    }
   ],
   "source": [
    "sampling_size = IntSlider(value=3, min=0, max=100, step=1, description='Sample size:', disabled=False, continuous_update=False, orientation='horizontal', readout=True, readout_format='d')\n",
    "sampling_size"
   ]
  },
  {
   "cell_type": "code",
   "execution_count": 14,
   "metadata": {
    "collapsed": true
   },
   "outputs": [],
   "source": [
    "# plan.add_sample_type(rad_sample_type.value)\n",
    "# print(rad_sample_type.value[0])\n",
    "element = 0\n",
    "for element in range(len(rad_sample_type.value)):\n",
    "#   print(rad_sample_type.value[element])\n",
    "    plan.add_sample_type(rad_sample_type.value[element])\n",
    "    plan.add_sample_plan_record(rad_sample_type.value[element], sampling_size.value)\n",
    "\n",
    "isa_object_factory = IsaModelObjectFactory(plan, treatment_sequence)"
   ]
  },
  {
   "cell_type": "markdown",
   "metadata": {},
   "source": [
    "## Generate ISA model objects from the sample plan and render the study-sample table"
   ]
  },
  {
   "cell_type": "markdown",
   "metadata": {},
   "source": [
    "*Check state of the Sample Assay Plan after entering sample planning information:*"
   ]
  },
  {
   "cell_type": "code",
   "execution_count": 15,
   "metadata": {},
   "outputs": [
    {
     "name": "stdout",
     "output_type": "stream",
     "text": [
      "{\n",
      "    \"assay_plan\": [],\n",
      "    \"assay_types\": [],\n",
      "    \"group_size\": 5,\n",
      "    \"sample_plan\": [\n",
      "        {\n",
      "            \"sample_type\": \"Blood\",\n",
      "            \"sampling_size\": 3\n",
      "        }\n",
      "    ],\n",
      "    \"sample_qc_plan\": [],\n",
      "    \"sample_types\": [\n",
      "        \"Blood\"\n",
      "    ]\n",
      "}\n"
     ]
    }
   ],
   "source": [
    "import json\n",
    "from isatools.create.models import SampleAssayPlanEncoder\n",
    "print(json.dumps(plan, cls=SampleAssayPlanEncoder, sort_keys=True, indent=4, separators=(',', ': ')))"
   ]
  },
  {
   "cell_type": "code",
   "execution_count": 16,
   "metadata": {},
   "outputs": [
    {
     "data": {
      "application/vnd.jupyter.widget-view+json": {
       "model_id": "12c614f91e8a46fbaca921a88d38a6cc"
      }
     },
     "metadata": {},
     "output_type": "display_data"
    }
   ],
   "source": [
    "isa_investigation = Investigation(identifier='inv101')\n",
    "isa_study = isa_object_factory.create_study_from_plan()\n",
    "isa_study.filename = 's_study.txt'\n",
    "isa_investigation.studies = [isa_study]\n",
    "dataframes = dumpdf(isa_investigation)\n",
    "sample_table = next(iter(dataframes.values()))\n",
    "show_grid(sample_table)"
   ]
  },
  {
   "cell_type": "code",
   "execution_count": 17,
   "metadata": {},
   "outputs": [
    {
     "name": "stdout",
     "output_type": "stream",
     "text": [
      "Total rows generated: 120\n"
     ]
    }
   ],
   "source": [
    "print('Total rows generated: {}'.format(len(sample_table)))"
   ]
  },
  {
   "cell_type": "markdown",
   "metadata": {},
   "source": [
    "## Assay planning "
   ]
  },
  {
   "cell_type": "markdown",
   "metadata": {},
   "source": [
    "### Select assay technology type to map to sample type from sample plan"
   ]
  },
  {
   "cell_type": "code",
   "execution_count": 18,
   "metadata": {},
   "outputs": [
    {
     "data": {
      "application/vnd.jupyter.widget-view+json": {
       "model_id": "3bd52bd0429b45c1a6b3570c2b6e908c"
      }
     },
     "metadata": {},
     "output_type": "display_data"
    }
   ],
   "source": [
    "rad_assay_type = RadioButtons(options=['DNA microarray', 'DNA sequencing', 'Mass spectrometry', 'NMR spectroscopy'], value='DNA microarray', disabled=False)\n",
    "VBox([Label('Assay type to map to sample type \"{}\"?'.format(rad_sample_type.value), layout=label_layout), rad_assay_type])"
   ]
  },
  {
   "cell_type": "code",
   "execution_count": 19,
   "metadata": {},
   "outputs": [
    {
     "name": "stdout",
     "output_type": "stream",
     "text": [
      "Selected measurement type \"genome sequencing\" and technology type \"nucleotide microarray\"\n"
     ]
    }
   ],
   "source": [
    "if rad_assay_type.value == 'DNA microarray':\n",
    "    assay_type = AssayType(measurement_type='transcription profiling', technology_type='DNA microarray')\n",
    "    print('Selected measurement type \"transcription profiling\" and technology type \"DNA microarray\"')\n",
    "else:\n",
    "    raise Exception('Assay type not implemented')"
   ]
  },
  {
   "cell_type": "markdown",
   "metadata": {},
   "source": [
    "### Topology modifications"
   ]
  },
  {
   "cell_type": "code",
   "execution_count": 20,
   "metadata": {},
   "outputs": [
    {
     "data": {
      "application/vnd.jupyter.widget-view+json": {
       "model_id": "a2ed5e6f0755415dbb01e9e998308321"
      }
     },
     "metadata": {},
     "output_type": "display_data"
    }
   ],
   "source": [
    "technical_replicates = IntSlider(value=2, min=0, max=5, step=1, description='Technical repeats:', disabled=False, continuous_update=False, orientation='horizontal', readout=True, readout_format='d')\n",
    "technical_replicates"
   ]
  },
  {
   "cell_type": "code",
   "execution_count": 21,
   "metadata": {},
   "outputs": [
    {
     "data": {
      "application/vnd.jupyter.widget-view+json": {
       "model_id": "daf09fff665c4154bb336a6608dd7371"
      }
     },
     "metadata": {},
     "output_type": "display_data"
    }
   ],
   "source": [
    "ad_mod_affy27 = Checkbox(value=True, description='DNA Chip: A-AFFY-27')\n",
    "ad_mod_affy28 = Checkbox(value=True, description='DNA Chip: A-AFFY-28')\n",
    "ad_mod_affy29 = Checkbox(value=False, description='DNA Chip: A-AFFY-29')\n",
    "VBox([ad_mod_affy27, ad_mod_affy28, ad_mod_affy29])"
   ]
  },
  {
   "cell_type": "code",
   "execution_count": 22,
   "metadata": {
    "scrolled": true
   },
   "outputs": [
    {
     "name": "stdout",
     "output_type": "stream",
     "text": [
      "Technical replicates: 2\n",
      "Added assay plan: Blood -> genome sequencing/DNA microarray\n",
      "Array Designs: ['A-AFFY-28', 'A-AFFY-27']\n"
     ]
    }
   ],
   "source": [
    "array_designs = set()\n",
    "if ad_mod_affy27.value: array_designs.add('A-AFFY-27')\n",
    "if ad_mod_affy28.value: array_designs.add('A-AFFY-28')\n",
    "if ad_mod_affy29.value: array_designs.add('A-AFFY-29')\n",
    "top_mods = AssayTopologyModifiers(technical_replicates=technical_replicates.value, array_designs=array_designs)\n",
    "print('Technical replicates: {}'.format(top_mods.technical_replicates))\n",
    "assay_type.topology_modifiers = top_mods\n",
    "plan.add_assay_type(assay_type)\n",
    "plan.add_assay_plan_record(rad_sample_type.value, assay_type)\n",
    "assay_plan = next(iter(plan.assay_plan))\n",
    "print('Added assay plan: {0} -> {1}/{2}'.format(assay_plan[0].value.term, assay_plan[1].measurement_type.term, assay_plan[1].technology_type.term))\n",
    "if len(top_mods.array_designs) > 0:\n",
    "    print('Array Designs: {}'.format(list(top_mods.array_designs)))"
   ]
  },
  {
   "cell_type": "markdown",
   "metadata": {},
   "source": [
    "## Generate ISA model objects from the assay plan and render the assay table"
   ]
  },
  {
   "cell_type": "markdown",
   "metadata": {},
   "source": [
    "*Check state of Sample Assay Plan after entering assay plan information:*"
   ]
  },
  {
   "cell_type": "code",
   "execution_count": 23,
   "metadata": {},
   "outputs": [
    {
     "name": "stdout",
     "output_type": "stream",
     "text": [
      "{\n",
      "    \"assay_plan\": [\n",
      "        {\n",
      "            \"assay_type\": {\n",
      "                \"measurement_type\": \"genome sequencing\",\n",
      "                \"technology_type\": \"DNA microarray\",\n",
      "                \"topology_modifiers\": {\n",
      "                    \"array_designs\": [\n",
      "                        \"A-AFFY-27\",\n",
      "                        \"A-AFFY-28\"\n",
      "                    ],\n",
      "                    \"technical_replicates\": 2\n",
      "                }\n",
      "            },\n",
      "            \"sample_type\": \"Blood\"\n",
      "        }\n",
      "    ],\n",
      "    \"assay_types\": [\n",
      "        {\n",
      "            \"measurement_type\": \"genome sequencing\",\n",
      "            \"technology_type\": \"DNA microarray\",\n",
      "            \"topology_modifiers\": {\n",
      "                \"array_designs\": [\n",
      "                    \"A-AFFY-27\",\n",
      "                    \"A-AFFY-28\"\n",
      "                ],\n",
      "                \"technical_replicates\": 2\n",
      "            }\n",
      "        }\n",
      "    ],\n",
      "    \"group_size\": 5,\n",
      "    \"sample_plan\": [\n",
      "        {\n",
      "            \"sample_type\": \"Blood\",\n",
      "            \"sampling_size\": 3\n",
      "        }\n",
      "    ],\n",
      "    \"sample_qc_plan\": [],\n",
      "    \"sample_types\": [\n",
      "        \"Blood\"\n",
      "    ]\n",
      "}\n"
     ]
    }
   ],
   "source": [
    "print(json.dumps(plan, cls=SampleAssayPlanEncoder, sort_keys=True, indent=4, separators=(',', ': ')))"
   ]
  },
  {
   "cell_type": "code",
   "execution_count": 24,
   "metadata": {},
   "outputs": [
    {
     "name": "stdout",
     "output_type": "stream",
     "text": [
      "Assay generated: a_tp_A-AFFY-28_A-AFFY-27_assay.txt, 120 samples, 1440 processes, 480 data files\n"
     ]
    }
   ],
   "source": [
    "isa_investigation.studies = [isa_object_factory.create_assays_from_plan()]\n",
    "for assay in isa_investigation.studies[-1].assays:\n",
    "    print('Assay generated: {0}, {1} samples, {2} processes, {3} data files'\n",
    "          .format(assay.filename, len(assay.samples), len(assay.process_sequence), len(assay.data_files)))\n",
    "dataframes = dumpdf(isa_investigation)"
   ]
  },
  {
   "cell_type": "code",
   "execution_count": 25,
   "metadata": {},
   "outputs": [
    {
     "data": {
      "application/vnd.jupyter.widget-view+json": {
       "model_id": "692fc377c1eb42559525de909bbddb9b"
      }
     },
     "metadata": {},
     "output_type": "display_data"
    }
   ],
   "source": [
    "show_grid(dataframes[next(iter(dataframes.keys()))])"
   ]
  }
 ],
 "metadata": {
  "kernelspec": {
   "display_name": "Python 3",
   "language": "python",
   "name": "python3"
  },
  "language_info": {
   "codemirror_mode": {
    "name": "ipython",
    "version": 3
   },
   "file_extension": ".py",
   "mimetype": "text/x-python",
   "name": "python",
   "nbconvert_exporter": "python",
   "pygments_lexer": "ipython3",
   "version": "3.4.3"
  }
 },
 "nbformat": 4,
 "nbformat_minor": 1
}
