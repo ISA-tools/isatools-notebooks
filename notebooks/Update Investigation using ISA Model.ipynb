{
 "cells": [
  {
   "cell_type": "code",
   "execution_count": null,
   "metadata": {
    "collapsed": true
   },
   "outputs": [],
   "source": [
    "from isatools import isatab\n",
    "from isatools.model import *"
   ]
  },
  {
   "cell_type": "markdown",
   "metadata": {},
   "source": [
    "First, let's load some ISA content from an ISA-Tab file. Note we only load the investigation file in this example."
   ]
  },
  {
   "cell_type": "code",
   "execution_count": null,
   "metadata": {},
   "outputs": [],
   "source": [
    "investigation = isatab.load(open('../data/BII-I-1/i_investigation.txt'), skip_load_tables=True)"
   ]
  },
  {
   "cell_type": "markdown",
   "metadata": {},
   "source": [
    "Let's take a look at the Investigation file that we just loaded into our ISA `investigation` object."
   ]
  },
  {
   "cell_type": "code",
   "execution_count": null,
   "metadata": {},
   "outputs": [],
   "source": [
    "print(isatab.dumps(investigation, skip_dump_tables=True))"
   ]
  },
  {
   "cell_type": "markdown",
   "metadata": {},
   "source": [
    "Next, let's overwrite some of the fields by directly setting new strings on the `investigation` object.'"
   ]
  },
  {
   "cell_type": "code",
   "execution_count": null,
   "metadata": {
    "collapsed": true
   },
   "outputs": [],
   "source": [
    "investigation.identifier = \"i1\"\n",
    "investigation.title = \"My Simple ISA Investigation\"\n",
    "investigation.description = \"We could alternatively use the class constructor's parameters to set some default \" \\\n",
    "                            \"values at the time of creation, however we want to demonstrate how to use the \" \\\n",
    "                            \"object's instance variables to set values.\"\n",
    "investigation.submission_date = \"2016-11-03\"\n",
    "investigation.public_release_date = \"2016-11-03\""
   ]
  },
  {
   "cell_type": "markdown",
   "metadata": {},
   "source": [
    "Now let's take a look again at the dumped ISA-Tab content to see if the updates are there.'"
   ]
  },
  {
   "cell_type": "code",
   "execution_count": null,
   "metadata": {},
   "outputs": [],
   "source": [
    "print(isatab.dumps(investigation, skip_dump_tables=True))"
   ]
  },
  {
   "cell_type": "code",
   "execution_count": null,
   "metadata": {
    "collapsed": true
   },
   "outputs": [],
   "source": []
  }
 ],
 "metadata": {
  "kernelspec": {
   "display_name": "Python 3",
   "language": "python",
   "name": "python3"
  },
  "language_info": {
   "codemirror_mode": {
    "name": "ipython",
    "version": 3
   },
   "file_extension": ".py",
   "mimetype": "text/x-python",
   "name": "python",
   "nbconvert_exporter": "python",
   "pygments_lexer": "ipython3",
   "version": "3.5.0"
  }
 },
 "nbformat": 4,
 "nbformat_minor": 1
}
