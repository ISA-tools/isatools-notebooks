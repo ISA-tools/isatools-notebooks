{
 "cells": [
  {
   "cell_type": "markdown",
   "metadata": {},
   "source": [
    "# Study Designer Example (DNA microarray)"
   ]
  },
  {
   "cell_type": "code",
   "execution_count": 51,
   "metadata": {
    "collapsed": true
   },
   "outputs": [],
   "source": [
    "from ipywidgets import (RadioButtons, VBox, HBox, Layout, Label, Checkbox, Text, IntSlider)\n",
    "from qgrid import show_grid\n",
    "label_layout = Layout(width='100%')  # for making sure the labels display correctly\n",
    "from isatools.create.models import *\n",
    "from isatools.model import Investigation\n",
    "from isatools.isatab import dump_tables_to_dataframes as dumpdf\n",
    "import qgrid\n",
    "qgrid.nbinstall(overwrite=True)"
   ]
  },
  {
   "cell_type": "markdown",
   "metadata": {},
   "source": [
    "## Sample planning section"
   ]
  },
  {
   "cell_type": "markdown",
   "metadata": {},
   "source": [
    "### Study design type\n",
    "\n",
    "Please specify if the study is an intervention or an observation."
   ]
  },
  {
   "cell_type": "code",
   "execution_count": 52,
   "metadata": {},
   "outputs": [
    {
     "data": {
      "application/vnd.jupyter.widget-view+json": {
       "model_id": "b039339e9c0b48fb83efe06ff816830f"
      }
     },
     "metadata": {},
     "output_type": "display_data"
    }
   ],
   "source": [
    "rad_study_design = RadioButtons(options=['Intervention', 'Observation'], value='Intervention', disabled=False)\n",
    "VBox([Label('Study design type?', layout=label_layout), rad_study_design])"
   ]
  },
  {
   "cell_type": "markdown",
   "metadata": {},
   "source": [
    "### Intervention study\n",
    "\n",
    "If specifying an intervention study, please answer the following:\n",
    " - Are study subjects exposed to a single intervention or to multiple intervention?\n",
    " - Are there 'hard to change' factors, which restrict randomization of experimental unit?\n",
    " \n",
    "*Note: if you chose 'observation' as the study design type, the following choices will be disabled and you should skip to the Observation study section*\n",
    " "
   ]
  },
  {
   "cell_type": "code",
   "execution_count": 53,
   "metadata": {},
   "outputs": [
    {
     "data": {
      "application/vnd.jupyter.widget-view+json": {
       "model_id": "046cac59cfae44bd9de0a1816f84069a"
      }
     },
     "metadata": {},
     "output_type": "display_data"
    }
   ],
   "source": [
    "if rad_study_design.value == 'Intervention':\n",
    "    study_design = InterventionStudyDesign()\n",
    "if rad_study_design.value == 'Observation':\n",
    "    study_design = None\n",
    "intervention_ui_disabled = not isinstance(study_design, InterventionStudyDesign)\n",
    "intervention_type = RadioButtons(options=['single', 'multiple'], value='single', disabled=intervention_ui_disabled)\n",
    "intervention_type_vbox = VBox([Label('Single intervention or to multiple intervention?', layout=label_layout), intervention_type])\n",
    "free_or_restricted_design = RadioButtons(options=['yes', 'no'], value='no', disabled=intervention_ui_disabled)\n",
    "free_or_restricted_design_vbox = VBox([Label(\"Are there 'hard to change' factors?\", layout=label_layout), free_or_restricted_design])\n",
    "HBox([intervention_type_vbox, free_or_restricted_design_vbox])"
   ]
  },
  {
   "cell_type": "code",
   "execution_count": 54,
   "metadata": {},
   "outputs": [
    {
     "data": {
      "application/vnd.jupyter.widget-view+json": {
       "model_id": "51cd9495da0649db8e64f6b876dd771c"
      }
     },
     "metadata": {},
     "output_type": "display_data"
    }
   ],
   "source": [
    "hard_to_change_factors_ui_disabled = free_or_restricted_design.value == 'no'\n",
    "hard_to_change_factors = RadioButtons(options=[1, 2], value=1, disabled=hard_to_change_factors_ui_disabled)\n",
    "VBox([Label(\"If applicable, how many 'hard to change factors'?\", layout=label_layout), hard_to_change_factors])"
   ]
  },
  {
   "cell_type": "code",
   "execution_count": 55,
   "metadata": {},
   "outputs": [
    {
     "name": "stdout",
     "output_type": "stream",
     "text": [
      "Interventions: Single intervention\n",
      "Design type: factorial\n"
     ]
    }
   ],
   "source": [
    "repeats = intervention_type.value != 'single'\n",
    "factorial_design = free_or_restricted_design.value == 'no'\n",
    "split_plot_design = (free_or_restricted_design.value == 'yes' and hard_to_change_factors.value == 1)\n",
    "split_split_plot_design = (free_or_restricted_design.value == 'yes' and hard_to_change_factors.value == 2)\n",
    "print('Interventions: {}'.format('Multiple interventions' if repeats else 'Single intervention'))\n",
    "design_type = 'factorial'  # always default to factorial\n",
    "if split_plot_design:\n",
    "    design_type = 'split plot'\n",
    "elif split_split_plot_design:\n",
    "    design_type = 'split split'\n",
    "print('Design type: {}'.format(design_type))"
   ]
  },
  {
   "cell_type": "markdown",
   "metadata": {},
   "source": [
    "#### Factorial design - intervention types\n",
    "\n",
    "If specifying an factorial design, please list the intervention types here."
   ]
  },
  {
   "cell_type": "code",
   "execution_count": 56,
   "metadata": {},
   "outputs": [
    {
     "data": {
      "application/vnd.jupyter.widget-view+json": {
       "model_id": "77b57d659a29471d8c8ded441ebdc58b"
      }
     },
     "metadata": {},
     "output_type": "display_data"
    }
   ],
   "source": [
    "factorial_design_ui_disabled = not factorial_design\n",
    "chemical_intervention = Checkbox(value=True, description='Chemical intervention', disabled=factorial_design_ui_disabled)\n",
    "behavioural_intervention = Checkbox(value=False, description='Behavioural intervention', disabled=factorial_design_ui_disabled)\n",
    "surgical_intervention = Checkbox(value=False, description='Surgical intervention', disabled=factorial_design_ui_disabled)\n",
    "biological_intervention = Checkbox(value=False, description='Biological intervention', disabled=factorial_design_ui_disabled)\n",
    "radiological_intervention = Checkbox(value=False, description='Radiological intervention', disabled=factorial_design_ui_disabled)\n",
    "VBox([chemical_intervention, surgical_intervention, biological_intervention, radiological_intervention])"
   ]
  },
  {
   "cell_type": "code",
   "execution_count": 57,
   "metadata": {},
   "outputs": [
    {
     "data": {
      "application/vnd.jupyter.widget-view+json": {
       "model_id": "cb95d58cf73b43afb49cfafe86724c64"
      }
     },
     "metadata": {},
     "output_type": "display_data"
    }
   ],
   "source": [
    "level_uis = []\n",
    "if chemical_intervention:\n",
    "    agent_levels = Text(\n",
    "        value='calpol, no agent',\n",
    "        placeholder='e.g. cocaine, calpol',\n",
    "        description='Agent:',\n",
    "        disabled=False\n",
    "    )\n",
    "    dose_levels = Text(\n",
    "        value='low, high',\n",
    "        placeholder='e.g. low, high',\n",
    "        description='Dose levels:',\n",
    "        disabled=False\n",
    "    )\n",
    "    duration_of_exposure_levels = Text(\n",
    "        value='short, long',\n",
    "        placeholder='e.g. short, long',\n",
    "        description='Duration of exposure:',\n",
    "        disabled=False\n",
    "    )\n",
    "VBox([Label(\"Chemical intervention factor levels:\", layout=label_layout), agent_levels, dose_levels, duration_of_exposure_levels])"
   ]
  },
  {
   "cell_type": "code",
   "execution_count": 58,
   "metadata": {},
   "outputs": [
    {
     "name": "stdout",
     "output_type": "stream",
     "text": [
      "Number of study groups (treatment groups): 8\n"
     ]
    }
   ],
   "source": [
    "factory = TreatmentFactory(intervention_type=INTERVENTIONS['CHEMICAL'], factors=BASE_FACTORS)\n",
    "for agent_level in agent_levels.value.split(','):\n",
    "    factory.add_factor_value(BASE_FACTORS[0], agent_level.strip())\n",
    "for dose_level in dose_levels.value.split(','):\n",
    "    factory.add_factor_value(BASE_FACTORS[1], dose_level.strip())\n",
    "for duration_of_exposure_level in duration_of_exposure_levels.value.split(','):\n",
    "    factory.add_factor_value(BASE_FACTORS[2], duration_of_exposure_level.strip())\n",
    "print('Number of study groups (treatment groups): {}'.format(len(factory.compute_full_factorial_design())))\n",
    "treatment_sequence = TreatmentSequence(ranked_treatments=factory.compute_full_factorial_design())"
   ]
  },
  {
   "cell_type": "markdown",
   "metadata": {},
   "source": [
    "Next, specify if all study groups of the same size, i.e have the same number of subjects? (in other words, are the groups balanced)."
   ]
  },
  {
   "cell_type": "code",
   "execution_count": 59,
   "metadata": {},
   "outputs": [
    {
     "data": {
      "application/vnd.jupyter.widget-view+json": {
       "model_id": "9993f7b0355d455e98d7229fce250ac6"
      }
     },
     "metadata": {},
     "output_type": "display_data"
    }
   ],
   "source": [
    "group_blanced = RadioButtons(options=['Balanced', 'Unbalanced'], value='Balanced', disabled=False)\n",
    "VBox([Label('Are study groups balanced?', layout=label_layout), group_blanced])"
   ]
  },
  {
   "cell_type": "markdown",
   "metadata": {},
   "source": [
    "Provide the number of subject per study group:"
   ]
  },
  {
   "cell_type": "code",
   "execution_count": 60,
   "metadata": {},
   "outputs": [
    {
     "data": {
      "application/vnd.jupyter.widget-view+json": {
       "model_id": "c2e2ad8bb95f4aa3b88e18fdf194357c"
      }
     },
     "metadata": {},
     "output_type": "display_data"
    }
   ],
   "source": [
    "group_size = IntSlider(value=5, min=0, max=100, step=1, description='Group size:', disabled=False, continuous_update=False, orientation='horizontal', readout=True, readout_format='d')\n",
    "group_size"
   ]
  },
  {
   "cell_type": "code",
   "execution_count": 61,
   "metadata": {
    "collapsed": true
   },
   "outputs": [],
   "source": [
    "plan = SampleAssayPlan(group_size=group_size.value)"
   ]
  },
  {
   "cell_type": "code",
   "execution_count": 62,
   "metadata": {},
   "outputs": [
    {
     "data": {
      "application/vnd.jupyter.widget-view+json": {
       "model_id": "194ec3db7c2c4ee9819ed8774d37857f"
      }
     },
     "metadata": {},
     "output_type": "display_data"
    }
   ],
   "source": [
    "rad_sample_type = RadioButtons(options=['Blood', 'Sweat', 'Tears', 'Urine'], value='Tears', disabled=False)\n",
    "VBox([Label('Sample type?', layout=label_layout), rad_sample_type])"
   ]
  },
  {
   "cell_type": "markdown",
   "metadata": {},
   "source": [
    "How many times each of the samples have been collected?"
   ]
  },
  {
   "cell_type": "code",
   "execution_count": 63,
   "metadata": {},
   "outputs": [
    {
     "data": {
      "application/vnd.jupyter.widget-view+json": {
       "model_id": "a32a3b512dd04145b21db7fba4c6e0c4"
      }
     },
     "metadata": {},
     "output_type": "display_data"
    }
   ],
   "source": [
    "sampling_size = IntSlider(value=3, min=0, max=100, step=1, description='Sample size:', disabled=False, continuous_update=False, orientation='horizontal', readout=True, readout_format='d')\n",
    "sampling_size"
   ]
  },
  {
   "cell_type": "code",
   "execution_count": 64,
   "metadata": {
    "collapsed": true
   },
   "outputs": [],
   "source": [
    "plan.add_sample_type(rad_sample_type.value)\n",
    "plan.add_sample_plan_record(rad_sample_type.value, sampling_size.value)\n",
    "isa_object_factory = IsaModelObjectFactory(plan, treatment_sequence)"
   ]
  },
  {
   "cell_type": "markdown",
   "metadata": {},
   "source": [
    "## Generate ISA model objects from the sample plan and render the study-sample table"
   ]
  },
  {
   "cell_type": "code",
   "execution_count": 65,
   "metadata": {},
   "outputs": [
    {
     "data": {
      "application/vnd.jupyter.widget-view+json": {
       "model_id": "18b8e4bc27184dc4af2be71fb2a4870b"
      }
     },
     "metadata": {},
     "output_type": "display_data"
    }
   ],
   "source": [
    "isa_investigation = Investigation(identifier='inv101')\n",
    "isa_study = isa_object_factory.create_study_from_plan()\n",
    "isa_study.filename = 's_study.txt'\n",
    "isa_investigation.studies = [isa_study]\n",
    "dataframes = dumpdf(isa_investigation)\n",
    "sample_table = next(iter(dataframes.values()))\n",
    "show_grid(sample_table)"
   ]
  },
  {
   "cell_type": "code",
   "execution_count": 66,
   "metadata": {},
   "outputs": [
    {
     "name": "stdout",
     "output_type": "stream",
     "text": [
      "Total rows generated: 120\n"
     ]
    }
   ],
   "source": [
    "print('Total rows generated: {}'.format(len(sample_table)))"
   ]
  },
  {
   "cell_type": "markdown",
   "metadata": {},
   "source": [
    "## Assay planning "
   ]
  },
  {
   "cell_type": "markdown",
   "metadata": {},
   "source": [
    "### Select assay technology type to map to sample type from sample plan"
   ]
  },
  {
   "cell_type": "code",
   "execution_count": 67,
   "metadata": {},
   "outputs": [
    {
     "data": {
      "application/vnd.jupyter.widget-view+json": {
       "model_id": "9f6c71ef90b844d794b7c64eaa5a984f"
      }
     },
     "metadata": {},
     "output_type": "display_data"
    }
   ],
   "source": [
    "rad_assay_type = RadioButtons(options=['DNA microarray', 'DNA sequencing', 'Mass spectrometry', 'NMR spectroscopy'], value='DNA microarray', disabled=False)\n",
    "VBox([Label('Assay type to map to sample type \"{}\"?'.format(rad_sample_type.value), layout=label_layout), rad_assay_type])"
   ]
  },
  {
   "cell_type": "code",
   "execution_count": 68,
   "metadata": {},
   "outputs": [
    {
     "name": "stdout",
     "output_type": "stream",
     "text": [
      "Selected measurement type \"transcription profiling\" and technology type \"DNA microarray\"\n"
     ]
    }
   ],
   "source": [
    "if rad_assay_type.value == 'DNA microarray':\n",
    "    assay_type = AssayType(measurement_type='transcription profiling', technology_type='DNA microarray')\n",
    "    print('Selected measurement type \"transcription profiling\" and technology type \"DNA microarray\"')\n",
    "else:\n",
    "    raise Exception('Assay type not implemented')"
   ]
  },
  {
   "cell_type": "markdown",
   "metadata": {},
   "source": [
    "### Topology modifications"
   ]
  },
  {
   "cell_type": "code",
   "execution_count": 69,
   "metadata": {},
   "outputs": [
    {
     "data": {
      "application/vnd.jupyter.widget-view+json": {
       "model_id": "67cd142715aa4b529c1ac0a6834ce9c5"
      }
     },
     "metadata": {},
     "output_type": "display_data"
    }
   ],
   "source": [
    "technical_replicates = IntSlider(value=2, min=0, max=5, step=1, description='Technical repeats:', disabled=False, continuous_update=False, orientation='horizontal', readout=True, readout_format='d')\n",
    "technical_replicates"
   ]
  },
  {
   "cell_type": "code",
   "execution_count": 70,
   "metadata": {},
   "outputs": [
    {
     "data": {
      "application/vnd.jupyter.widget-view+json": {
       "model_id": "10b1a324d5ed46d4a182559ed53d768d"
      }
     },
     "metadata": {},
     "output_type": "display_data"
    }
   ],
   "source": [
    "ad_mod_affy27 = Checkbox(value=True, description='DNA Chip: A-AFFY-27')\n",
    "ad_mod_affy28 = Checkbox(value=True, description='DNA Chip: A-AFFY-28')\n",
    "ad_mod_affy29 = Checkbox(value=False, description='DNA Chip: A-AFFY-29')\n",
    "VBox([ad_mod_affy27, ad_mod_affy28, ad_mod_affy29])"
   ]
  },
  {
   "cell_type": "code",
   "execution_count": 71,
   "metadata": {
    "scrolled": true
   },
   "outputs": [
    {
     "name": "stdout",
     "output_type": "stream",
     "text": [
      "Technical replicates: 2\n",
      "Added assay plan: Tears -> transcription profiling/DNA microarray\n"
     ]
    }
   ],
   "source": [
    "array_designs = set()\n",
    "if ad_mod_affy27.value: array_designs.add('A-AFFY-27')\n",
    "if ad_mod_affy28.value: array_designs.add('A-AFFY-28')\n",
    "if ad_mod_affy29.value: array_designs.add('A-AFFY-29')\n",
    "top_mods = AssayTopologyModifiers(technical_replicates=technical_replicates.value, array_designs=array_designs)\n",
    "print('Technical replicates: {}'.format(top_mods.technical_replicates))\n",
    "assay_type.topology_modifiers = top_mods\n",
    "plan.add_assay_type(assay_type)\n",
    "plan.add_assay_plan_record(rad_sample_type.value, assay_type)\n",
    "assay_plan = next(iter(plan.assay_plan))\n",
    "print('Added assay plan: {0} -> {1}/{2}'.format(assay_plan[0].value.term, assay_plan[1].measurement_type.term, assay_plan[1].technology_type.term))\n",
    "if len(top_mods.array_designs) > 0:\n",
    "    print('Array Designs: {}'.format(list(top_mods.array_designs)))"
   ]
  },
  {
   "cell_type": "markdown",
   "metadata": {},
   "source": [
    "## Generate ISA model objects from the assay plan and render the assay table"
   ]
  },
  {
   "cell_type": "code",
   "execution_count": 72,
   "metadata": {},
   "outputs": [
    {
     "name": "stdout",
     "output_type": "stream",
     "text": [
      "Assay generated: , 120 samples, 480 processes, 240 data files\n"
     ]
    },
    {
     "ename": "IsADirectoryError",
     "evalue": "[Errno 21] Is a directory: '/var/folders/8b/kpmqkjjd5h3gn_l9vfbd63j80000gn/T/tmp1gqkr_3p/'",
     "output_type": "error",
     "traceback": [
      "\u001b[0;31m---------------------------------------------------------------------------\u001b[0m",
      "\u001b[0;31mIsADirectoryError\u001b[0m                         Traceback (most recent call last)",
      "\u001b[0;32m<ipython-input-72-5d6195004cae>\u001b[0m in \u001b[0;36m<module>\u001b[0;34m()\u001b[0m\n\u001b[1;32m      3\u001b[0m     print('Assay generated: {0}, {1} samples, {2} processes, {3} data files'\n\u001b[1;32m      4\u001b[0m           .format(assay.filename, len(assay.samples), len(assay.process_sequence), len(assay.data_files)))\n\u001b[0;32m----> 5\u001b[0;31m \u001b[0mdataframes\u001b[0m \u001b[0;34m=\u001b[0m \u001b[0mdumpdf\u001b[0m\u001b[0;34m(\u001b[0m\u001b[0misa_investigation\u001b[0m\u001b[0;34m)\u001b[0m\u001b[0;34m\u001b[0m\u001b[0m\n\u001b[0m",
      "\u001b[0;32m~/PycharmProjects/isa-api/isatools/isatab.py\u001b[0m in \u001b[0;36mdump_tables_to_dataframes\u001b[0;34m(isa_obj)\u001b[0m\n\u001b[1;32m   2724\u001b[0m     \u001b[0;32mtry\u001b[0m\u001b[0;34m:\u001b[0m\u001b[0;34m\u001b[0m\u001b[0m\n\u001b[1;32m   2725\u001b[0m         \u001b[0mtmp\u001b[0m \u001b[0;34m=\u001b[0m \u001b[0mtempfile\u001b[0m\u001b[0;34m.\u001b[0m\u001b[0mmkdtemp\u001b[0m\u001b[0;34m(\u001b[0m\u001b[0;34m)\u001b[0m\u001b[0;34m\u001b[0m\u001b[0m\n\u001b[0;32m-> 2726\u001b[0;31m         \u001b[0mdump\u001b[0m\u001b[0;34m(\u001b[0m\u001b[0misa_obj\u001b[0m\u001b[0;34m=\u001b[0m\u001b[0misa_obj\u001b[0m\u001b[0;34m,\u001b[0m \u001b[0moutput_path\u001b[0m\u001b[0;34m=\u001b[0m\u001b[0mtmp\u001b[0m\u001b[0;34m,\u001b[0m \u001b[0mskip_dump_tables\u001b[0m\u001b[0;34m=\u001b[0m\u001b[0;32mFalse\u001b[0m\u001b[0;34m)\u001b[0m\u001b[0;34m\u001b[0m\u001b[0m\n\u001b[0m\u001b[1;32m   2727\u001b[0m         \u001b[0;32mfor\u001b[0m \u001b[0ms_file\u001b[0m \u001b[0;32min\u001b[0m \u001b[0mglob\u001b[0m\u001b[0;34m.\u001b[0m\u001b[0miglob\u001b[0m\u001b[0;34m(\u001b[0m\u001b[0mos\u001b[0m\u001b[0;34m.\u001b[0m\u001b[0mpath\u001b[0m\u001b[0;34m.\u001b[0m\u001b[0mjoin\u001b[0m\u001b[0;34m(\u001b[0m\u001b[0mtmp\u001b[0m\u001b[0;34m,\u001b[0m \u001b[0;34m's_*'\u001b[0m\u001b[0;34m)\u001b[0m\u001b[0;34m)\u001b[0m\u001b[0;34m:\u001b[0m\u001b[0;34m\u001b[0m\u001b[0m\n\u001b[1;32m   2728\u001b[0m             \u001b[0moutput\u001b[0m\u001b[0;34m[\u001b[0m\u001b[0mos\u001b[0m\u001b[0;34m.\u001b[0m\u001b[0mpath\u001b[0m\u001b[0;34m.\u001b[0m\u001b[0mbasename\u001b[0m\u001b[0;34m(\u001b[0m\u001b[0ms_file\u001b[0m\u001b[0;34m)\u001b[0m\u001b[0;34m]\u001b[0m \u001b[0;34m=\u001b[0m \u001b[0mread_tfile\u001b[0m\u001b[0;34m(\u001b[0m\u001b[0ms_file\u001b[0m\u001b[0;34m)\u001b[0m\u001b[0;34m\u001b[0m\u001b[0m\n",
      "\u001b[0;32m~/PycharmProjects/isa-api/isatools/isatab.py\u001b[0m in \u001b[0;36mdump\u001b[0;34m(isa_obj, output_path, i_file_name, skip_dump_tables)\u001b[0m\n\u001b[1;32m    434\u001b[0m     \u001b[0;32melse\u001b[0m\u001b[0;34m:\u001b[0m\u001b[0;34m\u001b[0m\u001b[0m\n\u001b[1;32m    435\u001b[0m         \u001b[0mwrite_study_table_files\u001b[0m\u001b[0;34m(\u001b[0m\u001b[0minvestigation\u001b[0m\u001b[0;34m,\u001b[0m \u001b[0moutput_path\u001b[0m\u001b[0;34m)\u001b[0m\u001b[0;34m\u001b[0m\u001b[0m\n\u001b[0;32m--> 436\u001b[0;31m         \u001b[0mwrite_assay_table_files\u001b[0m\u001b[0;34m(\u001b[0m\u001b[0minvestigation\u001b[0m\u001b[0;34m,\u001b[0m \u001b[0moutput_path\u001b[0m\u001b[0;34m)\u001b[0m\u001b[0;34m\u001b[0m\u001b[0m\n\u001b[0m\u001b[1;32m    437\u001b[0m \u001b[0;34m\u001b[0m\u001b[0m\n\u001b[1;32m    438\u001b[0m     \u001b[0mfp\u001b[0m\u001b[0;34m.\u001b[0m\u001b[0mclose\u001b[0m\u001b[0;34m(\u001b[0m\u001b[0;34m)\u001b[0m\u001b[0;34m\u001b[0m\u001b[0m\n",
      "\u001b[0;32m~/PycharmProjects/isa-api/isatools/isatab.py\u001b[0m in \u001b[0;36mwrite_assay_table_files\u001b[0;34m(inv_obj, output_dir)\u001b[0m\n\u001b[1;32m    858\u001b[0m             \u001b[0mDF\u001b[0m \u001b[0;34m=\u001b[0m \u001b[0mDF\u001b[0m\u001b[0;34m.\u001b[0m\u001b[0mdropna\u001b[0m\u001b[0;34m(\u001b[0m\u001b[0maxis\u001b[0m\u001b[0;34m=\u001b[0m\u001b[0;36m1\u001b[0m\u001b[0;34m,\u001b[0m \u001b[0mhow\u001b[0m\u001b[0;34m=\u001b[0m\u001b[0;34m'all'\u001b[0m\u001b[0;34m)\u001b[0m\u001b[0;34m\u001b[0m\u001b[0m\n\u001b[1;32m    859\u001b[0m \u001b[0;34m\u001b[0m\u001b[0m\n\u001b[0;32m--> 860\u001b[0;31m             \u001b[0;32mwith\u001b[0m \u001b[0mopen\u001b[0m\u001b[0;34m(\u001b[0m\u001b[0mos\u001b[0m\u001b[0;34m.\u001b[0m\u001b[0mpath\u001b[0m\u001b[0;34m.\u001b[0m\u001b[0mjoin\u001b[0m\u001b[0;34m(\u001b[0m\u001b[0moutput_dir\u001b[0m\u001b[0;34m,\u001b[0m \u001b[0massay_obj\u001b[0m\u001b[0;34m.\u001b[0m\u001b[0mfilename\u001b[0m\u001b[0;34m)\u001b[0m\u001b[0;34m,\u001b[0m \u001b[0;34m'w'\u001b[0m\u001b[0;34m)\u001b[0m \u001b[0;32mas\u001b[0m \u001b[0mout_fp\u001b[0m\u001b[0;34m:\u001b[0m\u001b[0;34m\u001b[0m\u001b[0m\n\u001b[0m\u001b[1;32m    861\u001b[0m                 \u001b[0mDF\u001b[0m\u001b[0;34m.\u001b[0m\u001b[0mto_csv\u001b[0m\u001b[0;34m(\u001b[0m\u001b[0mpath_or_buf\u001b[0m\u001b[0;34m=\u001b[0m\u001b[0mout_fp\u001b[0m\u001b[0;34m,\u001b[0m \u001b[0mindex\u001b[0m\u001b[0;34m=\u001b[0m\u001b[0;32mFalse\u001b[0m\u001b[0;34m,\u001b[0m \u001b[0msep\u001b[0m\u001b[0;34m=\u001b[0m\u001b[0;34m'\\t'\u001b[0m\u001b[0;34m,\u001b[0m \u001b[0mencoding\u001b[0m\u001b[0;34m=\u001b[0m\u001b[0;34m'utf-8'\u001b[0m\u001b[0;34m)\u001b[0m\u001b[0;34m\u001b[0m\u001b[0m\n\u001b[1;32m    862\u001b[0m \u001b[0;34m\u001b[0m\u001b[0m\n",
      "\u001b[0;31mIsADirectoryError\u001b[0m: [Errno 21] Is a directory: '/var/folders/8b/kpmqkjjd5h3gn_l9vfbd63j80000gn/T/tmp1gqkr_3p/'"
     ]
    }
   ],
   "source": [
    "isa_investigation.studies = [isa_object_factory.create_assays_from_plan_dna_micro()]\n",
    "for assay in isa_investigation.studies[-1].assays:\n",
    "    print('Assay generated: {0}, {1} samples, {2} processes, {3} data files'\n",
    "          .format(assay.filename, len(assay.samples), len(assay.process_sequence), len(assay.data_files)))\n",
    "dataframes = dumpdf(isa_investigation)"
   ]
  },
  {
   "cell_type": "code",
   "execution_count": null,
   "metadata": {},
   "outputs": [],
   "source": [
    "show_grid(dataframes[list(dataframes.keys())[-1]])"
   ]
  },
  {
   "cell_type": "code",
   "execution_count": null,
   "metadata": {
    "collapsed": true
   },
   "outputs": [],
   "source": []
  }
 ],
 "metadata": {
  "kernelspec": {
   "display_name": "Python 3",
   "language": "python",
   "name": "python3"
  },
  "language_info": {
   "codemirror_mode": {
    "name": "ipython",
    "version": 3
   },
   "file_extension": ".py",
   "mimetype": "text/x-python",
   "name": "python",
   "nbconvert_exporter": "python",
   "pygments_lexer": "ipython3",
   "version": "3.5.0"
  }
 },
 "nbformat": 4,
 "nbformat_minor": 1
}
