{
 "cells": [
  {
   "cell_type": "code",
   "execution_count": null,
   "metadata": {
    "collapsed": true
   },
   "outputs": [],
   "source": [
    "from isatools.model import *"
   ]
  },
  {
   "cell_type": "markdown",
   "metadata": {},
   "source": [
    "# Create a simple ISA descriptor\n",
    "\n",
    "This example creates metadata for a single study ISA descriptor, and shows how to dump the ISA Model content to ISA-Tab and ISA-JSON."
   ]
  },
  {
   "cell_type": "markdown",
   "metadata": {},
   "source": [
    "## Study metadata"
   ]
  },
  {
   "cell_type": "code",
   "execution_count": null,
   "metadata": {},
   "outputs": [],
   "source": [
    "from ipywidgets import RadioButtons, VBox, HBox, Layout, Label, Text, Textarea, DatePicker\n",
    "import datetime\n",
    "identifier = Text(\n",
    "        value='S1',\n",
    "        placeholder='e.g. S1',\n",
    "        description='Identifier:',\n",
    "        disabled=False\n",
    "    )\n",
    "title = Text(\n",
    "        value='My Simple ISA Study',\n",
    "        placeholder='e.g. My Study title',\n",
    "        description='Title:',\n",
    "        disabled=False\n",
    "    )\n",
    "description = Textarea(\n",
    "    value=\"We could alternatively use the class constructor's parameters to set some default \" \\\n",
    "          \"values at the time of creation, however we want to demonstrate how to use the \" \\\n",
    "          \"object's instance variables to set values.\",\n",
    "    placeholder='Type something',\n",
    "    description='Description:',\n",
    "    disabled=False\n",
    ")\n",
    "sub_date = DatePicker(description=\"Submission date:\", value=datetime.datetime.today())\n",
    "release_date = DatePicker(description=\"Public release date:\", value=datetime.datetime.today())\n",
    "VBox([identifier,\n",
    "      title,\n",
    "      description,\n",
    "      sub_date,\n",
    "      release_date])"
   ]
  },
  {
   "cell_type": "code",
   "execution_count": null,
   "metadata": {},
   "outputs": [],
   "source": [
    "investigation = Investigation()\n",
    "study = Study(filename=\"s_study.txt\")\n",
    "study.identifier = identifier.value\n",
    "study.title = title.value\n",
    "study.description = description.value\n",
    "study.submission_date = str(sub_date.value)\n",
    "study.public_release_date = str(release_date.value)\n",
    "study.sources = [Source(name=\"source1\")]\n",
    "study.samples = [Sample(name=\"sample1\")]\n",
    "study.protocols = [Protocol(name=\"sample collection\")]\n",
    "study.process_sequence = [Process(executes_protocol=study.protocols[-1], inputs=[study.sources[-1]], outputs=[study.samples[-1]])]\n",
    "investigation.studies = [study]\n",
    "investigation"
   ]
  },
  {
   "cell_type": "code",
   "execution_count": null,
   "metadata": {},
   "outputs": [],
   "source": [
    "from isatools.isatab import dumps\n",
    "print(dumps(investigation))"
   ]
  },
  {
   "cell_type": "code",
   "execution_count": null,
   "metadata": {},
   "outputs": [],
   "source": [
    "import json\n",
    "from isatools.isajson import ISAJSONEncoder\n",
    "print(json.dumps(investigation, cls=ISAJSONEncoder, sort_keys=True, indent=4, separators=(',', ': ')))"
   ]
  },
  {
   "cell_type": "code",
   "execution_count": null,
   "metadata": {
    "collapsed": true
   },
   "outputs": [],
   "source": []
  }
 ],
 "metadata": {
  "kernelspec": {
   "display_name": "Python 3",
   "language": "python",
   "name": "python3"
  },
  "language_info": {
   "codemirror_mode": {
    "name": "ipython",
    "version": 3
   },
   "file_extension": ".py",
   "mimetype": "text/x-python",
   "name": "python",
   "nbconvert_exporter": "python",
   "pygments_lexer": "ipython3",
   "version": "3.5.0"
  },
  "widgets": {
   "state": {
    "7baa9c5f45bb4458984ca0e09a629029": {
     "views": [
      {
       "cell_index": 1
      }
     ]
    }
   },
   "version": "1.2.0"
  }
 },
 "nbformat": 4,
 "nbformat_minor": 1
}
