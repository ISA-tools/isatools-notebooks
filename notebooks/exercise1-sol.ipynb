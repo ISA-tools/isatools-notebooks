{
 "cells": [
  {
   "cell_type": "markdown",
   "metadata": {},
   "source": [
    "# Chemical Intervention on Rat\n",
    "\n",
    "This notebook is an exercise relying on the ISA-API functionality for building an experiment description based on the experimental design.\n",
    "\n",
    "### Objectives\n",
    "- Identify concepts from the experimental design\n",
    "- Represent the experimental design concepts using the ISA-API model  \n",
    "- Produce ISA metadata for the experiment\n",
    "\n",
    "### References\n",
    "- [Documentation about the ISA-API](https://isatools.readthedocs.io), and more specifically:\n",
    "    - [documentation about study-design driven creation of ISA content](https://isatools.readthedocs.io/en/latest/studydesigncreation.html)\n",
    "    - [documentation of main ISA objects](https://isatools.readthedocs.io/en/latest/creation.html#)\n"
   ]
  },
  {
   "cell_type": "markdown",
   "metadata": {},
   "source": [
    "# Part 1\n",
    "\n",
    "Read the following description of tan experiment and follow the steps below to identify the main elements from the experimental design.\n",
    "\n",
    "\n",
    "Experiment Narrative:\n",
    "---------------------\n",
    "\n",
    "*Male Fisher F344 rats* purchased from Charles River were treated with **3 commonly used painkillers**, namely **acetylsalicilic acid, acetaminophen and ibuprofen**, at **2 distinct dose levels**, delivered *per os*.\n",
    "\n",
    "Equal number of animals (n=5) were allocated to each of the group defined by a **compound, dose level and duration post exposure** (of 1 hour, 2 hours and 4 hours) combination.*\n",
    "\n",
    "Following sacrifice performed by cervical dislocation and exsanguination preceded by anesthesia (ketamine and xylazine solution), *blood and kidney specimens were collected*.\n",
    "Total RNA were extracted from Kidney samples and mRNA sequencing (**transcription profiling**) was performed using paired-end libraries on **Illumina sequencing platform** using an **Illumina HiSeq 2000 instrument**.\n",
    "\n",
    "**Blood samples** were collected at sacrifice time and immediately placed in precooled 60 percent methanol ammonium bicarbonate buffer to quench cellular metabolism. Blood Metabolites were separated in water-soluble and lipophilic fractions. \n",
    "**Metabolite profiling** was performed on the polar metabolite fraction only, using **flow injection analysis (FIA) mass spectrometry** on an **Agilent 6550 iFunnel Q-TOF Mass Sprectrometry platform**. Each fraction was injected twice and data were acquired in both ionization modes (positive mode and negative mode).\n",
    "Raw data files were saved in native instrument format and later converted to HUPO-PSI standard format for mass spectrometry.\n"
   ]
  },
  {
   "cell_type": "markdown",
   "metadata": {},
   "source": [
    "## Experimental description with structured metadata\n",
    "\n",
    "In order to describe the experiment, we will rely on the models defined by the ISA-API, and thus we need to following import statements:"
   ]
  },
  {
   "cell_type": "code",
   "execution_count": 1,
   "metadata": {
    "collapsed": true
   },
   "outputs": [],
   "source": [
    "from isatools.create.models import *\n",
    "from isatools.model import *"
   ]
  },
  {
   "cell_type": "markdown",
   "metadata": {},
   "source": [
    "## Identification of Variables, their levels and definition of the Treatment Plans"
   ]
  },
  {
   "cell_type": "markdown",
   "metadata": {},
   "source": [
    "In the context of the above experiment, ** can you identify the independent variables and their associated levels**?.\n",
    "\n",
    "You can define a new variable by relying in the ```StudyFactor``` object in this way:\n",
    "\n",
    "```python\n",
    "chemical_agent = StudyFactor(name=\"chemical agent\")\n",
    "\n",
    "```\n",
    "or if you want to add the ontology term for such study factor, you can use the [EBI Ontology Lookup Service](https://www.ebi.ac.uk/ols/) to find a relevant term from the ChEBI ontology, and build the factor in this way:\n",
    "    \n",
    "```python\n",
    "chemical_agent = StudyFactor(name=\"agent\", factor_type=OntologyAnnotation(term=\"chemical entity\", term_source=\"ChEBI\", term_accession=\"http://purl.obolibrary.org/obo/CHEBI_24431\"))\n",
    "```    \n",
    "\n",
    "Define the relevant ```StudyFactor```'s below and see if you can find ontology terms that are relevant to annotate them (e.g. you can try and find terms from the Experimental Factor Ontology or EFO):\n"
   ]
  },
  {
   "cell_type": "code",
   "execution_count": 2,
   "metadata": {
    "collapsed": true
   },
   "outputs": [],
   "source": [
    "### HERE YOUR ANSWER\n",
    "\n",
    "chemical_agent = StudyFactor(name=\"agent\", \n",
    "                             factor_type=OntologyAnnotation(\n",
    "                                    term=\"chemical entity\", \n",
    "                                    term_source=\"ChEBI\", \n",
    "                                    term_accession=\"http://purl.obolibrary.org/obo/CHEBI_24431\"))"
   ]
  },
  {
   "cell_type": "code",
   "execution_count": 3,
   "metadata": {
    "collapsed": true
   },
   "outputs": [],
   "source": [
    "### ANSWER\n",
    "\n",
    "chemical_agent = StudyFactor(name=\"agent\", factor_type=OntologyAnnotation(term=\"chemical entity\", term_source=\"ChEBI\", term_accession=\"http://purl.obolibrary.org/obo/CHEBI_24431\"))\n",
    "dose = StudyFactor(name=\"dose\", factor_type=OntologyAnnotation(term=\"dose\", term_source=\"EFO\", term_accession=\"http://www.ebi.ac.uk/efo/EFO_0000428\"))\n",
    "duration = StudyFactor(name=\"duration\", factor_type=OntologyAnnotation(term=\"duration\", term_source=\"EFO\", term_accession=\"http://www.ebi.ac.uk/efo/EFO_0000433\"))\n"
   ]
  },
  {
   "cell_type": "markdown",
   "metadata": {},
   "source": [
    "Next, we can use a ```TreatmentFactory``` to include the ```StudyFactor```'s and indicate their different factor levels, i.e. the values that these variables will assume according to the experiment description above.\n",
    "\n",
    "You should create the treatment factory providing the different study factors:\n",
    "\n",
    "```python\n",
    "treatment_factory = TreatmentFactory(factors=[ ... here list the variables...])\n",
    "\n",
    "```\n",
    "and then for each factor, you can add their levels in the following way:\n",
    "\n",
    "```python\n",
    "treatment_factory.add_factor_value( ... factor variable ..., { ... list of strings with the names of the factor values... }\n",
    "```\n"
   ]
  },
  {
   "cell_type": "code",
   "execution_count": 4,
   "metadata": {
    "collapsed": true
   },
   "outputs": [],
   "source": [
    "### HERE YOUR ANSWER\n",
    "\n",
    "treatment_factory = TreatmentFactory(factors=[chemical_agent])\n",
    "treatment_factory.add_factor_value(chemical_agent, {'value 1', 'etc.'})"
   ]
  },
  {
   "cell_type": "code",
   "execution_count": 5,
   "metadata": {
    "collapsed": true
   },
   "outputs": [],
   "source": [
    "### ANSWER\n",
    "\n",
    "treatment_factory = TreatmentFactory(factors=[chemical_agent, dose, duration])\n",
    "\n",
    "treatment_factory.add_factor_value(chemical_agent, {'acetyl salicylic acid', 'acetaminophen', 'ibuprofen'})\n",
    "treatment_factory.add_factor_value(dose, {'high dose', 'low dose'})\n",
    "treatment_factory.add_factor_value(duration, {'1 hr', '2 hr', '4 hr'})\n"
   ]
  },
  {
   "cell_type": "markdown",
   "metadata": {},
   "source": [
    "### Computing the Number of Unique Treatment Groups/Study Groups: \n"
   ]
  },
  {
   "cell_type": "markdown",
   "metadata": {},
   "source": [
    "As per the description above, the experiment follows a factorial design where all combinations of factor values are considered. We can build our treatment plan, or ```TreatmentSequence```, by relying on an utilty method that given the factors and their levels computes the full factorial design:\n",
    "\n"
   ]
  },
  {
   "cell_type": "code",
   "execution_count": 6,
   "metadata": {
    "collapsed": true
   },
   "outputs": [],
   "source": [
    "all_treatments = treatment_factory.compute_full_factorial_design()"
   ]
  },
  {
   "cell_type": "markdown",
   "metadata": {},
   "source": [
    "How many treatment groups should have been identified? Check the number you considered matches with the answer of running the command below:"
   ]
  },
  {
   "cell_type": "code",
   "execution_count": 7,
   "metadata": {},
   "outputs": [
    {
     "name": "stdout",
     "output_type": "stream",
     "text": [
      "Number of study groups (treatment groups): 18\n"
     ]
    }
   ],
   "source": [
    "print('Number of study groups (treatment groups): {}'.format(len(all_treatments)))"
   ]
  },
  {
   "cell_type": "markdown",
   "metadata": {},
   "source": [
    "We can now build a treatment plan, or ```TreatmentSequence```, by including all the treatments according to the factorial design:"
   ]
  },
  {
   "cell_type": "code",
   "execution_count": 8,
   "metadata": {
    "collapsed": true
   },
   "outputs": [],
   "source": [
    "treatment_sequence = TreatmentSequence(ranked_treatments=all_treatments)"
   ]
  },
  {
   "cell_type": "markdown",
   "metadata": {},
   "source": [
    "Are study subjects exposed to a single intervention or to multiple intervention?\n",
    "  \n"
   ]
  },
  {
   "cell_type": "markdown",
   "metadata": {},
   "source": [
    "You can now visualise a summary of the treatment plan that you created with the following command:"
   ]
  },
  {
   "cell_type": "code",
   "execution_count": 9,
   "metadata": {},
   "outputs": [
    {
     "data": {
      "text/plain": [
       "{'full_factorial': True,\n",
       " 'length_of_treatment_sequence': 1,\n",
       " 'list_of_treatments': [[{'factor': 'agent', 'value': 'acetaminophen'},\n",
       "   {'factor': 'dose', 'value': 'low dose'},\n",
       "   {'factor': 'duration', 'value': '2 hr'}],\n",
       "  [{'factor': 'agent', 'value': 'acetaminophen'},\n",
       "   {'factor': 'dose', 'value': 'high dose'},\n",
       "   {'factor': 'duration', 'value': '1 hr'}],\n",
       "  [{'factor': 'agent', 'value': 'ibuprofen'},\n",
       "   {'factor': 'dose', 'value': 'high dose'},\n",
       "   {'factor': 'duration', 'value': '2 hr'}],\n",
       "  [{'factor': 'agent', 'value': 'acetyl salicylic acid'},\n",
       "   {'factor': 'dose', 'value': 'high dose'},\n",
       "   {'factor': 'duration', 'value': '4 hr'}],\n",
       "  [{'factor': 'agent', 'value': 'acetaminophen'},\n",
       "   {'factor': 'dose', 'value': 'low dose'},\n",
       "   {'factor': 'duration', 'value': '4 hr'}],\n",
       "  [{'factor': 'agent', 'value': 'ibuprofen'},\n",
       "   {'factor': 'dose', 'value': 'low dose'},\n",
       "   {'factor': 'duration', 'value': '2 hr'}],\n",
       "  [{'factor': 'agent', 'value': 'acetyl salicylic acid'},\n",
       "   {'factor': 'dose', 'value': 'low dose'},\n",
       "   {'factor': 'duration', 'value': '4 hr'}],\n",
       "  [{'factor': 'agent', 'value': 'acetyl salicylic acid'},\n",
       "   {'factor': 'dose', 'value': 'high dose'},\n",
       "   {'factor': 'duration', 'value': '2 hr'}],\n",
       "  [{'factor': 'agent', 'value': 'ibuprofen'},\n",
       "   {'factor': 'dose', 'value': 'high dose'},\n",
       "   {'factor': 'duration', 'value': '1 hr'}],\n",
       "  [{'factor': 'agent', 'value': 'acetaminophen'},\n",
       "   {'factor': 'dose', 'value': 'high dose'},\n",
       "   {'factor': 'duration', 'value': '4 hr'}],\n",
       "  [{'factor': 'agent', 'value': 'acetyl salicylic acid'},\n",
       "   {'factor': 'dose', 'value': 'high dose'},\n",
       "   {'factor': 'duration', 'value': '1 hr'}],\n",
       "  [{'factor': 'agent', 'value': 'ibuprofen'},\n",
       "   {'factor': 'dose', 'value': 'high dose'},\n",
       "   {'factor': 'duration', 'value': '4 hr'}],\n",
       "  [{'factor': 'agent', 'value': 'acetaminophen'},\n",
       "   {'factor': 'dose', 'value': 'low dose'},\n",
       "   {'factor': 'duration', 'value': '1 hr'}],\n",
       "  [{'factor': 'agent', 'value': 'ibuprofen'},\n",
       "   {'factor': 'dose', 'value': 'low dose'},\n",
       "   {'factor': 'duration', 'value': '4 hr'}],\n",
       "  [{'factor': 'agent', 'value': 'ibuprofen'},\n",
       "   {'factor': 'dose', 'value': 'low dose'},\n",
       "   {'factor': 'duration', 'value': '1 hr'}],\n",
       "  [{'factor': 'agent', 'value': 'acetaminophen'},\n",
       "   {'factor': 'dose', 'value': 'high dose'},\n",
       "   {'factor': 'duration', 'value': '2 hr'}],\n",
       "  [{'factor': 'agent', 'value': 'acetyl salicylic acid'},\n",
       "   {'factor': 'dose', 'value': 'low dose'},\n",
       "   {'factor': 'duration', 'value': '2 hr'}],\n",
       "  [{'factor': 'agent', 'value': 'acetyl salicylic acid'},\n",
       "   {'factor': 'dose', 'value': 'low dose'},\n",
       "   {'factor': 'duration', 'value': '1 hr'}]],\n",
       " 'number_of_factor_levels_per_factor': {'agent': ['acetaminophen',\n",
       "   'acetyl salicylic acid',\n",
       "   'ibuprofen'],\n",
       "  'dose': ['low dose', 'high dose'],\n",
       "  'duration': ['4 hr', '2 hr', '1 hr']},\n",
       " 'number_of_factors': 3,\n",
       " 'number_of_treatment': 18,\n",
       " 'number_of_treatments': 18}"
      ]
     },
     "execution_count": 9,
     "metadata": {},
     "output_type": "execute_result"
    }
   ],
   "source": [
    "report = make_summary_from_treatment_sequence(treatment_sequence)\n",
    "report"
   ]
  },
  {
   "cell_type": "markdown",
   "metadata": {},
   "source": [
    "Is the treatment plan report in agreement with the experimental design?"
   ]
  },
  {
   "cell_type": "markdown",
   "metadata": {},
   "source": [
    "### Study group size"
   ]
  },
  {
   "cell_type": "markdown",
   "metadata": {},
   "source": [
    "The following code builds a slider (relying on the ```ipywidgets``` library) for you to set the group size, please select the appropriate number according to the experiment description:"
   ]
  },
  {
   "cell_type": "code",
   "execution_count": 10,
   "metadata": {},
   "outputs": [
    {
     "data": {
      "application/vnd.jupyter.widget-view+json": {
       "model_id": "d4d7e90a3bf944f4bd774d9140dc1fdd"
      }
     },
     "metadata": {},
     "output_type": "display_data"
    }
   ],
   "source": [
    "from ipywidgets import (IntSlider)\n",
    "group_size = IntSlider(value=1, min=0, max=100, step=1, description='Group size:', disabled=False, continuous_update=False, orientation='horizontal', readout=True, readout_format='d')\n",
    "group_size\n"
   ]
  },
  {
   "cell_type": "code",
   "execution_count": 11,
   "metadata": {
    "collapsed": true
   },
   "outputs": [],
   "source": [
    "### ANSWER\n",
    "group_size.value = 5"
   ]
  },
  {
   "cell_type": "markdown",
   "metadata": {},
   "source": [
    "The group size value you chose, and that is going to be used in the next section, is:"
   ]
  },
  {
   "cell_type": "code",
   "execution_count": 12,
   "metadata": {},
   "outputs": [
    {
     "data": {
      "text/plain": [
       "5"
      ]
     },
     "execution_count": 12,
     "metadata": {},
     "output_type": "execute_result"
    }
   ],
   "source": [
    "group_size.value"
   ]
  },
  {
   "cell_type": "markdown",
   "metadata": {},
   "source": [
    "## Sample collection and assay plans"
   ]
  },
  {
   "cell_type": "markdown",
   "metadata": {},
   "source": [
    "Given the group size selected above, we are now going to build the sample collection and assay plans based on the group size. Given this, can you say if the design is balanced or unbalanced?"
   ]
  },
  {
   "cell_type": "code",
   "execution_count": 13,
   "metadata": {
    "collapsed": true
   },
   "outputs": [],
   "source": [
    "plan = SampleAssayPlan(group_size=group_size.value)"
   ]
  },
  {
   "cell_type": "markdown",
   "metadata": {},
   "source": [
    "Let's now build a ```dictionary``` with the sample collection plan: it should contain key:value pairs with the specimen or sample type as key and the number of samples collected for each type over the course of the study. Here is the code snippet that you should complete:\n",
    "\n",
    "```python\n",
    "sample_collection_plan = { \"sample type 1\": 2, \"sample type 2\": 1 }\n",
    "```\n"
   ]
  },
  {
   "cell_type": "code",
   "execution_count": 14,
   "metadata": {
    "collapsed": true
   },
   "outputs": [],
   "source": [
    "### HERE YOUR ANSWER\n",
    "\n",
    "sample_collection_plan = { \"sample type 1\": 2, \"sample type 2\": 1 }\n"
   ]
  },
  {
   "cell_type": "code",
   "execution_count": 15,
   "metadata": {
    "collapsed": true
   },
   "outputs": [],
   "source": [
    "### ANSWER\n",
    "sample_collection_plan = {\"kidney\":1, \"blood\":1} \n"
   ]
  },
  {
   "cell_type": "markdown",
   "metadata": {},
   "source": [
    "Next, the following code will take the sample_collection_plan object that you built and include all the details in the sample_collection_plan object:"
   ]
  },
  {
   "cell_type": "code",
   "execution_count": 16,
   "metadata": {
    "collapsed": true
   },
   "outputs": [],
   "source": [
    "for sample_type in sample_collection_plan:    \n",
    "    plan.add_sample_type(sample_type)\n",
    "    plan.add_sample_plan_record(sample_type,sample_collection_plan[sample_type])\n"
   ]
  },
  {
   "cell_type": "markdown",
   "metadata": {},
   "source": [
    "### View the sample and assay plan information as a JSON document\n",
    "\n",
    "This section is meant to show how to serialize key study design descriptors in a compact document serialized in format format. \n",
    "Why is this relevant? How would you use this feature? List 3 possible uses."
   ]
  },
  {
   "cell_type": "code",
   "execution_count": 17,
   "metadata": {
    "scrolled": true
   },
   "outputs": [
    {
     "name": "stdout",
     "output_type": "stream",
     "text": [
      "{\n",
      "    \"assay_plan\": [],\n",
      "    \"assay_types\": [],\n",
      "    \"group_size\": 5,\n",
      "    \"sample_plan\": [\n",
      "        {\n",
      "            \"sample_type\": \"kidney\",\n",
      "            \"sampling_size\": 1\n",
      "        },\n",
      "        {\n",
      "            \"sample_type\": \"blood\",\n",
      "            \"sampling_size\": 1\n",
      "        }\n",
      "    ],\n",
      "    \"sample_qc_plan\": [],\n",
      "    \"sample_types\": [\n",
      "        \"blood\",\n",
      "        \"kidney\"\n",
      "    ]\n",
      "}\n"
     ]
    }
   ],
   "source": [
    "import json\n",
    "from isatools.create.models import SampleAssayPlanEncoder\n",
    "print(json.dumps(plan, cls=SampleAssayPlanEncoder, sort_keys=True, indent=4, separators=(',', ': ')))"
   ]
  },
  {
   "cell_type": "markdown",
   "metadata": {},
   "source": [
    "## Create an ISA experimental description based on the study design and the sampling plan:\n",
    "\n",
    "In the following section, the task is to build ISA objects relying on the study design information we built above.\n"
   ]
  },
  {
   "cell_type": "markdown",
   "metadata": {},
   "source": [
    "Let's first create an ```Investigation``` object to hold all the information about the experiment with this command, which also assigns an identifier for the investigation."
   ]
  },
  {
   "cell_type": "code",
   "execution_count": 18,
   "metadata": {
    "collapsed": true
   },
   "outputs": [],
   "source": [
    "isa_investigation = Investigation(identifier='inv-dtp-exercise')"
   ]
  },
  {
   "cell_type": "markdown",
   "metadata": {},
   "source": [
    "Now, let's create a study object using the sample and assay plan as well as the ```TreatmentSequence``` object we built before. For this, we will need an object of the ```IsaModelObjectFactory``` class provided in the ISA-API:"
   ]
  },
  {
   "cell_type": "code",
   "execution_count": 19,
   "metadata": {
    "collapsed": true
   },
   "outputs": [],
   "source": [
    "isa_object_factory = IsaModelObjectFactory(plan, treatment_sequence)\n",
    "isa_study = isa_object_factory.create_study_from_plan()"
   ]
  },
  {
   "cell_type": "markdown",
   "metadata": {},
   "source": [
    "Now, we can link the study to the investigation we created before:"
   ]
  },
  {
   "cell_type": "code",
   "execution_count": 20,
   "metadata": {
    "collapsed": true
   },
   "outputs": [],
   "source": [
    "isa_investigation.studies = [isa_study]\n"
   ]
  },
  {
   "cell_type": "markdown",
   "metadata": {},
   "source": [
    "and set a name for the study file:"
   ]
  },
  {
   "cell_type": "code",
   "execution_count": 21,
   "metadata": {
    "collapsed": true
   },
   "outputs": [],
   "source": [
    "### HERE YOUR ANSWER\n",
    "\n",
    "isa_study.filename = '... complete here a filename for the study file...'"
   ]
  },
  {
   "cell_type": "code",
   "execution_count": 22,
   "metadata": {
    "collapsed": true
   },
   "outputs": [],
   "source": [
    "## ANSWER\n",
    "\n",
    "isa_study.filename = 's_study.txt'"
   ]
  },
  {
   "cell_type": "markdown",
   "metadata": {},
   "source": [
    "Let's now check the study sample table:"
   ]
  },
  {
   "cell_type": "code",
   "execution_count": 23,
   "metadata": {
    "collapsed": true
   },
   "outputs": [],
   "source": [
    "from isatools.isatab import dump_tables_to_dataframes as dumpdf\n",
    "from qgrid import show_grid\n",
    "\n",
    "dataframes = dumpdf(isa_investigation)\n",
    "try:\n",
    "    sample_table = next(iter(dataframes.values()))\n",
    "    show_grid(sample_table)\n",
    "except StopIteration:\n",
    "    print(\"Need more details to print table\")"
   ]
  },
  {
   "cell_type": "code",
   "execution_count": 66,
   "metadata": {},
   "outputs": [
    {
     "data": {
      "text/html": [
       "<div>\n",
       "<style>\n",
       "    .dataframe thead tr:only-child th {\n",
       "        text-align: right;\n",
       "    }\n",
       "\n",
       "    .dataframe thead th {\n",
       "        text-align: left;\n",
       "    }\n",
       "\n",
       "    .dataframe tbody tr th {\n",
       "        vertical-align: top;\n",
       "    }\n",
       "</style>\n",
       "<table border=\"1\" class=\"dataframe\">\n",
       "  <thead>\n",
       "    <tr style=\"text-align: right;\">\n",
       "      <th></th>\n",
       "      <th>Source Name</th>\n",
       "      <th>Material Type</th>\n",
       "      <th>Protocol REF</th>\n",
       "      <th>Date</th>\n",
       "      <th>Performer</th>\n",
       "      <th>Parameter Value[Run Order]</th>\n",
       "      <th>Sample Name</th>\n",
       "      <th>Characteristics[organism part]</th>\n",
       "      <th>Characteristics[collection_event_rank_characteristic]</th>\n",
       "      <th>Factor Value[agent]</th>\n",
       "      <th>Factor Value[dose]</th>\n",
       "      <th>Factor Value[duration]</th>\n",
       "    </tr>\n",
       "  </thead>\n",
       "  <tbody>\n",
       "    <tr>\n",
       "      <th>0</th>\n",
       "      <td>studygroup_2bac7e7f-cfe3-4321-b71b-1b3e00515a3...</td>\n",
       "      <td>specimen</td>\n",
       "      <td>sample collection</td>\n",
       "      <td>2017-12-20</td>\n",
       "      <td>Alice</td>\n",
       "      <td>32</td>\n",
       "      <td>studygroup_2bac7e7f-cfe3-4321-b71b-1b3e00515a3...</td>\n",
       "      <td>blood</td>\n",
       "      <td>1</td>\n",
       "      <td>ibuprofen</td>\n",
       "      <td>low dose</td>\n",
       "      <td>4 hr</td>\n",
       "    </tr>\n",
       "    <tr>\n",
       "      <th>1</th>\n",
       "      <td>studygroup_2bac7e7f-cfe3-4321-b71b-1b3e00515a3...</td>\n",
       "      <td>specimen</td>\n",
       "      <td>sample collection</td>\n",
       "      <td>2017-12-20</td>\n",
       "      <td>Alice</td>\n",
       "      <td>31</td>\n",
       "      <td>studygroup_2bac7e7f-cfe3-4321-b71b-1b3e00515a3...</td>\n",
       "      <td>kidney</td>\n",
       "      <td>1</td>\n",
       "      <td>ibuprofen</td>\n",
       "      <td>low dose</td>\n",
       "      <td>4 hr</td>\n",
       "    </tr>\n",
       "    <tr>\n",
       "      <th>2</th>\n",
       "      <td>studygroup_2bac7e7f-cfe3-4321-b71b-1b3e00515a3...</td>\n",
       "      <td>specimen</td>\n",
       "      <td>sample collection</td>\n",
       "      <td>2017-12-20</td>\n",
       "      <td>Alice</td>\n",
       "      <td>33</td>\n",
       "      <td>studygroup_2bac7e7f-cfe3-4321-b71b-1b3e00515a3...</td>\n",
       "      <td>kidney</td>\n",
       "      <td>1</td>\n",
       "      <td>ibuprofen</td>\n",
       "      <td>low dose</td>\n",
       "      <td>4 hr</td>\n",
       "    </tr>\n",
       "    <tr>\n",
       "      <th>3</th>\n",
       "      <td>studygroup_2bac7e7f-cfe3-4321-b71b-1b3e00515a3...</td>\n",
       "      <td>specimen</td>\n",
       "      <td>sample collection</td>\n",
       "      <td>2017-12-20</td>\n",
       "      <td>Alice</td>\n",
       "      <td>34</td>\n",
       "      <td>studygroup_2bac7e7f-cfe3-4321-b71b-1b3e00515a3...</td>\n",
       "      <td>blood</td>\n",
       "      <td>1</td>\n",
       "      <td>ibuprofen</td>\n",
       "      <td>low dose</td>\n",
       "      <td>4 hr</td>\n",
       "    </tr>\n",
       "    <tr>\n",
       "      <th>4</th>\n",
       "      <td>studygroup_2bac7e7f-cfe3-4321-b71b-1b3e00515a3...</td>\n",
       "      <td>specimen</td>\n",
       "      <td>sample collection</td>\n",
       "      <td>2017-12-20</td>\n",
       "      <td>Alice</td>\n",
       "      <td>36</td>\n",
       "      <td>studygroup_2bac7e7f-cfe3-4321-b71b-1b3e00515a3...</td>\n",
       "      <td>blood</td>\n",
       "      <td>1</td>\n",
       "      <td>ibuprofen</td>\n",
       "      <td>low dose</td>\n",
       "      <td>4 hr</td>\n",
       "    </tr>\n",
       "    <tr>\n",
       "      <th>5</th>\n",
       "      <td>studygroup_2bac7e7f-cfe3-4321-b71b-1b3e00515a3...</td>\n",
       "      <td>specimen</td>\n",
       "      <td>sample collection</td>\n",
       "      <td>2017-12-20</td>\n",
       "      <td>Alice</td>\n",
       "      <td>35</td>\n",
       "      <td>studygroup_2bac7e7f-cfe3-4321-b71b-1b3e00515a3...</td>\n",
       "      <td>kidney</td>\n",
       "      <td>1</td>\n",
       "      <td>ibuprofen</td>\n",
       "      <td>low dose</td>\n",
       "      <td>4 hr</td>\n",
       "    </tr>\n",
       "    <tr>\n",
       "      <th>6</th>\n",
       "      <td>studygroup_2bac7e7f-cfe3-4321-b71b-1b3e00515a3...</td>\n",
       "      <td>specimen</td>\n",
       "      <td>sample collection</td>\n",
       "      <td>2017-12-20</td>\n",
       "      <td>Alice</td>\n",
       "      <td>38</td>\n",
       "      <td>studygroup_2bac7e7f-cfe3-4321-b71b-1b3e00515a3...</td>\n",
       "      <td>blood</td>\n",
       "      <td>1</td>\n",
       "      <td>ibuprofen</td>\n",
       "      <td>low dose</td>\n",
       "      <td>4 hr</td>\n",
       "    </tr>\n",
       "    <tr>\n",
       "      <th>7</th>\n",
       "      <td>studygroup_2bac7e7f-cfe3-4321-b71b-1b3e00515a3...</td>\n",
       "      <td>specimen</td>\n",
       "      <td>sample collection</td>\n",
       "      <td>2017-12-20</td>\n",
       "      <td>Alice</td>\n",
       "      <td>37</td>\n",
       "      <td>studygroup_2bac7e7f-cfe3-4321-b71b-1b3e00515a3...</td>\n",
       "      <td>kidney</td>\n",
       "      <td>1</td>\n",
       "      <td>ibuprofen</td>\n",
       "      <td>low dose</td>\n",
       "      <td>4 hr</td>\n",
       "    </tr>\n",
       "    <tr>\n",
       "      <th>8</th>\n",
       "      <td>studygroup_2bac7e7f-cfe3-4321-b71b-1b3e00515a3...</td>\n",
       "      <td>specimen</td>\n",
       "      <td>sample collection</td>\n",
       "      <td>2017-12-20</td>\n",
       "      <td>Alice</td>\n",
       "      <td>39</td>\n",
       "      <td>studygroup_2bac7e7f-cfe3-4321-b71b-1b3e00515a3...</td>\n",
       "      <td>kidney</td>\n",
       "      <td>1</td>\n",
       "      <td>ibuprofen</td>\n",
       "      <td>low dose</td>\n",
       "      <td>4 hr</td>\n",
       "    </tr>\n",
       "    <tr>\n",
       "      <th>9</th>\n",
       "      <td>studygroup_2bac7e7f-cfe3-4321-b71b-1b3e00515a3...</td>\n",
       "      <td>specimen</td>\n",
       "      <td>sample collection</td>\n",
       "      <td>2017-12-20</td>\n",
       "      <td>Alice</td>\n",
       "      <td>40</td>\n",
       "      <td>studygroup_2bac7e7f-cfe3-4321-b71b-1b3e00515a3...</td>\n",
       "      <td>blood</td>\n",
       "      <td>1</td>\n",
       "      <td>ibuprofen</td>\n",
       "      <td>low dose</td>\n",
       "      <td>4 hr</td>\n",
       "    </tr>\n",
       "    <tr>\n",
       "      <th>10</th>\n",
       "      <td>studygroup_37217ba6-10e6-4520-aabd-7bbeb266dbe...</td>\n",
       "      <td>specimen</td>\n",
       "      <td>sample collection</td>\n",
       "      <td>2017-12-20</td>\n",
       "      <td>Alice</td>\n",
       "      <td>171</td>\n",
       "      <td>studygroup_37217ba6-10e6-4520-aabd-7bbeb266dbe...</td>\n",
       "      <td>kidney</td>\n",
       "      <td>1</td>\n",
       "      <td>acetaminophen</td>\n",
       "      <td>high dose</td>\n",
       "      <td>1 hr</td>\n",
       "    </tr>\n",
       "    <tr>\n",
       "      <th>11</th>\n",
       "      <td>studygroup_37217ba6-10e6-4520-aabd-7bbeb266dbe...</td>\n",
       "      <td>specimen</td>\n",
       "      <td>sample collection</td>\n",
       "      <td>2017-12-20</td>\n",
       "      <td>Alice</td>\n",
       "      <td>172</td>\n",
       "      <td>studygroup_37217ba6-10e6-4520-aabd-7bbeb266dbe...</td>\n",
       "      <td>blood</td>\n",
       "      <td>1</td>\n",
       "      <td>acetaminophen</td>\n",
       "      <td>high dose</td>\n",
       "      <td>1 hr</td>\n",
       "    </tr>\n",
       "    <tr>\n",
       "      <th>12</th>\n",
       "      <td>studygroup_37217ba6-10e6-4520-aabd-7bbeb266dbe...</td>\n",
       "      <td>specimen</td>\n",
       "      <td>sample collection</td>\n",
       "      <td>2017-12-20</td>\n",
       "      <td>Alice</td>\n",
       "      <td>174</td>\n",
       "      <td>studygroup_37217ba6-10e6-4520-aabd-7bbeb266dbe...</td>\n",
       "      <td>blood</td>\n",
       "      <td>1</td>\n",
       "      <td>acetaminophen</td>\n",
       "      <td>high dose</td>\n",
       "      <td>1 hr</td>\n",
       "    </tr>\n",
       "    <tr>\n",
       "      <th>13</th>\n",
       "      <td>studygroup_37217ba6-10e6-4520-aabd-7bbeb266dbe...</td>\n",
       "      <td>specimen</td>\n",
       "      <td>sample collection</td>\n",
       "      <td>2017-12-20</td>\n",
       "      <td>Alice</td>\n",
       "      <td>173</td>\n",
       "      <td>studygroup_37217ba6-10e6-4520-aabd-7bbeb266dbe...</td>\n",
       "      <td>kidney</td>\n",
       "      <td>1</td>\n",
       "      <td>acetaminophen</td>\n",
       "      <td>high dose</td>\n",
       "      <td>1 hr</td>\n",
       "    </tr>\n",
       "    <tr>\n",
       "      <th>14</th>\n",
       "      <td>studygroup_37217ba6-10e6-4520-aabd-7bbeb266dbe...</td>\n",
       "      <td>specimen</td>\n",
       "      <td>sample collection</td>\n",
       "      <td>2017-12-20</td>\n",
       "      <td>Alice</td>\n",
       "      <td>175</td>\n",
       "      <td>studygroup_37217ba6-10e6-4520-aabd-7bbeb266dbe...</td>\n",
       "      <td>kidney</td>\n",
       "      <td>1</td>\n",
       "      <td>acetaminophen</td>\n",
       "      <td>high dose</td>\n",
       "      <td>1 hr</td>\n",
       "    </tr>\n",
       "    <tr>\n",
       "      <th>15</th>\n",
       "      <td>studygroup_37217ba6-10e6-4520-aabd-7bbeb266dbe...</td>\n",
       "      <td>specimen</td>\n",
       "      <td>sample collection</td>\n",
       "      <td>2017-12-20</td>\n",
       "      <td>Alice</td>\n",
       "      <td>176</td>\n",
       "      <td>studygroup_37217ba6-10e6-4520-aabd-7bbeb266dbe...</td>\n",
       "      <td>blood</td>\n",
       "      <td>1</td>\n",
       "      <td>acetaminophen</td>\n",
       "      <td>high dose</td>\n",
       "      <td>1 hr</td>\n",
       "    </tr>\n",
       "    <tr>\n",
       "      <th>16</th>\n",
       "      <td>studygroup_37217ba6-10e6-4520-aabd-7bbeb266dbe...</td>\n",
       "      <td>specimen</td>\n",
       "      <td>sample collection</td>\n",
       "      <td>2017-12-20</td>\n",
       "      <td>Alice</td>\n",
       "      <td>177</td>\n",
       "      <td>studygroup_37217ba6-10e6-4520-aabd-7bbeb266dbe...</td>\n",
       "      <td>kidney</td>\n",
       "      <td>1</td>\n",
       "      <td>acetaminophen</td>\n",
       "      <td>high dose</td>\n",
       "      <td>1 hr</td>\n",
       "    </tr>\n",
       "    <tr>\n",
       "      <th>17</th>\n",
       "      <td>studygroup_37217ba6-10e6-4520-aabd-7bbeb266dbe...</td>\n",
       "      <td>specimen</td>\n",
       "      <td>sample collection</td>\n",
       "      <td>2017-12-20</td>\n",
       "      <td>Alice</td>\n",
       "      <td>178</td>\n",
       "      <td>studygroup_37217ba6-10e6-4520-aabd-7bbeb266dbe...</td>\n",
       "      <td>blood</td>\n",
       "      <td>1</td>\n",
       "      <td>acetaminophen</td>\n",
       "      <td>high dose</td>\n",
       "      <td>1 hr</td>\n",
       "    </tr>\n",
       "    <tr>\n",
       "      <th>18</th>\n",
       "      <td>studygroup_37217ba6-10e6-4520-aabd-7bbeb266dbe...</td>\n",
       "      <td>specimen</td>\n",
       "      <td>sample collection</td>\n",
       "      <td>2017-12-20</td>\n",
       "      <td>Alice</td>\n",
       "      <td>179</td>\n",
       "      <td>studygroup_37217ba6-10e6-4520-aabd-7bbeb266dbe...</td>\n",
       "      <td>kidney</td>\n",
       "      <td>1</td>\n",
       "      <td>acetaminophen</td>\n",
       "      <td>high dose</td>\n",
       "      <td>1 hr</td>\n",
       "    </tr>\n",
       "    <tr>\n",
       "      <th>19</th>\n",
       "      <td>studygroup_37217ba6-10e6-4520-aabd-7bbeb266dbe...</td>\n",
       "      <td>specimen</td>\n",
       "      <td>sample collection</td>\n",
       "      <td>2017-12-20</td>\n",
       "      <td>Alice</td>\n",
       "      <td>180</td>\n",
       "      <td>studygroup_37217ba6-10e6-4520-aabd-7bbeb266dbe...</td>\n",
       "      <td>blood</td>\n",
       "      <td>1</td>\n",
       "      <td>acetaminophen</td>\n",
       "      <td>high dose</td>\n",
       "      <td>1 hr</td>\n",
       "    </tr>\n",
       "    <tr>\n",
       "      <th>20</th>\n",
       "      <td>studygroup_37e89968-dcf8-4f16-bdd5-78c6cb1d761...</td>\n",
       "      <td>specimen</td>\n",
       "      <td>sample collection</td>\n",
       "      <td>2017-12-20</td>\n",
       "      <td>Alice</td>\n",
       "      <td>132</td>\n",
       "      <td>studygroup_37e89968-dcf8-4f16-bdd5-78c6cb1d761...</td>\n",
       "      <td>blood</td>\n",
       "      <td>1</td>\n",
       "      <td>acetyl salicylic acid</td>\n",
       "      <td>high dose</td>\n",
       "      <td>1 hr</td>\n",
       "    </tr>\n",
       "    <tr>\n",
       "      <th>21</th>\n",
       "      <td>studygroup_37e89968-dcf8-4f16-bdd5-78c6cb1d761...</td>\n",
       "      <td>specimen</td>\n",
       "      <td>sample collection</td>\n",
       "      <td>2017-12-20</td>\n",
       "      <td>Alice</td>\n",
       "      <td>131</td>\n",
       "      <td>studygroup_37e89968-dcf8-4f16-bdd5-78c6cb1d761...</td>\n",
       "      <td>kidney</td>\n",
       "      <td>1</td>\n",
       "      <td>acetyl salicylic acid</td>\n",
       "      <td>high dose</td>\n",
       "      <td>1 hr</td>\n",
       "    </tr>\n",
       "    <tr>\n",
       "      <th>22</th>\n",
       "      <td>studygroup_37e89968-dcf8-4f16-bdd5-78c6cb1d761...</td>\n",
       "      <td>specimen</td>\n",
       "      <td>sample collection</td>\n",
       "      <td>2017-12-20</td>\n",
       "      <td>Alice</td>\n",
       "      <td>134</td>\n",
       "      <td>studygroup_37e89968-dcf8-4f16-bdd5-78c6cb1d761...</td>\n",
       "      <td>blood</td>\n",
       "      <td>1</td>\n",
       "      <td>acetyl salicylic acid</td>\n",
       "      <td>high dose</td>\n",
       "      <td>1 hr</td>\n",
       "    </tr>\n",
       "    <tr>\n",
       "      <th>23</th>\n",
       "      <td>studygroup_37e89968-dcf8-4f16-bdd5-78c6cb1d761...</td>\n",
       "      <td>specimen</td>\n",
       "      <td>sample collection</td>\n",
       "      <td>2017-12-20</td>\n",
       "      <td>Alice</td>\n",
       "      <td>133</td>\n",
       "      <td>studygroup_37e89968-dcf8-4f16-bdd5-78c6cb1d761...</td>\n",
       "      <td>kidney</td>\n",
       "      <td>1</td>\n",
       "      <td>acetyl salicylic acid</td>\n",
       "      <td>high dose</td>\n",
       "      <td>1 hr</td>\n",
       "    </tr>\n",
       "    <tr>\n",
       "      <th>24</th>\n",
       "      <td>studygroup_37e89968-dcf8-4f16-bdd5-78c6cb1d761...</td>\n",
       "      <td>specimen</td>\n",
       "      <td>sample collection</td>\n",
       "      <td>2017-12-20</td>\n",
       "      <td>Alice</td>\n",
       "      <td>136</td>\n",
       "      <td>studygroup_37e89968-dcf8-4f16-bdd5-78c6cb1d761...</td>\n",
       "      <td>blood</td>\n",
       "      <td>1</td>\n",
       "      <td>acetyl salicylic acid</td>\n",
       "      <td>high dose</td>\n",
       "      <td>1 hr</td>\n",
       "    </tr>\n",
       "    <tr>\n",
       "      <th>25</th>\n",
       "      <td>studygroup_37e89968-dcf8-4f16-bdd5-78c6cb1d761...</td>\n",
       "      <td>specimen</td>\n",
       "      <td>sample collection</td>\n",
       "      <td>2017-12-20</td>\n",
       "      <td>Alice</td>\n",
       "      <td>135</td>\n",
       "      <td>studygroup_37e89968-dcf8-4f16-bdd5-78c6cb1d761...</td>\n",
       "      <td>kidney</td>\n",
       "      <td>1</td>\n",
       "      <td>acetyl salicylic acid</td>\n",
       "      <td>high dose</td>\n",
       "      <td>1 hr</td>\n",
       "    </tr>\n",
       "    <tr>\n",
       "      <th>26</th>\n",
       "      <td>studygroup_37e89968-dcf8-4f16-bdd5-78c6cb1d761...</td>\n",
       "      <td>specimen</td>\n",
       "      <td>sample collection</td>\n",
       "      <td>2017-12-20</td>\n",
       "      <td>Alice</td>\n",
       "      <td>138</td>\n",
       "      <td>studygroup_37e89968-dcf8-4f16-bdd5-78c6cb1d761...</td>\n",
       "      <td>blood</td>\n",
       "      <td>1</td>\n",
       "      <td>acetyl salicylic acid</td>\n",
       "      <td>high dose</td>\n",
       "      <td>1 hr</td>\n",
       "    </tr>\n",
       "    <tr>\n",
       "      <th>27</th>\n",
       "      <td>studygroup_37e89968-dcf8-4f16-bdd5-78c6cb1d761...</td>\n",
       "      <td>specimen</td>\n",
       "      <td>sample collection</td>\n",
       "      <td>2017-12-20</td>\n",
       "      <td>Alice</td>\n",
       "      <td>137</td>\n",
       "      <td>studygroup_37e89968-dcf8-4f16-bdd5-78c6cb1d761...</td>\n",
       "      <td>kidney</td>\n",
       "      <td>1</td>\n",
       "      <td>acetyl salicylic acid</td>\n",
       "      <td>high dose</td>\n",
       "      <td>1 hr</td>\n",
       "    </tr>\n",
       "    <tr>\n",
       "      <th>28</th>\n",
       "      <td>studygroup_37e89968-dcf8-4f16-bdd5-78c6cb1d761...</td>\n",
       "      <td>specimen</td>\n",
       "      <td>sample collection</td>\n",
       "      <td>2017-12-20</td>\n",
       "      <td>Alice</td>\n",
       "      <td>139</td>\n",
       "      <td>studygroup_37e89968-dcf8-4f16-bdd5-78c6cb1d761...</td>\n",
       "      <td>kidney</td>\n",
       "      <td>1</td>\n",
       "      <td>acetyl salicylic acid</td>\n",
       "      <td>high dose</td>\n",
       "      <td>1 hr</td>\n",
       "    </tr>\n",
       "    <tr>\n",
       "      <th>29</th>\n",
       "      <td>studygroup_37e89968-dcf8-4f16-bdd5-78c6cb1d761...</td>\n",
       "      <td>specimen</td>\n",
       "      <td>sample collection</td>\n",
       "      <td>2017-12-20</td>\n",
       "      <td>Alice</td>\n",
       "      <td>140</td>\n",
       "      <td>studygroup_37e89968-dcf8-4f16-bdd5-78c6cb1d761...</td>\n",
       "      <td>blood</td>\n",
       "      <td>1</td>\n",
       "      <td>acetyl salicylic acid</td>\n",
       "      <td>high dose</td>\n",
       "      <td>1 hr</td>\n",
       "    </tr>\n",
       "    <tr>\n",
       "      <th>...</th>\n",
       "      <td>...</td>\n",
       "      <td>...</td>\n",
       "      <td>...</td>\n",
       "      <td>...</td>\n",
       "      <td>...</td>\n",
       "      <td>...</td>\n",
       "      <td>...</td>\n",
       "      <td>...</td>\n",
       "      <td>...</td>\n",
       "      <td>...</td>\n",
       "      <td>...</td>\n",
       "      <td>...</td>\n",
       "    </tr>\n",
       "    <tr>\n",
       "      <th>150</th>\n",
       "      <td>studygroup_d3323577-ac14-4f83-ba1b-88cf53138d6...</td>\n",
       "      <td>specimen</td>\n",
       "      <td>sample collection</td>\n",
       "      <td>2017-12-20</td>\n",
       "      <td>Alice</td>\n",
       "      <td>111</td>\n",
       "      <td>studygroup_d3323577-ac14-4f83-ba1b-88cf53138d6...</td>\n",
       "      <td>kidney</td>\n",
       "      <td>1</td>\n",
       "      <td>acetaminophen</td>\n",
       "      <td>high dose</td>\n",
       "      <td>2 hr</td>\n",
       "    </tr>\n",
       "    <tr>\n",
       "      <th>151</th>\n",
       "      <td>studygroup_d3323577-ac14-4f83-ba1b-88cf53138d6...</td>\n",
       "      <td>specimen</td>\n",
       "      <td>sample collection</td>\n",
       "      <td>2017-12-20</td>\n",
       "      <td>Alice</td>\n",
       "      <td>112</td>\n",
       "      <td>studygroup_d3323577-ac14-4f83-ba1b-88cf53138d6...</td>\n",
       "      <td>blood</td>\n",
       "      <td>1</td>\n",
       "      <td>acetaminophen</td>\n",
       "      <td>high dose</td>\n",
       "      <td>2 hr</td>\n",
       "    </tr>\n",
       "    <tr>\n",
       "      <th>152</th>\n",
       "      <td>studygroup_d3323577-ac14-4f83-ba1b-88cf53138d6...</td>\n",
       "      <td>specimen</td>\n",
       "      <td>sample collection</td>\n",
       "      <td>2017-12-20</td>\n",
       "      <td>Alice</td>\n",
       "      <td>114</td>\n",
       "      <td>studygroup_d3323577-ac14-4f83-ba1b-88cf53138d6...</td>\n",
       "      <td>blood</td>\n",
       "      <td>1</td>\n",
       "      <td>acetaminophen</td>\n",
       "      <td>high dose</td>\n",
       "      <td>2 hr</td>\n",
       "    </tr>\n",
       "    <tr>\n",
       "      <th>153</th>\n",
       "      <td>studygroup_d3323577-ac14-4f83-ba1b-88cf53138d6...</td>\n",
       "      <td>specimen</td>\n",
       "      <td>sample collection</td>\n",
       "      <td>2017-12-20</td>\n",
       "      <td>Alice</td>\n",
       "      <td>113</td>\n",
       "      <td>studygroup_d3323577-ac14-4f83-ba1b-88cf53138d6...</td>\n",
       "      <td>kidney</td>\n",
       "      <td>1</td>\n",
       "      <td>acetaminophen</td>\n",
       "      <td>high dose</td>\n",
       "      <td>2 hr</td>\n",
       "    </tr>\n",
       "    <tr>\n",
       "      <th>154</th>\n",
       "      <td>studygroup_d3323577-ac14-4f83-ba1b-88cf53138d6...</td>\n",
       "      <td>specimen</td>\n",
       "      <td>sample collection</td>\n",
       "      <td>2017-12-20</td>\n",
       "      <td>Alice</td>\n",
       "      <td>115</td>\n",
       "      <td>studygroup_d3323577-ac14-4f83-ba1b-88cf53138d6...</td>\n",
       "      <td>kidney</td>\n",
       "      <td>1</td>\n",
       "      <td>acetaminophen</td>\n",
       "      <td>high dose</td>\n",
       "      <td>2 hr</td>\n",
       "    </tr>\n",
       "    <tr>\n",
       "      <th>155</th>\n",
       "      <td>studygroup_d3323577-ac14-4f83-ba1b-88cf53138d6...</td>\n",
       "      <td>specimen</td>\n",
       "      <td>sample collection</td>\n",
       "      <td>2017-12-20</td>\n",
       "      <td>Alice</td>\n",
       "      <td>116</td>\n",
       "      <td>studygroup_d3323577-ac14-4f83-ba1b-88cf53138d6...</td>\n",
       "      <td>blood</td>\n",
       "      <td>1</td>\n",
       "      <td>acetaminophen</td>\n",
       "      <td>high dose</td>\n",
       "      <td>2 hr</td>\n",
       "    </tr>\n",
       "    <tr>\n",
       "      <th>156</th>\n",
       "      <td>studygroup_d3323577-ac14-4f83-ba1b-88cf53138d6...</td>\n",
       "      <td>specimen</td>\n",
       "      <td>sample collection</td>\n",
       "      <td>2017-12-20</td>\n",
       "      <td>Alice</td>\n",
       "      <td>117</td>\n",
       "      <td>studygroup_d3323577-ac14-4f83-ba1b-88cf53138d6...</td>\n",
       "      <td>kidney</td>\n",
       "      <td>1</td>\n",
       "      <td>acetaminophen</td>\n",
       "      <td>high dose</td>\n",
       "      <td>2 hr</td>\n",
       "    </tr>\n",
       "    <tr>\n",
       "      <th>157</th>\n",
       "      <td>studygroup_d3323577-ac14-4f83-ba1b-88cf53138d6...</td>\n",
       "      <td>specimen</td>\n",
       "      <td>sample collection</td>\n",
       "      <td>2017-12-20</td>\n",
       "      <td>Alice</td>\n",
       "      <td>118</td>\n",
       "      <td>studygroup_d3323577-ac14-4f83-ba1b-88cf53138d6...</td>\n",
       "      <td>blood</td>\n",
       "      <td>1</td>\n",
       "      <td>acetaminophen</td>\n",
       "      <td>high dose</td>\n",
       "      <td>2 hr</td>\n",
       "    </tr>\n",
       "    <tr>\n",
       "      <th>158</th>\n",
       "      <td>studygroup_d3323577-ac14-4f83-ba1b-88cf53138d6...</td>\n",
       "      <td>specimen</td>\n",
       "      <td>sample collection</td>\n",
       "      <td>2017-12-20</td>\n",
       "      <td>Alice</td>\n",
       "      <td>120</td>\n",
       "      <td>studygroup_d3323577-ac14-4f83-ba1b-88cf53138d6...</td>\n",
       "      <td>blood</td>\n",
       "      <td>1</td>\n",
       "      <td>acetaminophen</td>\n",
       "      <td>high dose</td>\n",
       "      <td>2 hr</td>\n",
       "    </tr>\n",
       "    <tr>\n",
       "      <th>159</th>\n",
       "      <td>studygroup_d3323577-ac14-4f83-ba1b-88cf53138d6...</td>\n",
       "      <td>specimen</td>\n",
       "      <td>sample collection</td>\n",
       "      <td>2017-12-20</td>\n",
       "      <td>Alice</td>\n",
       "      <td>119</td>\n",
       "      <td>studygroup_d3323577-ac14-4f83-ba1b-88cf53138d6...</td>\n",
       "      <td>kidney</td>\n",
       "      <td>1</td>\n",
       "      <td>acetaminophen</td>\n",
       "      <td>high dose</td>\n",
       "      <td>2 hr</td>\n",
       "    </tr>\n",
       "    <tr>\n",
       "      <th>160</th>\n",
       "      <td>studygroup_d614b5a9-9cdf-4ae3-aa03-67bde937811...</td>\n",
       "      <td>specimen</td>\n",
       "      <td>sample collection</td>\n",
       "      <td>2017-12-20</td>\n",
       "      <td>Alice</td>\n",
       "      <td>1</td>\n",
       "      <td>studygroup_d614b5a9-9cdf-4ae3-aa03-67bde937811...</td>\n",
       "      <td>kidney</td>\n",
       "      <td>1</td>\n",
       "      <td>ibuprofen</td>\n",
       "      <td>high dose</td>\n",
       "      <td>2 hr</td>\n",
       "    </tr>\n",
       "    <tr>\n",
       "      <th>161</th>\n",
       "      <td>studygroup_d614b5a9-9cdf-4ae3-aa03-67bde937811...</td>\n",
       "      <td>specimen</td>\n",
       "      <td>sample collection</td>\n",
       "      <td>2017-12-20</td>\n",
       "      <td>Alice</td>\n",
       "      <td>2</td>\n",
       "      <td>studygroup_d614b5a9-9cdf-4ae3-aa03-67bde937811...</td>\n",
       "      <td>blood</td>\n",
       "      <td>1</td>\n",
       "      <td>ibuprofen</td>\n",
       "      <td>high dose</td>\n",
       "      <td>2 hr</td>\n",
       "    </tr>\n",
       "    <tr>\n",
       "      <th>162</th>\n",
       "      <td>studygroup_d614b5a9-9cdf-4ae3-aa03-67bde937811...</td>\n",
       "      <td>specimen</td>\n",
       "      <td>sample collection</td>\n",
       "      <td>2017-12-20</td>\n",
       "      <td>Alice</td>\n",
       "      <td>3</td>\n",
       "      <td>studygroup_d614b5a9-9cdf-4ae3-aa03-67bde937811...</td>\n",
       "      <td>kidney</td>\n",
       "      <td>1</td>\n",
       "      <td>ibuprofen</td>\n",
       "      <td>high dose</td>\n",
       "      <td>2 hr</td>\n",
       "    </tr>\n",
       "    <tr>\n",
       "      <th>163</th>\n",
       "      <td>studygroup_d614b5a9-9cdf-4ae3-aa03-67bde937811...</td>\n",
       "      <td>specimen</td>\n",
       "      <td>sample collection</td>\n",
       "      <td>2017-12-20</td>\n",
       "      <td>Alice</td>\n",
       "      <td>4</td>\n",
       "      <td>studygroup_d614b5a9-9cdf-4ae3-aa03-67bde937811...</td>\n",
       "      <td>blood</td>\n",
       "      <td>1</td>\n",
       "      <td>ibuprofen</td>\n",
       "      <td>high dose</td>\n",
       "      <td>2 hr</td>\n",
       "    </tr>\n",
       "    <tr>\n",
       "      <th>164</th>\n",
       "      <td>studygroup_d614b5a9-9cdf-4ae3-aa03-67bde937811...</td>\n",
       "      <td>specimen</td>\n",
       "      <td>sample collection</td>\n",
       "      <td>2017-12-20</td>\n",
       "      <td>Alice</td>\n",
       "      <td>5</td>\n",
       "      <td>studygroup_d614b5a9-9cdf-4ae3-aa03-67bde937811...</td>\n",
       "      <td>kidney</td>\n",
       "      <td>1</td>\n",
       "      <td>ibuprofen</td>\n",
       "      <td>high dose</td>\n",
       "      <td>2 hr</td>\n",
       "    </tr>\n",
       "    <tr>\n",
       "      <th>165</th>\n",
       "      <td>studygroup_d614b5a9-9cdf-4ae3-aa03-67bde937811...</td>\n",
       "      <td>specimen</td>\n",
       "      <td>sample collection</td>\n",
       "      <td>2017-12-20</td>\n",
       "      <td>Alice</td>\n",
       "      <td>6</td>\n",
       "      <td>studygroup_d614b5a9-9cdf-4ae3-aa03-67bde937811...</td>\n",
       "      <td>blood</td>\n",
       "      <td>1</td>\n",
       "      <td>ibuprofen</td>\n",
       "      <td>high dose</td>\n",
       "      <td>2 hr</td>\n",
       "    </tr>\n",
       "    <tr>\n",
       "      <th>166</th>\n",
       "      <td>studygroup_d614b5a9-9cdf-4ae3-aa03-67bde937811...</td>\n",
       "      <td>specimen</td>\n",
       "      <td>sample collection</td>\n",
       "      <td>2017-12-20</td>\n",
       "      <td>Alice</td>\n",
       "      <td>7</td>\n",
       "      <td>studygroup_d614b5a9-9cdf-4ae3-aa03-67bde937811...</td>\n",
       "      <td>kidney</td>\n",
       "      <td>1</td>\n",
       "      <td>ibuprofen</td>\n",
       "      <td>high dose</td>\n",
       "      <td>2 hr</td>\n",
       "    </tr>\n",
       "    <tr>\n",
       "      <th>167</th>\n",
       "      <td>studygroup_d614b5a9-9cdf-4ae3-aa03-67bde937811...</td>\n",
       "      <td>specimen</td>\n",
       "      <td>sample collection</td>\n",
       "      <td>2017-12-20</td>\n",
       "      <td>Alice</td>\n",
       "      <td>8</td>\n",
       "      <td>studygroup_d614b5a9-9cdf-4ae3-aa03-67bde937811...</td>\n",
       "      <td>blood</td>\n",
       "      <td>1</td>\n",
       "      <td>ibuprofen</td>\n",
       "      <td>high dose</td>\n",
       "      <td>2 hr</td>\n",
       "    </tr>\n",
       "    <tr>\n",
       "      <th>168</th>\n",
       "      <td>studygroup_d614b5a9-9cdf-4ae3-aa03-67bde937811...</td>\n",
       "      <td>specimen</td>\n",
       "      <td>sample collection</td>\n",
       "      <td>2017-12-20</td>\n",
       "      <td>Alice</td>\n",
       "      <td>10</td>\n",
       "      <td>studygroup_d614b5a9-9cdf-4ae3-aa03-67bde937811...</td>\n",
       "      <td>blood</td>\n",
       "      <td>1</td>\n",
       "      <td>ibuprofen</td>\n",
       "      <td>high dose</td>\n",
       "      <td>2 hr</td>\n",
       "    </tr>\n",
       "    <tr>\n",
       "      <th>169</th>\n",
       "      <td>studygroup_d614b5a9-9cdf-4ae3-aa03-67bde937811...</td>\n",
       "      <td>specimen</td>\n",
       "      <td>sample collection</td>\n",
       "      <td>2017-12-20</td>\n",
       "      <td>Alice</td>\n",
       "      <td>9</td>\n",
       "      <td>studygroup_d614b5a9-9cdf-4ae3-aa03-67bde937811...</td>\n",
       "      <td>kidney</td>\n",
       "      <td>1</td>\n",
       "      <td>ibuprofen</td>\n",
       "      <td>high dose</td>\n",
       "      <td>2 hr</td>\n",
       "    </tr>\n",
       "    <tr>\n",
       "      <th>170</th>\n",
       "      <td>studygroup_f9fdf563-4c68-4ad5-ba50-df43971f6be...</td>\n",
       "      <td>specimen</td>\n",
       "      <td>sample collection</td>\n",
       "      <td>2017-12-20</td>\n",
       "      <td>Alice</td>\n",
       "      <td>42</td>\n",
       "      <td>studygroup_f9fdf563-4c68-4ad5-ba50-df43971f6be...</td>\n",
       "      <td>blood</td>\n",
       "      <td>1</td>\n",
       "      <td>acetaminophen</td>\n",
       "      <td>high dose</td>\n",
       "      <td>4 hr</td>\n",
       "    </tr>\n",
       "    <tr>\n",
       "      <th>171</th>\n",
       "      <td>studygroup_f9fdf563-4c68-4ad5-ba50-df43971f6be...</td>\n",
       "      <td>specimen</td>\n",
       "      <td>sample collection</td>\n",
       "      <td>2017-12-20</td>\n",
       "      <td>Alice</td>\n",
       "      <td>41</td>\n",
       "      <td>studygroup_f9fdf563-4c68-4ad5-ba50-df43971f6be...</td>\n",
       "      <td>kidney</td>\n",
       "      <td>1</td>\n",
       "      <td>acetaminophen</td>\n",
       "      <td>high dose</td>\n",
       "      <td>4 hr</td>\n",
       "    </tr>\n",
       "    <tr>\n",
       "      <th>172</th>\n",
       "      <td>studygroup_f9fdf563-4c68-4ad5-ba50-df43971f6be...</td>\n",
       "      <td>specimen</td>\n",
       "      <td>sample collection</td>\n",
       "      <td>2017-12-20</td>\n",
       "      <td>Alice</td>\n",
       "      <td>43</td>\n",
       "      <td>studygroup_f9fdf563-4c68-4ad5-ba50-df43971f6be...</td>\n",
       "      <td>kidney</td>\n",
       "      <td>1</td>\n",
       "      <td>acetaminophen</td>\n",
       "      <td>high dose</td>\n",
       "      <td>4 hr</td>\n",
       "    </tr>\n",
       "    <tr>\n",
       "      <th>173</th>\n",
       "      <td>studygroup_f9fdf563-4c68-4ad5-ba50-df43971f6be...</td>\n",
       "      <td>specimen</td>\n",
       "      <td>sample collection</td>\n",
       "      <td>2017-12-20</td>\n",
       "      <td>Alice</td>\n",
       "      <td>44</td>\n",
       "      <td>studygroup_f9fdf563-4c68-4ad5-ba50-df43971f6be...</td>\n",
       "      <td>blood</td>\n",
       "      <td>1</td>\n",
       "      <td>acetaminophen</td>\n",
       "      <td>high dose</td>\n",
       "      <td>4 hr</td>\n",
       "    </tr>\n",
       "    <tr>\n",
       "      <th>174</th>\n",
       "      <td>studygroup_f9fdf563-4c68-4ad5-ba50-df43971f6be...</td>\n",
       "      <td>specimen</td>\n",
       "      <td>sample collection</td>\n",
       "      <td>2017-12-20</td>\n",
       "      <td>Alice</td>\n",
       "      <td>45</td>\n",
       "      <td>studygroup_f9fdf563-4c68-4ad5-ba50-df43971f6be...</td>\n",
       "      <td>kidney</td>\n",
       "      <td>1</td>\n",
       "      <td>acetaminophen</td>\n",
       "      <td>high dose</td>\n",
       "      <td>4 hr</td>\n",
       "    </tr>\n",
       "    <tr>\n",
       "      <th>175</th>\n",
       "      <td>studygroup_f9fdf563-4c68-4ad5-ba50-df43971f6be...</td>\n",
       "      <td>specimen</td>\n",
       "      <td>sample collection</td>\n",
       "      <td>2017-12-20</td>\n",
       "      <td>Alice</td>\n",
       "      <td>46</td>\n",
       "      <td>studygroup_f9fdf563-4c68-4ad5-ba50-df43971f6be...</td>\n",
       "      <td>blood</td>\n",
       "      <td>1</td>\n",
       "      <td>acetaminophen</td>\n",
       "      <td>high dose</td>\n",
       "      <td>4 hr</td>\n",
       "    </tr>\n",
       "    <tr>\n",
       "      <th>176</th>\n",
       "      <td>studygroup_f9fdf563-4c68-4ad5-ba50-df43971f6be...</td>\n",
       "      <td>specimen</td>\n",
       "      <td>sample collection</td>\n",
       "      <td>2017-12-20</td>\n",
       "      <td>Alice</td>\n",
       "      <td>48</td>\n",
       "      <td>studygroup_f9fdf563-4c68-4ad5-ba50-df43971f6be...</td>\n",
       "      <td>blood</td>\n",
       "      <td>1</td>\n",
       "      <td>acetaminophen</td>\n",
       "      <td>high dose</td>\n",
       "      <td>4 hr</td>\n",
       "    </tr>\n",
       "    <tr>\n",
       "      <th>177</th>\n",
       "      <td>studygroup_f9fdf563-4c68-4ad5-ba50-df43971f6be...</td>\n",
       "      <td>specimen</td>\n",
       "      <td>sample collection</td>\n",
       "      <td>2017-12-20</td>\n",
       "      <td>Alice</td>\n",
       "      <td>47</td>\n",
       "      <td>studygroup_f9fdf563-4c68-4ad5-ba50-df43971f6be...</td>\n",
       "      <td>kidney</td>\n",
       "      <td>1</td>\n",
       "      <td>acetaminophen</td>\n",
       "      <td>high dose</td>\n",
       "      <td>4 hr</td>\n",
       "    </tr>\n",
       "    <tr>\n",
       "      <th>178</th>\n",
       "      <td>studygroup_f9fdf563-4c68-4ad5-ba50-df43971f6be...</td>\n",
       "      <td>specimen</td>\n",
       "      <td>sample collection</td>\n",
       "      <td>2017-12-20</td>\n",
       "      <td>Alice</td>\n",
       "      <td>50</td>\n",
       "      <td>studygroup_f9fdf563-4c68-4ad5-ba50-df43971f6be...</td>\n",
       "      <td>blood</td>\n",
       "      <td>1</td>\n",
       "      <td>acetaminophen</td>\n",
       "      <td>high dose</td>\n",
       "      <td>4 hr</td>\n",
       "    </tr>\n",
       "    <tr>\n",
       "      <th>179</th>\n",
       "      <td>studygroup_f9fdf563-4c68-4ad5-ba50-df43971f6be...</td>\n",
       "      <td>specimen</td>\n",
       "      <td>sample collection</td>\n",
       "      <td>2017-12-20</td>\n",
       "      <td>Alice</td>\n",
       "      <td>49</td>\n",
       "      <td>studygroup_f9fdf563-4c68-4ad5-ba50-df43971f6be...</td>\n",
       "      <td>kidney</td>\n",
       "      <td>1</td>\n",
       "      <td>acetaminophen</td>\n",
       "      <td>high dose</td>\n",
       "      <td>4 hr</td>\n",
       "    </tr>\n",
       "  </tbody>\n",
       "</table>\n",
       "<p>180 rows × 12 columns</p>\n",
       "</div>"
      ],
      "text/plain": [
       "                                           Source Name Material Type  \\\n",
       "0    studygroup_2bac7e7f-cfe3-4321-b71b-1b3e00515a3...      specimen   \n",
       "1    studygroup_2bac7e7f-cfe3-4321-b71b-1b3e00515a3...      specimen   \n",
       "2    studygroup_2bac7e7f-cfe3-4321-b71b-1b3e00515a3...      specimen   \n",
       "3    studygroup_2bac7e7f-cfe3-4321-b71b-1b3e00515a3...      specimen   \n",
       "4    studygroup_2bac7e7f-cfe3-4321-b71b-1b3e00515a3...      specimen   \n",
       "5    studygroup_2bac7e7f-cfe3-4321-b71b-1b3e00515a3...      specimen   \n",
       "6    studygroup_2bac7e7f-cfe3-4321-b71b-1b3e00515a3...      specimen   \n",
       "7    studygroup_2bac7e7f-cfe3-4321-b71b-1b3e00515a3...      specimen   \n",
       "8    studygroup_2bac7e7f-cfe3-4321-b71b-1b3e00515a3...      specimen   \n",
       "9    studygroup_2bac7e7f-cfe3-4321-b71b-1b3e00515a3...      specimen   \n",
       "10   studygroup_37217ba6-10e6-4520-aabd-7bbeb266dbe...      specimen   \n",
       "11   studygroup_37217ba6-10e6-4520-aabd-7bbeb266dbe...      specimen   \n",
       "12   studygroup_37217ba6-10e6-4520-aabd-7bbeb266dbe...      specimen   \n",
       "13   studygroup_37217ba6-10e6-4520-aabd-7bbeb266dbe...      specimen   \n",
       "14   studygroup_37217ba6-10e6-4520-aabd-7bbeb266dbe...      specimen   \n",
       "15   studygroup_37217ba6-10e6-4520-aabd-7bbeb266dbe...      specimen   \n",
       "16   studygroup_37217ba6-10e6-4520-aabd-7bbeb266dbe...      specimen   \n",
       "17   studygroup_37217ba6-10e6-4520-aabd-7bbeb266dbe...      specimen   \n",
       "18   studygroup_37217ba6-10e6-4520-aabd-7bbeb266dbe...      specimen   \n",
       "19   studygroup_37217ba6-10e6-4520-aabd-7bbeb266dbe...      specimen   \n",
       "20   studygroup_37e89968-dcf8-4f16-bdd5-78c6cb1d761...      specimen   \n",
       "21   studygroup_37e89968-dcf8-4f16-bdd5-78c6cb1d761...      specimen   \n",
       "22   studygroup_37e89968-dcf8-4f16-bdd5-78c6cb1d761...      specimen   \n",
       "23   studygroup_37e89968-dcf8-4f16-bdd5-78c6cb1d761...      specimen   \n",
       "24   studygroup_37e89968-dcf8-4f16-bdd5-78c6cb1d761...      specimen   \n",
       "25   studygroup_37e89968-dcf8-4f16-bdd5-78c6cb1d761...      specimen   \n",
       "26   studygroup_37e89968-dcf8-4f16-bdd5-78c6cb1d761...      specimen   \n",
       "27   studygroup_37e89968-dcf8-4f16-bdd5-78c6cb1d761...      specimen   \n",
       "28   studygroup_37e89968-dcf8-4f16-bdd5-78c6cb1d761...      specimen   \n",
       "29   studygroup_37e89968-dcf8-4f16-bdd5-78c6cb1d761...      specimen   \n",
       "..                                                 ...           ...   \n",
       "150  studygroup_d3323577-ac14-4f83-ba1b-88cf53138d6...      specimen   \n",
       "151  studygroup_d3323577-ac14-4f83-ba1b-88cf53138d6...      specimen   \n",
       "152  studygroup_d3323577-ac14-4f83-ba1b-88cf53138d6...      specimen   \n",
       "153  studygroup_d3323577-ac14-4f83-ba1b-88cf53138d6...      specimen   \n",
       "154  studygroup_d3323577-ac14-4f83-ba1b-88cf53138d6...      specimen   \n",
       "155  studygroup_d3323577-ac14-4f83-ba1b-88cf53138d6...      specimen   \n",
       "156  studygroup_d3323577-ac14-4f83-ba1b-88cf53138d6...      specimen   \n",
       "157  studygroup_d3323577-ac14-4f83-ba1b-88cf53138d6...      specimen   \n",
       "158  studygroup_d3323577-ac14-4f83-ba1b-88cf53138d6...      specimen   \n",
       "159  studygroup_d3323577-ac14-4f83-ba1b-88cf53138d6...      specimen   \n",
       "160  studygroup_d614b5a9-9cdf-4ae3-aa03-67bde937811...      specimen   \n",
       "161  studygroup_d614b5a9-9cdf-4ae3-aa03-67bde937811...      specimen   \n",
       "162  studygroup_d614b5a9-9cdf-4ae3-aa03-67bde937811...      specimen   \n",
       "163  studygroup_d614b5a9-9cdf-4ae3-aa03-67bde937811...      specimen   \n",
       "164  studygroup_d614b5a9-9cdf-4ae3-aa03-67bde937811...      specimen   \n",
       "165  studygroup_d614b5a9-9cdf-4ae3-aa03-67bde937811...      specimen   \n",
       "166  studygroup_d614b5a9-9cdf-4ae3-aa03-67bde937811...      specimen   \n",
       "167  studygroup_d614b5a9-9cdf-4ae3-aa03-67bde937811...      specimen   \n",
       "168  studygroup_d614b5a9-9cdf-4ae3-aa03-67bde937811...      specimen   \n",
       "169  studygroup_d614b5a9-9cdf-4ae3-aa03-67bde937811...      specimen   \n",
       "170  studygroup_f9fdf563-4c68-4ad5-ba50-df43971f6be...      specimen   \n",
       "171  studygroup_f9fdf563-4c68-4ad5-ba50-df43971f6be...      specimen   \n",
       "172  studygroup_f9fdf563-4c68-4ad5-ba50-df43971f6be...      specimen   \n",
       "173  studygroup_f9fdf563-4c68-4ad5-ba50-df43971f6be...      specimen   \n",
       "174  studygroup_f9fdf563-4c68-4ad5-ba50-df43971f6be...      specimen   \n",
       "175  studygroup_f9fdf563-4c68-4ad5-ba50-df43971f6be...      specimen   \n",
       "176  studygroup_f9fdf563-4c68-4ad5-ba50-df43971f6be...      specimen   \n",
       "177  studygroup_f9fdf563-4c68-4ad5-ba50-df43971f6be...      specimen   \n",
       "178  studygroup_f9fdf563-4c68-4ad5-ba50-df43971f6be...      specimen   \n",
       "179  studygroup_f9fdf563-4c68-4ad5-ba50-df43971f6be...      specimen   \n",
       "\n",
       "          Protocol REF        Date Performer Parameter Value[Run Order]  \\\n",
       "0    sample collection  2017-12-20     Alice                         32   \n",
       "1    sample collection  2017-12-20     Alice                         31   \n",
       "2    sample collection  2017-12-20     Alice                         33   \n",
       "3    sample collection  2017-12-20     Alice                         34   \n",
       "4    sample collection  2017-12-20     Alice                         36   \n",
       "5    sample collection  2017-12-20     Alice                         35   \n",
       "6    sample collection  2017-12-20     Alice                         38   \n",
       "7    sample collection  2017-12-20     Alice                         37   \n",
       "8    sample collection  2017-12-20     Alice                         39   \n",
       "9    sample collection  2017-12-20     Alice                         40   \n",
       "10   sample collection  2017-12-20     Alice                        171   \n",
       "11   sample collection  2017-12-20     Alice                        172   \n",
       "12   sample collection  2017-12-20     Alice                        174   \n",
       "13   sample collection  2017-12-20     Alice                        173   \n",
       "14   sample collection  2017-12-20     Alice                        175   \n",
       "15   sample collection  2017-12-20     Alice                        176   \n",
       "16   sample collection  2017-12-20     Alice                        177   \n",
       "17   sample collection  2017-12-20     Alice                        178   \n",
       "18   sample collection  2017-12-20     Alice                        179   \n",
       "19   sample collection  2017-12-20     Alice                        180   \n",
       "20   sample collection  2017-12-20     Alice                        132   \n",
       "21   sample collection  2017-12-20     Alice                        131   \n",
       "22   sample collection  2017-12-20     Alice                        134   \n",
       "23   sample collection  2017-12-20     Alice                        133   \n",
       "24   sample collection  2017-12-20     Alice                        136   \n",
       "25   sample collection  2017-12-20     Alice                        135   \n",
       "26   sample collection  2017-12-20     Alice                        138   \n",
       "27   sample collection  2017-12-20     Alice                        137   \n",
       "28   sample collection  2017-12-20     Alice                        139   \n",
       "29   sample collection  2017-12-20     Alice                        140   \n",
       "..                 ...         ...       ...                        ...   \n",
       "150  sample collection  2017-12-20     Alice                        111   \n",
       "151  sample collection  2017-12-20     Alice                        112   \n",
       "152  sample collection  2017-12-20     Alice                        114   \n",
       "153  sample collection  2017-12-20     Alice                        113   \n",
       "154  sample collection  2017-12-20     Alice                        115   \n",
       "155  sample collection  2017-12-20     Alice                        116   \n",
       "156  sample collection  2017-12-20     Alice                        117   \n",
       "157  sample collection  2017-12-20     Alice                        118   \n",
       "158  sample collection  2017-12-20     Alice                        120   \n",
       "159  sample collection  2017-12-20     Alice                        119   \n",
       "160  sample collection  2017-12-20     Alice                          1   \n",
       "161  sample collection  2017-12-20     Alice                          2   \n",
       "162  sample collection  2017-12-20     Alice                          3   \n",
       "163  sample collection  2017-12-20     Alice                          4   \n",
       "164  sample collection  2017-12-20     Alice                          5   \n",
       "165  sample collection  2017-12-20     Alice                          6   \n",
       "166  sample collection  2017-12-20     Alice                          7   \n",
       "167  sample collection  2017-12-20     Alice                          8   \n",
       "168  sample collection  2017-12-20     Alice                         10   \n",
       "169  sample collection  2017-12-20     Alice                          9   \n",
       "170  sample collection  2017-12-20     Alice                         42   \n",
       "171  sample collection  2017-12-20     Alice                         41   \n",
       "172  sample collection  2017-12-20     Alice                         43   \n",
       "173  sample collection  2017-12-20     Alice                         44   \n",
       "174  sample collection  2017-12-20     Alice                         45   \n",
       "175  sample collection  2017-12-20     Alice                         46   \n",
       "176  sample collection  2017-12-20     Alice                         48   \n",
       "177  sample collection  2017-12-20     Alice                         47   \n",
       "178  sample collection  2017-12-20     Alice                         50   \n",
       "179  sample collection  2017-12-20     Alice                         49   \n",
       "\n",
       "                                           Sample Name  \\\n",
       "0    studygroup_2bac7e7f-cfe3-4321-b71b-1b3e00515a3...   \n",
       "1    studygroup_2bac7e7f-cfe3-4321-b71b-1b3e00515a3...   \n",
       "2    studygroup_2bac7e7f-cfe3-4321-b71b-1b3e00515a3...   \n",
       "3    studygroup_2bac7e7f-cfe3-4321-b71b-1b3e00515a3...   \n",
       "4    studygroup_2bac7e7f-cfe3-4321-b71b-1b3e00515a3...   \n",
       "5    studygroup_2bac7e7f-cfe3-4321-b71b-1b3e00515a3...   \n",
       "6    studygroup_2bac7e7f-cfe3-4321-b71b-1b3e00515a3...   \n",
       "7    studygroup_2bac7e7f-cfe3-4321-b71b-1b3e00515a3...   \n",
       "8    studygroup_2bac7e7f-cfe3-4321-b71b-1b3e00515a3...   \n",
       "9    studygroup_2bac7e7f-cfe3-4321-b71b-1b3e00515a3...   \n",
       "10   studygroup_37217ba6-10e6-4520-aabd-7bbeb266dbe...   \n",
       "11   studygroup_37217ba6-10e6-4520-aabd-7bbeb266dbe...   \n",
       "12   studygroup_37217ba6-10e6-4520-aabd-7bbeb266dbe...   \n",
       "13   studygroup_37217ba6-10e6-4520-aabd-7bbeb266dbe...   \n",
       "14   studygroup_37217ba6-10e6-4520-aabd-7bbeb266dbe...   \n",
       "15   studygroup_37217ba6-10e6-4520-aabd-7bbeb266dbe...   \n",
       "16   studygroup_37217ba6-10e6-4520-aabd-7bbeb266dbe...   \n",
       "17   studygroup_37217ba6-10e6-4520-aabd-7bbeb266dbe...   \n",
       "18   studygroup_37217ba6-10e6-4520-aabd-7bbeb266dbe...   \n",
       "19   studygroup_37217ba6-10e6-4520-aabd-7bbeb266dbe...   \n",
       "20   studygroup_37e89968-dcf8-4f16-bdd5-78c6cb1d761...   \n",
       "21   studygroup_37e89968-dcf8-4f16-bdd5-78c6cb1d761...   \n",
       "22   studygroup_37e89968-dcf8-4f16-bdd5-78c6cb1d761...   \n",
       "23   studygroup_37e89968-dcf8-4f16-bdd5-78c6cb1d761...   \n",
       "24   studygroup_37e89968-dcf8-4f16-bdd5-78c6cb1d761...   \n",
       "25   studygroup_37e89968-dcf8-4f16-bdd5-78c6cb1d761...   \n",
       "26   studygroup_37e89968-dcf8-4f16-bdd5-78c6cb1d761...   \n",
       "27   studygroup_37e89968-dcf8-4f16-bdd5-78c6cb1d761...   \n",
       "28   studygroup_37e89968-dcf8-4f16-bdd5-78c6cb1d761...   \n",
       "29   studygroup_37e89968-dcf8-4f16-bdd5-78c6cb1d761...   \n",
       "..                                                 ...   \n",
       "150  studygroup_d3323577-ac14-4f83-ba1b-88cf53138d6...   \n",
       "151  studygroup_d3323577-ac14-4f83-ba1b-88cf53138d6...   \n",
       "152  studygroup_d3323577-ac14-4f83-ba1b-88cf53138d6...   \n",
       "153  studygroup_d3323577-ac14-4f83-ba1b-88cf53138d6...   \n",
       "154  studygroup_d3323577-ac14-4f83-ba1b-88cf53138d6...   \n",
       "155  studygroup_d3323577-ac14-4f83-ba1b-88cf53138d6...   \n",
       "156  studygroup_d3323577-ac14-4f83-ba1b-88cf53138d6...   \n",
       "157  studygroup_d3323577-ac14-4f83-ba1b-88cf53138d6...   \n",
       "158  studygroup_d3323577-ac14-4f83-ba1b-88cf53138d6...   \n",
       "159  studygroup_d3323577-ac14-4f83-ba1b-88cf53138d6...   \n",
       "160  studygroup_d614b5a9-9cdf-4ae3-aa03-67bde937811...   \n",
       "161  studygroup_d614b5a9-9cdf-4ae3-aa03-67bde937811...   \n",
       "162  studygroup_d614b5a9-9cdf-4ae3-aa03-67bde937811...   \n",
       "163  studygroup_d614b5a9-9cdf-4ae3-aa03-67bde937811...   \n",
       "164  studygroup_d614b5a9-9cdf-4ae3-aa03-67bde937811...   \n",
       "165  studygroup_d614b5a9-9cdf-4ae3-aa03-67bde937811...   \n",
       "166  studygroup_d614b5a9-9cdf-4ae3-aa03-67bde937811...   \n",
       "167  studygroup_d614b5a9-9cdf-4ae3-aa03-67bde937811...   \n",
       "168  studygroup_d614b5a9-9cdf-4ae3-aa03-67bde937811...   \n",
       "169  studygroup_d614b5a9-9cdf-4ae3-aa03-67bde937811...   \n",
       "170  studygroup_f9fdf563-4c68-4ad5-ba50-df43971f6be...   \n",
       "171  studygroup_f9fdf563-4c68-4ad5-ba50-df43971f6be...   \n",
       "172  studygroup_f9fdf563-4c68-4ad5-ba50-df43971f6be...   \n",
       "173  studygroup_f9fdf563-4c68-4ad5-ba50-df43971f6be...   \n",
       "174  studygroup_f9fdf563-4c68-4ad5-ba50-df43971f6be...   \n",
       "175  studygroup_f9fdf563-4c68-4ad5-ba50-df43971f6be...   \n",
       "176  studygroup_f9fdf563-4c68-4ad5-ba50-df43971f6be...   \n",
       "177  studygroup_f9fdf563-4c68-4ad5-ba50-df43971f6be...   \n",
       "178  studygroup_f9fdf563-4c68-4ad5-ba50-df43971f6be...   \n",
       "179  studygroup_f9fdf563-4c68-4ad5-ba50-df43971f6be...   \n",
       "\n",
       "    Characteristics[organism part]  \\\n",
       "0                            blood   \n",
       "1                           kidney   \n",
       "2                           kidney   \n",
       "3                            blood   \n",
       "4                            blood   \n",
       "5                           kidney   \n",
       "6                            blood   \n",
       "7                           kidney   \n",
       "8                           kidney   \n",
       "9                            blood   \n",
       "10                          kidney   \n",
       "11                           blood   \n",
       "12                           blood   \n",
       "13                          kidney   \n",
       "14                          kidney   \n",
       "15                           blood   \n",
       "16                          kidney   \n",
       "17                           blood   \n",
       "18                          kidney   \n",
       "19                           blood   \n",
       "20                           blood   \n",
       "21                          kidney   \n",
       "22                           blood   \n",
       "23                          kidney   \n",
       "24                           blood   \n",
       "25                          kidney   \n",
       "26                           blood   \n",
       "27                          kidney   \n",
       "28                          kidney   \n",
       "29                           blood   \n",
       "..                             ...   \n",
       "150                         kidney   \n",
       "151                          blood   \n",
       "152                          blood   \n",
       "153                         kidney   \n",
       "154                         kidney   \n",
       "155                          blood   \n",
       "156                         kidney   \n",
       "157                          blood   \n",
       "158                          blood   \n",
       "159                         kidney   \n",
       "160                         kidney   \n",
       "161                          blood   \n",
       "162                         kidney   \n",
       "163                          blood   \n",
       "164                         kidney   \n",
       "165                          blood   \n",
       "166                         kidney   \n",
       "167                          blood   \n",
       "168                          blood   \n",
       "169                         kidney   \n",
       "170                          blood   \n",
       "171                         kidney   \n",
       "172                         kidney   \n",
       "173                          blood   \n",
       "174                         kidney   \n",
       "175                          blood   \n",
       "176                          blood   \n",
       "177                         kidney   \n",
       "178                          blood   \n",
       "179                         kidney   \n",
       "\n",
       "    Characteristics[collection_event_rank_characteristic]  \\\n",
       "0                                                    1      \n",
       "1                                                    1      \n",
       "2                                                    1      \n",
       "3                                                    1      \n",
       "4                                                    1      \n",
       "5                                                    1      \n",
       "6                                                    1      \n",
       "7                                                    1      \n",
       "8                                                    1      \n",
       "9                                                    1      \n",
       "10                                                   1      \n",
       "11                                                   1      \n",
       "12                                                   1      \n",
       "13                                                   1      \n",
       "14                                                   1      \n",
       "15                                                   1      \n",
       "16                                                   1      \n",
       "17                                                   1      \n",
       "18                                                   1      \n",
       "19                                                   1      \n",
       "20                                                   1      \n",
       "21                                                   1      \n",
       "22                                                   1      \n",
       "23                                                   1      \n",
       "24                                                   1      \n",
       "25                                                   1      \n",
       "26                                                   1      \n",
       "27                                                   1      \n",
       "28                                                   1      \n",
       "29                                                   1      \n",
       "..                                                 ...      \n",
       "150                                                  1      \n",
       "151                                                  1      \n",
       "152                                                  1      \n",
       "153                                                  1      \n",
       "154                                                  1      \n",
       "155                                                  1      \n",
       "156                                                  1      \n",
       "157                                                  1      \n",
       "158                                                  1      \n",
       "159                                                  1      \n",
       "160                                                  1      \n",
       "161                                                  1      \n",
       "162                                                  1      \n",
       "163                                                  1      \n",
       "164                                                  1      \n",
       "165                                                  1      \n",
       "166                                                  1      \n",
       "167                                                  1      \n",
       "168                                                  1      \n",
       "169                                                  1      \n",
       "170                                                  1      \n",
       "171                                                  1      \n",
       "172                                                  1      \n",
       "173                                                  1      \n",
       "174                                                  1      \n",
       "175                                                  1      \n",
       "176                                                  1      \n",
       "177                                                  1      \n",
       "178                                                  1      \n",
       "179                                                  1      \n",
       "\n",
       "       Factor Value[agent] Factor Value[dose] Factor Value[duration]  \n",
       "0                ibuprofen           low dose                   4 hr  \n",
       "1                ibuprofen           low dose                   4 hr  \n",
       "2                ibuprofen           low dose                   4 hr  \n",
       "3                ibuprofen           low dose                   4 hr  \n",
       "4                ibuprofen           low dose                   4 hr  \n",
       "5                ibuprofen           low dose                   4 hr  \n",
       "6                ibuprofen           low dose                   4 hr  \n",
       "7                ibuprofen           low dose                   4 hr  \n",
       "8                ibuprofen           low dose                   4 hr  \n",
       "9                ibuprofen           low dose                   4 hr  \n",
       "10           acetaminophen          high dose                   1 hr  \n",
       "11           acetaminophen          high dose                   1 hr  \n",
       "12           acetaminophen          high dose                   1 hr  \n",
       "13           acetaminophen          high dose                   1 hr  \n",
       "14           acetaminophen          high dose                   1 hr  \n",
       "15           acetaminophen          high dose                   1 hr  \n",
       "16           acetaminophen          high dose                   1 hr  \n",
       "17           acetaminophen          high dose                   1 hr  \n",
       "18           acetaminophen          high dose                   1 hr  \n",
       "19           acetaminophen          high dose                   1 hr  \n",
       "20   acetyl salicylic acid          high dose                   1 hr  \n",
       "21   acetyl salicylic acid          high dose                   1 hr  \n",
       "22   acetyl salicylic acid          high dose                   1 hr  \n",
       "23   acetyl salicylic acid          high dose                   1 hr  \n",
       "24   acetyl salicylic acid          high dose                   1 hr  \n",
       "25   acetyl salicylic acid          high dose                   1 hr  \n",
       "26   acetyl salicylic acid          high dose                   1 hr  \n",
       "27   acetyl salicylic acid          high dose                   1 hr  \n",
       "28   acetyl salicylic acid          high dose                   1 hr  \n",
       "29   acetyl salicylic acid          high dose                   1 hr  \n",
       "..                     ...                ...                    ...  \n",
       "150          acetaminophen          high dose                   2 hr  \n",
       "151          acetaminophen          high dose                   2 hr  \n",
       "152          acetaminophen          high dose                   2 hr  \n",
       "153          acetaminophen          high dose                   2 hr  \n",
       "154          acetaminophen          high dose                   2 hr  \n",
       "155          acetaminophen          high dose                   2 hr  \n",
       "156          acetaminophen          high dose                   2 hr  \n",
       "157          acetaminophen          high dose                   2 hr  \n",
       "158          acetaminophen          high dose                   2 hr  \n",
       "159          acetaminophen          high dose                   2 hr  \n",
       "160              ibuprofen          high dose                   2 hr  \n",
       "161              ibuprofen          high dose                   2 hr  \n",
       "162              ibuprofen          high dose                   2 hr  \n",
       "163              ibuprofen          high dose                   2 hr  \n",
       "164              ibuprofen          high dose                   2 hr  \n",
       "165              ibuprofen          high dose                   2 hr  \n",
       "166              ibuprofen          high dose                   2 hr  \n",
       "167              ibuprofen          high dose                   2 hr  \n",
       "168              ibuprofen          high dose                   2 hr  \n",
       "169              ibuprofen          high dose                   2 hr  \n",
       "170          acetaminophen          high dose                   4 hr  \n",
       "171          acetaminophen          high dose                   4 hr  \n",
       "172          acetaminophen          high dose                   4 hr  \n",
       "173          acetaminophen          high dose                   4 hr  \n",
       "174          acetaminophen          high dose                   4 hr  \n",
       "175          acetaminophen          high dose                   4 hr  \n",
       "176          acetaminophen          high dose                   4 hr  \n",
       "177          acetaminophen          high dose                   4 hr  \n",
       "178          acetaminophen          high dose                   4 hr  \n",
       "179          acetaminophen          high dose                   4 hr  \n",
       "\n",
       "[180 rows x 12 columns]"
      ]
     },
     "execution_count": 66,
     "metadata": {},
     "output_type": "execute_result"
    }
   ],
   "source": [
    "sample_table\n"
   ]
  },
  {
   "cell_type": "code",
   "execution_count": 24,
   "metadata": {},
   "outputs": [
    {
     "name": "stdout",
     "output_type": "stream",
     "text": [
      "Total rows generated: 180\n"
     ]
    }
   ],
   "source": [
    "try:\n",
    "    print('Total rows generated: {}'.format(len(sample_table)))\n",
    "except NameError:\n",
    "    print(\"Need more details to print result\")"
   ]
  },
  {
   "cell_type": "markdown",
   "metadata": {},
   "source": [
    "### Study description and study design type\n"
   ]
  },
  {
   "cell_type": "markdown",
   "metadata": {},
   "source": [
    "Can you set the study description (or abstract) relying in this code snippet?\n",
    "\n",
    "```python\n",
    "isa_study.description = \"... here the text of the description...\"\n",
    "```\n"
   ]
  },
  {
   "cell_type": "code",
   "execution_count": 25,
   "metadata": {
    "collapsed": true
   },
   "outputs": [],
   "source": [
    "### HERE YOUR ANSWER\n",
    "\n",
    "isa_study.description = \"... here the text of the description...\"\n"
   ]
  },
  {
   "cell_type": "code",
   "execution_count": 26,
   "metadata": {
    "collapsed": true
   },
   "outputs": [],
   "source": [
    "### ANSWER\n",
    "\n",
    "isa_study.description = \"*Male Fisher F344 rats* purchased from Charles River were treated with *3 commonly used painkillers*, namely *acetylsalicilic acid, acetaminophen and ibuprofen*, at 2 distinct dose levels, delivered *per os*. *Equal number of animals (n=5) were allocated to each of the group defined by a compound, dose level and duration post exposure combination.* Following sacrifice performed by cervical dislocation and exsanguination preceded by anesthesia (ketamine and xylazine solution), *blood and kidney specimens were collected*. *Total RNA were extracted from Kidney samples and mRNA sequencing (transcription profiling) was performed using paired-end libraries on Illumina sequencing platform using an Illumina HiSeq 2000 instrument*. Blood samples were collected at sacrifice time and immediately placed in precooled 60 percent methanol ammonium bicarbonate buffer to quench cellular metabolism. Blood Metabolites were separated in water-soluble and lipophilic fractions.*Metabolite profiling was performed on the polar metabolite fraction only, using flow injection analysis (FIA) mass spectrometry on an Agilent 6550 iFunnel Q-TOF Mass Sprectrometry platform*. Each fraction was injected twice and data were acquired in both ionization modes (positive mode and negative mode). Raw data files were saved in native instrument format and later converted to HUPO-PSI standard format for mass spectrometry.\""
   ]
  },
  {
   "cell_type": "markdown",
   "metadata": {},
   "source": [
    "Next, we would like to specify the type of study design (and we can set multiple values if necessary). \n",
    "\n",
    "For this, we will build ontology annotations, as we did for the ```StudyFactor`` objects:\n",
    "\n",
    "```python\n",
    "descriptor_1 = OntologyAnnotation(\n",
    "                  term=\"... here the label of the term...\", \n",
    "                  term_source=\"... here the name of the ontology the term comes from...\", \n",
    "                  term_accession=\"... here the URL of the term ...\")\n",
    "```\n",
    "\n",
    "To determine some of the study design descriptors, consider the following questions and use the Ontology Lookup Service to find relevant terms:\n",
    "\n",
    "- is the experiment following an 'intervention design' or an 'observation design'?\n",
    "- is the design 'factorial' or a 'randomized block' design?\n",
    "- is the design 'full' or 'fractional'?"
   ]
  },
  {
   "cell_type": "code",
   "execution_count": 27,
   "metadata": {
    "collapsed": true
   },
   "outputs": [],
   "source": [
    "### HERE DEFINE YOUR DESCRIPTORS"
   ]
  },
  {
   "cell_type": "code",
   "execution_count": 28,
   "metadata": {
    "collapsed": true
   },
   "outputs": [],
   "source": [
    "### ANSWER\n",
    "\n",
    "descriptor_1 = OntologyAnnotation(\n",
    "                term=\"intervention design\",\n",
    "                term_source= \"OBI\",\n",
    "                term_accession=\"http://purl.obolibrary.org/obo/OBI_0000115\"\n",
    "                )\n",
    "\n",
    "descriptor_2 = OntologyAnnotation(\n",
    "                term=\"full factorial design\",\n",
    "                term_source= \"\",\n",
    "                term_accession=\"\"\n",
    "                )\n",
    "\n"
   ]
  },
  {
   "cell_type": "markdown",
   "metadata": {},
   "source": [
    "After you defined the descriptors, you can append them to isa_study.design_descriptors list as follows:\n",
    "\n",
    "```python\n",
    "isa_study.design_descriptors.append(descriptor_1)\n",
    "```\n"
   ]
  },
  {
   "cell_type": "code",
   "execution_count": 29,
   "metadata": {
    "collapsed": true
   },
   "outputs": [],
   "source": [
    "### HERE APPEND ALL THE DESCRIPTORS YOU DEFINED ABOVE"
   ]
  },
  {
   "cell_type": "code",
   "execution_count": 30,
   "metadata": {
    "collapsed": true
   },
   "outputs": [],
   "source": [
    "### ANSWER \n",
    "isa_study.design_descriptors.append(descriptor_1)\n",
    "isa_study.design_descriptors.append(descriptor_2)"
   ]
  },
  {
   "cell_type": "markdown",
   "metadata": {},
   "source": [
    "## Assay and Data Acquisition Plans:\n",
    "\n",
    "From the textual description of the experiment, identify the response or dependent variables."
   ]
  },
  {
   "cell_type": "markdown",
   "metadata": {},
   "source": [
    "In the ISA model, an Assay is defined by the type of measurment it performs and the technology used to obtain the measurements.\n",
    "\n",
    "In the ISA model, there is a series of configuration files that define the vetted values for Measurement Type and Technology type.\n",
    "\n",
    "An ISA configuration can be accessed from: https://github.com/ISA-tools/Configuration-Files/tree/master/isaconfig-default_v2015-07-02\n",
    "\n",
    "Given those lists of configurations, let's define the assay types needed for our experiment.\n",
    "\n",
    "The way to define an assay type is as follows\n",
    "\n",
    "```python\n",
    "assay_type_1= AssayType(measurement_type='...here a supported measurement type...', technology_type='...here a supported technology type...')\n",
    "```\n",
    "Define below the assay types that you can identify from the experiment narrative:"
   ]
  },
  {
   "cell_type": "code",
   "execution_count": 31,
   "metadata": {
    "collapsed": true
   },
   "outputs": [],
   "source": [
    "### HERE YOUR ANSWER\n",
    "assay_type_1= AssayType(measurement_type='...here a supported measurement type...', \n",
    "                        technology_type='...here a supported technology type...')"
   ]
  },
  {
   "cell_type": "code",
   "execution_count": 32,
   "metadata": {
    "collapsed": true
   },
   "outputs": [],
   "source": [
    "#### ANSWER\n",
    "\n",
    "assay_type_1 = AssayType(measurement_type='transcription profiling', technology_type='nucleotide sequencing')\n",
    "assay_type_2 = AssayType(measurement_type='metabolite profiling', technology_type='mass spectrometry')\n"
   ]
  },
  {
   "cell_type": "markdown",
   "metadata": {},
   "source": [
    "Let's now define a set for the assay types:"
   ]
  },
  {
   "cell_type": "code",
   "execution_count": 33,
   "metadata": {
    "collapsed": true
   },
   "outputs": [],
   "source": [
    "assay_types = set()"
   ]
  },
  {
   "cell_type": "markdown",
   "metadata": {
    "collapsed": true
   },
   "source": [
    "You can add the types you defined above to the set as follows:\n",
    "    \n",
    "```python\n",
    "assay_types.add(assay_type_1)\n",
    "```\n",
    "\n",
    "Add all your assay types to the assay_types set below:"
   ]
  },
  {
   "cell_type": "code",
   "execution_count": 34,
   "metadata": {
    "collapsed": true
   },
   "outputs": [],
   "source": [
    "### HERE YOUR ANSWER\n",
    "assay_types.add(assay_type_1)\n"
   ]
  },
  {
   "cell_type": "code",
   "execution_count": 35,
   "metadata": {
    "collapsed": true
   },
   "outputs": [],
   "source": [
    "### ANSWER\n",
    "\n",
    "assay_types.add(assay_type_1)\n",
    "assay_types.add(assay_type_2)\n"
   ]
  },
  {
   "cell_type": "markdown",
   "metadata": {},
   "source": [
    "Let's now visualise the assay types that you created:"
   ]
  },
  {
   "cell_type": "code",
   "execution_count": 36,
   "metadata": {},
   "outputs": [
    {
     "name": "stdout",
     "output_type": "stream",
     "text": [
      "metabolite profiling  using  mass spectrometry\n",
      "transcription profiling  using  nucleotide sequencing\n"
     ]
    }
   ],
   "source": [
    "for x in assay_types:\n",
    "        print(x.measurement_type.term,\" using \", x.technology_type.term)\n"
   ]
  },
  {
   "cell_type": "markdown",
   "metadata": {},
   "source": [
    "## Assay Specific Descriptors\n",
    "Each data acquisition modality comes with its own set of parameters which may be used to capture the underlying workflow graph modifications. This section of the exercise aims to show how to deal with workflows for sequencing and mass spectrometry applications."
   ]
  },
  {
   "cell_type": "markdown",
   "metadata": {},
   "source": [
    "### Dealing with Next Generation Sequencing (NGS) Data Acquisition Plan"
   ]
  },
  {
   "cell_type": "markdown",
   "metadata": {},
   "source": [
    "Select in the following slider the number of technical replicates in the Next Generation Sequence data acquisition plan:"
   ]
  },
  {
   "cell_type": "code",
   "execution_count": 37,
   "metadata": {},
   "outputs": [
    {
     "data": {
      "application/vnd.jupyter.widget-view+json": {
       "model_id": "678410ff9a6e488d87af9b67439baa6a"
      }
     },
     "metadata": {},
     "output_type": "display_data"
    }
   ],
   "source": [
    "ngs_technical_replicates = IntSlider(value=0, min=0, max=5, step=1, description='Technical repeats:', disabled=False, continuous_update=False, orientation='horizontal', readout=True, readout_format='d')\n",
    "ngs_technical_replicates\n",
    "\n"
   ]
  },
  {
   "cell_type": "code",
   "execution_count": 38,
   "metadata": {
    "collapsed": true
   },
   "outputs": [],
   "source": [
    "## ANSWER\n",
    "\n",
    "ngs_technical_replicates.value = 2"
   ]
  },
  {
   "cell_type": "markdown",
   "metadata": {},
   "source": [
    "Let's now identify the instrument and include it in a set:"
   ]
  },
  {
   "cell_type": "code",
   "execution_count": 39,
   "metadata": {
    "collapsed": true
   },
   "outputs": [],
   "source": [
    "### HERE YOUR ANSWER\n",
    "instrument = '... here include the instrument name...'"
   ]
  },
  {
   "cell_type": "code",
   "execution_count": 40,
   "metadata": {
    "collapsed": true
   },
   "outputs": [],
   "source": [
    "### ANSWER\n",
    "instrument = 'Illumina HiSeq 2000'"
   ]
  },
  {
   "cell_type": "code",
   "execution_count": 41,
   "metadata": {
    "collapsed": true
   },
   "outputs": [],
   "source": [
    "sequencing_instruments = set()\n",
    "sequencing_instruments.add(instrument) "
   ]
  },
  {
   "cell_type": "markdown",
   "metadata": {},
   "source": [
    "How many different libraries were used for NGS? Set the value in the slider below (and you can change the default value so that you don't need to change the slider every time you re-run the cell):"
   ]
  },
  {
   "cell_type": "code",
   "execution_count": 42,
   "metadata": {},
   "outputs": [
    {
     "data": {
      "application/vnd.jupyter.widget-view+json": {
       "model_id": "4150ef5e7f3245d98379a9bdbfbdd34f"
      }
     },
     "metadata": {},
     "output_type": "display_data"
    }
   ],
   "source": [
    "ngs_distinct_libraries = IntSlider(value=0, min=0, max=5, step=1, description='Distinct libraries:', disabled=False, continuous_update=False, orientation='horizontal', readout=True, readout_format='d')\n",
    "ngs_distinct_libraries\n"
   ]
  },
  {
   "cell_type": "code",
   "execution_count": 43,
   "metadata": {
    "collapsed": true
   },
   "outputs": [],
   "source": [
    "### ANSWER\n",
    "\n",
    "ngs_distinct_libraries.value = 2"
   ]
  },
  {
   "cell_type": "markdown",
   "metadata": {},
   "source": [
    "The value you selected was:"
   ]
  },
  {
   "cell_type": "code",
   "execution_count": 44,
   "metadata": {},
   "outputs": [
    {
     "data": {
      "text/plain": [
       "2"
      ]
     },
     "execution_count": 44,
     "metadata": {},
     "output_type": "execute_result"
    }
   ],
   "source": [
    "ngs_distinct_libraries.value"
   ]
  },
  {
   "cell_type": "markdown",
   "metadata": {},
   "source": [
    "The NGS parameters that you selected in the previous steps constitute what we call 'topology modifiers'. This name refers to the fact that they affect the shape of the experimental graph that we are considered, where the graph has material entities as nodes and processes as edges.\n",
    "\n",
    "The following code defines a ```DNASeqAssayTopologyModifiers``` object and adds it to the AssayType object you defined before:"
   ]
  },
  {
   "cell_type": "code",
   "execution_count": 45,
   "metadata": {
    "scrolled": true
   },
   "outputs": [
    {
     "name": "stdout",
     "output_type": "stream",
     "text": [
      "DNASeqAssayTopologyModifiers(technical_replicates=2, instruments=['Illumina HiSeq 2000'], distinct_libraries=2)\n"
     ]
    }
   ],
   "source": [
    "top_mods_seq = DNASeqAssayTopologyModifiers(\n",
    "    technical_replicates=ngs_technical_replicates.value, \n",
    "    instruments=sequencing_instruments,\n",
    "    distinct_libraries=ngs_distinct_libraries.value)\n",
    "\n",
    "assay_type_1.topology_modifiers = top_mods_seq\n",
    "\n",
    "print(assay_type_1.topology_modifiers)"
   ]
  },
  {
   "cell_type": "markdown",
   "metadata": {},
   "source": [
    "Now that we have all the information about the NGS assay type, we can add it to the plan:"
   ]
  },
  {
   "cell_type": "code",
   "execution_count": 46,
   "metadata": {
    "collapsed": true
   },
   "outputs": [],
   "source": [
    "plan.add_assay_type(assay_type_1)"
   ]
  },
  {
   "cell_type": "markdown",
   "metadata": {},
   "source": [
    "Finally, for the NGS, we need to identify to what sample type it is applied. Fill in the NGS sample type in the following variable:"
   ]
  },
  {
   "cell_type": "code",
   "execution_count": 47,
   "metadata": {
    "collapsed": true
   },
   "outputs": [],
   "source": [
    "### HERE YOUR ANSWER\n",
    "\n",
    "ngs_sample_type = '... here include the sample type for which NGS is applied...'"
   ]
  },
  {
   "cell_type": "code",
   "execution_count": 48,
   "metadata": {
    "collapsed": true
   },
   "outputs": [],
   "source": [
    "### ANSWER\n",
    "\n",
    "ngs_sample_type = 'kidney'"
   ]
  },
  {
   "cell_type": "markdown",
   "metadata": {},
   "source": [
    "The following code will associate the NGS assay type to the relevant sample type (as per your definition above):"
   ]
  },
  {
   "cell_type": "code",
   "execution_count": 49,
   "metadata": {},
   "outputs": [
    {
     "name": "stdout",
     "output_type": "stream",
     "text": [
      "adding assay for sample_type kidney\n",
      "doing nothing for blood\n"
     ]
    }
   ],
   "source": [
    "for sample_type in plan.sample_types:\n",
    "    if sample_type.value.term == ngs_sample_type:\n",
    "        print('adding assay for sample_type '+sample_type.value.term)\n",
    "        plan.add_assay_plan_record(sample_type.value.term, assay_type_1)\n",
    "        assay_plan = next(iter(plan.assay_plan))\n",
    "    elif sample_type.value.term != ngs_sample_type:\n",
    "        print('doing nothing for '+sample_type.value.term)\n",
    "        "
   ]
  },
  {
   "cell_type": "markdown",
   "metadata": {},
   "source": [
    "Check the assay plan to see if all the representation is as per the experiment narrative:"
   ]
  },
  {
   "cell_type": "code",
   "execution_count": 50,
   "metadata": {},
   "outputs": [
    {
     "name": "stdout",
     "output_type": "stream",
     "text": [
      "Added assay plan: kidney -> transcription profiling/nucleotide sequencing\n",
      "Instruments: ['Illumina HiSeq 2000']\n"
     ]
    }
   ],
   "source": [
    "try:\n",
    "    print('Added assay plan: {0} -> {1}/{2}'.format(assay_plan[0].value.term, assay_plan[1].measurement_type.term, assay_plan[1].technology_type.term))\n",
    "    if len(top_mods_seq.instruments) > 0:\n",
    "        print('Instruments: {}'.format(list(top_mods_seq.instruments)))\n",
    "except NameError:\n",
    "    print(\"Need more details to print assay plan\")"
   ]
  },
  {
   "cell_type": "code",
   "execution_count": 51,
   "metadata": {},
   "outputs": [
    {
     "name": "stdout",
     "output_type": "stream",
     "text": [
      "{\n",
      "    \"assay_plan\": [\n",
      "        {\n",
      "            \"assay_type\": {\n",
      "                \"measurement_type\": \"transcription profiling\",\n",
      "                \"technology_type\": \"nucleotide sequencing\",\n",
      "                \"topology_modifiers\": {\n",
      "                    \"distinct_libraries\": 2,\n",
      "                    \"instruments\": [\n",
      "                        \"Illumina HiSeq 2000\"\n",
      "                    ],\n",
      "                    \"technical_replicates\": 2\n",
      "                }\n",
      "            },\n",
      "            \"sample_type\": \"kidney\"\n",
      "        }\n",
      "    ],\n",
      "    \"assay_types\": [\n",
      "        {\n",
      "            \"measurement_type\": \"transcription profiling\",\n",
      "            \"technology_type\": \"nucleotide sequencing\",\n",
      "            \"topology_modifiers\": {\n",
      "                \"distinct_libraries\": 2,\n",
      "                \"instruments\": [\n",
      "                    \"Illumina HiSeq 2000\"\n",
      "                ],\n",
      "                \"technical_replicates\": 2\n",
      "            }\n",
      "        }\n",
      "    ],\n",
      "    \"group_size\": 5,\n",
      "    \"sample_plan\": [\n",
      "        {\n",
      "            \"sample_type\": \"kidney\",\n",
      "            \"sampling_size\": 1\n",
      "        },\n",
      "        {\n",
      "            \"sample_type\": \"blood\",\n",
      "            \"sampling_size\": 1\n",
      "        }\n",
      "    ],\n",
      "    \"sample_qc_plan\": [],\n",
      "    \"sample_types\": [\n",
      "        \"blood\",\n",
      "        \"kidney\"\n",
      "    ]\n",
      "}\n"
     ]
    }
   ],
   "source": [
    "print(json.dumps(plan, cls=SampleAssayPlanEncoder, sort_keys=True, indent=4, separators=(',', ': ')))"
   ]
  },
  {
   "cell_type": "markdown",
   "metadata": {},
   "source": [
    "### Dealing with Mass Spectrometry Data Acquisition Plan"
   ]
  },
  {
   "cell_type": "markdown",
   "metadata": {},
   "source": [
    "Let's now include the information on the other assay type related to mass spectromentry.\n",
    "We want to identify, when relevant:\n",
    "- the mass spectrometry instrument\n",
    "- the injection mode\n",
    "- the acquisition modes\n",
    "- the chromatography instruments\n",
    "\n",
    "Given the definition of the followin sets, add the relevant elements according to the experiment narrative:"
   ]
  },
  {
   "cell_type": "code",
   "execution_count": 52,
   "metadata": {
    "collapsed": true
   },
   "outputs": [],
   "source": [
    "ms_instruments = set()\n",
    "injection_modes = set()\n",
    "acquisition_modes = set()\n",
    "chromatography_instruments = set()"
   ]
  },
  {
   "cell_type": "code",
   "execution_count": 53,
   "metadata": {
    "collapsed": true
   },
   "outputs": [],
   "source": [
    "### HERE YOUR ANSWER"
   ]
  },
  {
   "cell_type": "code",
   "execution_count": 54,
   "metadata": {
    "collapsed": true
   },
   "outputs": [],
   "source": [
    "### ANSWER \n",
    "ms_instruments.add('agilent') \n",
    "injection_modes.add('FIA')  \n",
    "acquisition_modes.add('positive') \n",
    "acquisition_modes.add('negative') "
   ]
  },
  {
   "cell_type": "markdown",
   "metadata": {},
   "source": [
    "How many technical replicates are used for the mass spectrometry assay? Set the appropriate value below:\n"
   ]
  },
  {
   "cell_type": "code",
   "execution_count": 55,
   "metadata": {
    "collapsed": true
   },
   "outputs": [],
   "source": [
    "### HERE YOUR ANSWER \n",
    "ms_tech_rep = 0"
   ]
  },
  {
   "cell_type": "code",
   "execution_count": 56,
   "metadata": {
    "collapsed": true
   },
   "outputs": [],
   "source": [
    "### ANSWER\n",
    "ms_tech_rep = 1 "
   ]
  },
  {
   "cell_type": "markdown",
   "metadata": {},
   "source": [
    "Given all this information, we are in a position to define an object of the class ```MSAssayTopologyModifiers``` and assign it to the corresponding assay type:"
   ]
  },
  {
   "cell_type": "code",
   "execution_count": 57,
   "metadata": {
    "collapsed": true
   },
   "outputs": [],
   "source": [
    "try:\n",
    "    top_mods_ms = MSAssayTopologyModifiers(\n",
    "          technical_replicates=ms_tech_rep, \n",
    "          injection_modes=injection_modes, \n",
    "          acquisition_modes=acquisition_modes, \n",
    "          instruments=ms_instruments, \n",
    "          chromatography_instruments=chromatography_instruments)\n",
    "\n",
    "    assay_type_2.topology_modifiers = top_mods_ms\n",
    "except NameError:\n",
    "    print(\"There was an assay type left undefined\")"
   ]
  },
  {
   "cell_type": "markdown",
   "metadata": {},
   "source": [
    "Let's see all the settings to check they are as expected:"
   ]
  },
  {
   "cell_type": "code",
   "execution_count": 58,
   "metadata": {},
   "outputs": [
    {
     "name": "stdout",
     "output_type": "stream",
     "text": [
      "no chromatography used or no information supplied\n",
      "Data acquisition instruments: ['agilent']\n",
      "Injection modes: ['FIA']\n",
      "Acquisition modes: ['positive', 'negative']\n"
     ]
    }
   ],
   "source": [
    "if len(top_mods_ms.chromatography_instruments) > 0:\n",
    "    print('Chromatography instruments: {}'.format(list(top_mods_ms.chromatography_instruments)))\n",
    "else:\n",
    "    print('no chromatography used or no information supplied')\n",
    "\n",
    "if len(top_mods_ms.instruments) > 0:\n",
    "    print('Data acquisition instruments: {}'.format(list(top_mods_ms.instruments)))    \n",
    "if len(top_mods_ms.injection_modes) > 0:\n",
    "    print('Injection modes: {}'.format(list(top_mods_ms.injection_modes)))\n",
    "if len(top_mods_ms.acquisition_modes) > 0:\n",
    "    print('Acquisition modes: {}'.format(list(top_mods_ms.acquisition_modes)))\n"
   ]
  },
  {
   "cell_type": "markdown",
   "metadata": {},
   "source": [
    "Then, we add the mass spectrometry assay to the plan:"
   ]
  },
  {
   "cell_type": "code",
   "execution_count": 59,
   "metadata": {
    "collapsed": true
   },
   "outputs": [],
   "source": [
    "try:\n",
    "    plan.add_assay_type(assay_type_2)\n",
    "    plan.add_assay_plan_record(\"blood\", assay_type_2)\n",
    "\n",
    "    assay_plan = next(iter(plan.assay_plan))\n",
    "except NameError:\n",
    "    print(\"There was an assay type left undefined\")"
   ]
  },
  {
   "cell_type": "markdown",
   "metadata": {},
   "source": [
    "And let's see the json representation of the SampleAssayPlan:"
   ]
  },
  {
   "cell_type": "code",
   "execution_count": 60,
   "metadata": {},
   "outputs": [
    {
     "name": "stdout",
     "output_type": "stream",
     "text": [
      "{\n",
      "    \"assay_plan\": [\n",
      "        {\n",
      "            \"assay_type\": {\n",
      "                \"measurement_type\": \"transcription profiling\",\n",
      "                \"technology_type\": \"nucleotide sequencing\",\n",
      "                \"topology_modifiers\": {\n",
      "                    \"distinct_libraries\": 2,\n",
      "                    \"instruments\": [\n",
      "                        \"Illumina HiSeq 2000\"\n",
      "                    ],\n",
      "                    \"technical_replicates\": 2\n",
      "                }\n",
      "            },\n",
      "            \"sample_type\": \"kidney\"\n",
      "        },\n",
      "        {\n",
      "            \"assay_type\": {\n",
      "                \"measurement_type\": \"metabolite profiling\",\n",
      "                \"technology_type\": \"mass spectrometry\",\n",
      "                \"topology_modifiers\": {\n",
      "                    \"acquisition_modes\": [\n",
      "                        \"negative\",\n",
      "                        \"positive\"\n",
      "                    ],\n",
      "                    \"chromatography_instruments\": [],\n",
      "                    \"injection_modes\": [\n",
      "                        \"FIA\"\n",
      "                    ],\n",
      "                    \"instruments\": [\n",
      "                        \"agilent\"\n",
      "                    ],\n",
      "                    \"technical_replicates\": 1\n",
      "                }\n",
      "            },\n",
      "            \"sample_type\": \"blood\"\n",
      "        }\n",
      "    ],\n",
      "    \"assay_types\": [\n",
      "        {\n",
      "            \"measurement_type\": \"metabolite profiling\",\n",
      "            \"technology_type\": \"mass spectrometry\",\n",
      "            \"topology_modifiers\": {\n",
      "                \"acquisition_modes\": [\n",
      "                    \"negative\",\n",
      "                    \"positive\"\n",
      "                ],\n",
      "                \"chromatography_instruments\": [],\n",
      "                \"injection_modes\": [\n",
      "                    \"FIA\"\n",
      "                ],\n",
      "                \"instruments\": [\n",
      "                    \"agilent\"\n",
      "                ],\n",
      "                \"technical_replicates\": 1\n",
      "            }\n",
      "        },\n",
      "        {\n",
      "            \"measurement_type\": \"transcription profiling\",\n",
      "            \"technology_type\": \"nucleotide sequencing\",\n",
      "            \"topology_modifiers\": {\n",
      "                \"distinct_libraries\": 2,\n",
      "                \"instruments\": [\n",
      "                    \"Illumina HiSeq 2000\"\n",
      "                ],\n",
      "                \"technical_replicates\": 2\n",
      "            }\n",
      "        }\n",
      "    ],\n",
      "    \"group_size\": 5,\n",
      "    \"sample_plan\": [\n",
      "        {\n",
      "            \"sample_type\": \"kidney\",\n",
      "            \"sampling_size\": 1\n",
      "        },\n",
      "        {\n",
      "            \"sample_type\": \"blood\",\n",
      "            \"sampling_size\": 1\n",
      "        }\n",
      "    ],\n",
      "    \"sample_qc_plan\": [],\n",
      "    \"sample_types\": [\n",
      "        \"blood\",\n",
      "        \"kidney\"\n",
      "    ]\n",
      "}\n"
     ]
    }
   ],
   "source": [
    "print(json.dumps(plan, \n",
    "                 cls=SampleAssayPlanEncoder, \n",
    "                 sort_keys=True, \n",
    "                 indent=4, \n",
    "                 separators=(',', ': ')))"
   ]
  },
  {
   "cell_type": "markdown",
   "metadata": {},
   "source": [
    "As the last step, we generate assay tables from the information on the Assay Plans and visualise the output files."
   ]
  },
  {
   "cell_type": "code",
   "execution_count": 61,
   "metadata": {},
   "outputs": [
    {
     "name": "stdout",
     "output_type": "stream",
     "text": [
      "A protocol with name \"metabolite extraction\" has already been declared in the study\n",
      "Assay generated: a_kidney_dnaseq_Illumina HiSeq 2000_assay.txt, 90 samples, 540 processes, 180 data files\n",
      "Assay generated: a_blood_ms_FIA_positive_assay.txt, 90 samples, 180 processes, 90 data files\n",
      "Assay generated: a_blood_ms_FIA_negative_assay.txt, 90 samples, 180 processes, 90 data files\n"
     ]
    }
   ],
   "source": [
    "isa_investigation.studies = [isa_object_factory.create_assays_from_plan()]\n",
    "\n",
    "for assay in isa_investigation.studies[-1].assays:\n",
    "    print('Assay generated: {0}, {1} samples, {2} processes, {3} data files'\n",
    "          .format(assay.filename, \n",
    "                  len(assay.samples), \n",
    "                  len(assay.process_sequence), \n",
    "                  len(assay.data_files)))\n",
    "dataframes = dumpdf(isa_investigation)"
   ]
  },
  {
   "cell_type": "code",
   "execution_count": 62,
   "metadata": {},
   "outputs": [
    {
     "data": {
      "application/vnd.jupyter.widget-view+json": {
       "model_id": "503a48b7919c40ee96031511ae3c40a8"
      }
     },
     "metadata": {},
     "output_type": "display_data"
    }
   ],
   "source": [
    "import pandas as pd\n",
    "table = pd.DataFrame()\n",
    "try:\n",
    "    table = dataframes[next(iter(dataframes.keys()))]\n",
    "except StopIteration:\n",
    "    print(\"Need more information to print the table\")\n",
    "    \n",
    "show_grid(table)"
   ]
  },
  {
   "cell_type": "code",
   "execution_count": 63,
   "metadata": {},
   "outputs": [
    {
     "data": {
      "application/vnd.jupyter.widget-view+json": {
       "model_id": "19a21b32387e4ee98323accc32eb3f32"
      }
     },
     "metadata": {},
     "output_type": "display_data"
    }
   ],
   "source": [
    "table = pd.DataFrame()\n",
    "try:\n",
    "    table = dataframes['a_blood_ms_FIA_positive_assay.txt']\n",
    "except KeyError:\n",
    "    print(\"Need more details to print the assay table\")\n",
    "show_grid(table)    "
   ]
  },
  {
   "cell_type": "code",
   "execution_count": 64,
   "metadata": {},
   "outputs": [
    {
     "data": {
      "application/vnd.jupyter.widget-view+json": {
       "model_id": "3ec9c9b42361480e99a61e5f5d2a0499"
      }
     },
     "metadata": {},
     "output_type": "display_data"
    }
   ],
   "source": [
    "table = pd.DataFrame()\n",
    "try:\n",
    "    table = dataframes['a_blood_ms_FIA_negative_assay.txt']\n",
    "except KeyError:\n",
    "    print(\"Need more details to print the assay table\")\n",
    "show_grid(table)    "
   ]
  },
  {
   "cell_type": "code",
   "execution_count": 65,
   "metadata": {},
   "outputs": [
    {
     "data": {
      "application/vnd.jupyter.widget-view+json": {
       "model_id": "e3481b897be44ff2973c8a90627dc61a"
      }
     },
     "metadata": {},
     "output_type": "display_data"
    }
   ],
   "source": [
    "table = pd.DataFrame()\n",
    "try:\n",
    "    table = dataframes['a_kidney_dnaseq_Illumina HiSeq 2000_assay.txt']\n",
    "except KeyError:\n",
    "    print(\"Need more details to print the assay table\")\n",
    "show_grid(table)    "
   ]
  }
 ],
 "metadata": {
  "kernelspec": {
   "display_name": "Python 3",
   "language": "python",
   "name": "python3"
  },
  "language_info": {
   "codemirror_mode": {
    "name": "ipython",
    "version": 3
   },
   "file_extension": ".py",
   "mimetype": "text/x-python",
   "name": "python",
   "nbconvert_exporter": "python",
   "pygments_lexer": "ipython3",
   "version": "3.5.1"
  }
 },
 "nbformat": 4,
 "nbformat_minor": 1
}
